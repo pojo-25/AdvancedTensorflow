{
  "nbformat": 4,
  "nbformat_minor": 0,
  "metadata": {
    "colab": {
      "name": "Yolov3EfficientDetDeneme_03ipynb",
      "provenance": [],
      "collapsed_sections": [],
      "toc_visible": true,
      "include_colab_link": true
    },
    "kernelspec": {
      "name": "python3",
      "display_name": "Python 3"
    },
    "accelerator": "GPU"
  },
  "cells": [
    {
      "cell_type": "markdown",
      "metadata": {
        "id": "view-in-github",
        "colab_type": "text"
      },
      "source": [
        "<a href=\"https://colab.research.google.com/github/pojo-25/AdvancedTensorflow/blob/main/Yolov3EfficientDetDeneme_03ipynb.ipynb\" target=\"_parent\"><img src=\"https://colab.research.google.com/assets/colab-badge.svg\" alt=\"Open In Colab\"/></a>"
      ]
    },
    {
      "cell_type": "markdown",
      "metadata": {
        "id": "rs_M-gWdU8te"
      },
      "source": [
        "# Overview\n",
        "\n",
        "YoloV3 has been the go to model for image detection use cases in application development because of its small size, quick inference time, and portability. Recently, the Google Brain team has released EfficientDet, which has shown promise to perform better under more stringent computational constraints than YoloV3 on COCO (a general image detection task). \n",
        "\n",
        "In this notebook, we put the claims of EfficientDet to the test. We compare the **model size, training time, downstream performance, and inference time** of YoloV3 and EfficientDet-D0 on a custom dataset from Roboflow. To run on your own custom dataset, you only need to change one line of code that you will recieve after uploading your data set to Roboflow!\n",
        "\n",
        "\n",
        "#### ![Post image](https://i.imgur.com/eisthE4.png)\n",
        "\n",
        "Image Citation: http://clipart-library.com/ \n",
        "\n",
        "\n",
        "\n",
        "### **Data Download** \n",
        "\n",
        "We will download our data in two formats from Roboflow. COCO json for EfficientDet and Yolov3 Darknet text. Our data contains examples of labeling chess pieces, which we at Roboflow consider our \"hello world\" for image detection. \n",
        "\n",
        "### **Model training** \n",
        "\n",
        "To familiarize with training EfficientDet with Roboflow [see this blog post](incoming). \n",
        "To familiarize with training YoloV3 with Roboflow [see this blog post](https://blog.roboflow.ai/training-a-yolov3-object-detection-model-with-a-custom-dataset/)\n",
        "\n",
        "Both of our implementations of the two models are in pytorch. \n",
        "\n",
        "### **Measuring training time** \n",
        "\n",
        "In order to measure training time, we train each model to the point of convergence. \n",
        "\n",
        "### **Measuring model size**\n",
        "\n",
        "We look at how much storage is required to host the trained model weights for each implementation\n",
        "\n",
        "### **Measuring downstream performance**\n",
        "\n",
        "We evaluate the mAP (mean Average Precision) on our test set split. \n",
        "\n",
        "### **Measuring Inference Time** \n",
        "\n",
        "We time the average amount of time it takes the model to make inferences on a single shot image detection task. \n",
        "\n",
        "### **Conclusion**\n",
        "\n",
        "What did we find\n",
        "\n",
        "#### ![Roboflow Workmark](https://i.imgur.com/WHFqYSJ.png)\n",
        "\n"
      ]
    },
    {
      "cell_type": "code",
      "metadata": {
        "colab": {
          "base_uri": "https://localhost:8080/"
        },
        "id": "V3gix6uymd35",
        "outputId": "4f25d094-b050-4ace-acf5-6919be962c2f"
      },
      "source": [
        "from google.colab import drive\n",
        "drive.mount('/content/drive')"
      ],
      "execution_count": null,
      "outputs": [
        {
          "output_type": "stream",
          "text": [
            "Mounted at /content/drive\n"
          ],
          "name": "stdout"
        }
      ]
    },
    {
      "cell_type": "markdown",
      "metadata": {
        "id": "xj9AE8yzq6Qr"
      },
      "source": [
        "# Set Up Environment"
      ]
    },
    {
      "cell_type": "code",
      "metadata": {
        "id": "8TCN6M76zpf4",
        "colab": {
          "base_uri": "https://localhost:8080/"
        },
        "outputId": "92a38d81-f19d-4154-ee5f-78cf80b24100"
      },
      "source": [
        "#look at specs\n",
        "!df -h\n"
      ],
      "execution_count": null,
      "outputs": [
        {
          "output_type": "stream",
          "text": [
            "Filesystem      Size  Used Avail Use% Mounted on\n",
            "overlay          69G   33G   37G  48% /\n",
            "tmpfs            64M     0   64M   0% /dev\n",
            "tmpfs           6.4G     0  6.4G   0% /sys/fs/cgroup\n",
            "shm             5.8G     0  5.8G   0% /dev/shm\n",
            "tmpfs           6.4G   28K  6.4G   1% /var/colab\n",
            "/dev/sda1        75G   34G   42G  45% /opt/bin\n",
            "tmpfs           6.4G     0  6.4G   0% /proc/acpi\n",
            "tmpfs           6.4G     0  6.4G   0% /proc/scsi\n",
            "tmpfs           6.4G     0  6.4G   0% /sys/firmware\n",
            "drive            15G  3.2G   12G  21% /content/drive\n"
          ],
          "name": "stdout"
        }
      ]
    },
    {
      "cell_type": "code",
      "metadata": {
        "id": "FjSNEtRjzxLL",
        "colab": {
          "base_uri": "https://localhost:8080/"
        },
        "outputId": "5026c2df-d341-494d-d322-1173d4bd643c"
      },
      "source": [
        "!cat /proc/cpuinfo"
      ],
      "execution_count": null,
      "outputs": [
        {
          "output_type": "stream",
          "text": [
            "processor\t: 0\n",
            "vendor_id\t: GenuineIntel\n",
            "cpu family\t: 6\n",
            "model\t\t: 79\n",
            "model name\t: Intel(R) Xeon(R) CPU @ 2.20GHz\n",
            "stepping\t: 0\n",
            "microcode\t: 0x1\n",
            "cpu MHz\t\t: 2199.998\n",
            "cache size\t: 56320 KB\n",
            "physical id\t: 0\n",
            "siblings\t: 2\n",
            "core id\t\t: 0\n",
            "cpu cores\t: 1\n",
            "apicid\t\t: 0\n",
            "initial apicid\t: 0\n",
            "fpu\t\t: yes\n",
            "fpu_exception\t: yes\n",
            "cpuid level\t: 13\n",
            "wp\t\t: yes\n",
            "flags\t\t: fpu vme de pse tsc msr pae mce cx8 apic sep mtrr pge mca cmov pat pse36 clflush mmx fxsr sse sse2 ss ht syscall nx pdpe1gb rdtscp lm constant_tsc rep_good nopl xtopology nonstop_tsc cpuid tsc_known_freq pni pclmulqdq ssse3 fma cx16 pcid sse4_1 sse4_2 x2apic movbe popcnt aes xsave avx f16c rdrand hypervisor lahf_lm abm 3dnowprefetch invpcid_single ssbd ibrs ibpb stibp fsgsbase tsc_adjust bmi1 hle avx2 smep bmi2 erms invpcid rtm rdseed adx smap xsaveopt arat md_clear arch_capabilities\n",
            "bugs\t\t: cpu_meltdown spectre_v1 spectre_v2 spec_store_bypass l1tf mds swapgs taa\n",
            "bogomips\t: 4399.99\n",
            "clflush size\t: 64\n",
            "cache_alignment\t: 64\n",
            "address sizes\t: 46 bits physical, 48 bits virtual\n",
            "power management:\n",
            "\n",
            "processor\t: 1\n",
            "vendor_id\t: GenuineIntel\n",
            "cpu family\t: 6\n",
            "model\t\t: 79\n",
            "model name\t: Intel(R) Xeon(R) CPU @ 2.20GHz\n",
            "stepping\t: 0\n",
            "microcode\t: 0x1\n",
            "cpu MHz\t\t: 2199.998\n",
            "cache size\t: 56320 KB\n",
            "physical id\t: 0\n",
            "siblings\t: 2\n",
            "core id\t\t: 0\n",
            "cpu cores\t: 1\n",
            "apicid\t\t: 1\n",
            "initial apicid\t: 1\n",
            "fpu\t\t: yes\n",
            "fpu_exception\t: yes\n",
            "cpuid level\t: 13\n",
            "wp\t\t: yes\n",
            "flags\t\t: fpu vme de pse tsc msr pae mce cx8 apic sep mtrr pge mca cmov pat pse36 clflush mmx fxsr sse sse2 ss ht syscall nx pdpe1gb rdtscp lm constant_tsc rep_good nopl xtopology nonstop_tsc cpuid tsc_known_freq pni pclmulqdq ssse3 fma cx16 pcid sse4_1 sse4_2 x2apic movbe popcnt aes xsave avx f16c rdrand hypervisor lahf_lm abm 3dnowprefetch invpcid_single ssbd ibrs ibpb stibp fsgsbase tsc_adjust bmi1 hle avx2 smep bmi2 erms invpcid rtm rdseed adx smap xsaveopt arat md_clear arch_capabilities\n",
            "bugs\t\t: cpu_meltdown spectre_v1 spectre_v2 spec_store_bypass l1tf mds swapgs taa\n",
            "bogomips\t: 4399.99\n",
            "clflush size\t: 64\n",
            "cache_alignment\t: 64\n",
            "address sizes\t: 46 bits physical, 48 bits virtual\n",
            "power management:\n",
            "\n"
          ],
          "name": "stdout"
        }
      ]
    },
    {
      "cell_type": "code",
      "metadata": {
        "id": "ZMK5PKXtz12h",
        "colab": {
          "base_uri": "https://localhost:8080/"
        },
        "outputId": "47710910-0aa7-4868-cb5c-70f2fb4df81f"
      },
      "source": [
        "!cat /proc/meminfo"
      ],
      "execution_count": null,
      "outputs": [
        {
          "output_type": "stream",
          "text": [
            "MemTotal:       13333596 kB\n",
            "MemFree:        10200888 kB\n",
            "MemAvailable:   12459244 kB\n",
            "Buffers:           91772 kB\n",
            "Cached:          2309504 kB\n",
            "SwapCached:            0 kB\n",
            "Active:           787860 kB\n",
            "Inactive:        2036296 kB\n",
            "Active(anon):     391944 kB\n",
            "Inactive(anon):      380 kB\n",
            "Active(file):     395916 kB\n",
            "Inactive(file):  2035916 kB\n",
            "Unevictable:           0 kB\n",
            "Mlocked:               0 kB\n",
            "SwapTotal:             0 kB\n",
            "SwapFree:              0 kB\n",
            "Dirty:              5252 kB\n",
            "Writeback:             0 kB\n",
            "AnonPages:        422884 kB\n",
            "Mapped:           240804 kB\n",
            "Shmem:              1036 kB\n",
            "Slab:             177396 kB\n",
            "SReclaimable:     134464 kB\n",
            "SUnreclaim:        42932 kB\n",
            "KernelStack:        4804 kB\n",
            "PageTables:         6088 kB\n",
            "NFS_Unstable:          0 kB\n",
            "Bounce:                0 kB\n",
            "WritebackTmp:          0 kB\n",
            "CommitLimit:     6666796 kB\n",
            "Committed_AS:    3252656 kB\n",
            "VmallocTotal:   34359738367 kB\n",
            "VmallocUsed:           0 kB\n",
            "VmallocChunk:          0 kB\n",
            "Percpu:             1048 kB\n",
            "AnonHugePages:         0 kB\n",
            "ShmemHugePages:        0 kB\n",
            "ShmemPmdMapped:        0 kB\n",
            "HugePages_Total:       0\n",
            "HugePages_Free:        0\n",
            "HugePages_Rsvd:        0\n",
            "HugePages_Surp:        0\n",
            "Hugepagesize:       2048 kB\n",
            "Hugetlb:               0 kB\n",
            "DirectMap4k:      128232 kB\n",
            "DirectMap2M:     6162432 kB\n",
            "DirectMap1G:     9437184 kB\n"
          ],
          "name": "stdout"
        }
      ]
    },
    {
      "cell_type": "code",
      "metadata": {
        "id": "AM8VHd16UuYm",
        "colab": {
          "base_uri": "https://localhost:8080/"
        },
        "outputId": "500ac523-5f67-4a5a-8e93-2156a4405304"
      },
      "source": [
        "#first set up for EfficientDet\n",
        "#our fork of the Tessellate-Imaging image detection library\n",
        "#!rm -rf Monk_Object_Detection\n",
        "! git clone https://github.com/roboflow-ai/Monk_Object_Detection.git\n",
        "# For colab use the command below\n",
        "# Set up library requirments\n",
        "! cd Monk_Object_Detection/3_mxrcnn/installation && cat requirements_colab.txt | xargs -n 1 -L 1 pip install\n",
        "#fixed version of tqdm output for Colab\n",
        "!pip install --force https://github.com/chengs/tqdm/archive/colab.zip\n",
        "#IGNORE restart runtime warning, it is indeed installed\n",
        "#missing a few extra packages that we will need later! \n",
        "!pip install efficientnet_pytorch\n",
        "!pip install tensorboardX\n",
        "\n",
        "\n",
        "#second set up for YOLOv3\n",
        "import os\n",
        "import torch\n",
        "from IPython.display import Image, clear_output \n",
        "print('PyTorch %s %s' % (torch.__version__, torch.cuda.get_device_properties(0) if torch.cuda.is_available() else 'CPU'))\n",
        "!git clone https://github.com/roboflow-ai/yolov3  # clone\n"
      ],
      "execution_count": null,
      "outputs": [
        {
          "output_type": "stream",
          "text": [
            "Cloning into 'Monk_Object_Detection'...\n",
            "remote: Enumerating objects: 3747, done.\u001b[K\n",
            "remote: Total 3747 (delta 0), reused 0 (delta 0), pack-reused 3747\u001b[K\n",
            "Receiving objects: 100% (3747/3747), 132.20 MiB | 37.48 MiB/s, done.\n",
            "Resolving deltas: 100% (800/800), done.\n",
            "Checking out files: 100% (4032/4032), done.\n",
            "Collecting mxnet-cu100\n",
            "\u001b[?25l  Downloading https://files.pythonhosted.org/packages/cf/49/2876c87397592fdb2cca87928d538c9969adb7d271927ef36cb69d62fc63/mxnet_cu100-1.7.0-py2.py3-none-manylinux2014_x86_64.whl (827.8MB)\n",
            "\u001b[K     |████████████████████████████████| 827.8MB 21kB/s \n",
            "\u001b[?25hRequirement already satisfied: requests<3,>=2.20.0 in /usr/local/lib/python3.6/dist-packages (from mxnet-cu100) (2.23.0)\n",
            "Requirement already satisfied: numpy<2.0.0,>1.16.0 in /usr/local/lib/python3.6/dist-packages (from mxnet-cu100) (1.19.5)\n",
            "Collecting graphviz<0.9.0,>=0.8.1\n",
            "  Downloading https://files.pythonhosted.org/packages/53/39/4ab213673844e0c004bed8a0781a0721a3f6bb23eb8854ee75c236428892/graphviz-0.8.4-py2.py3-none-any.whl\n",
            "Requirement already satisfied: urllib3!=1.25.0,!=1.25.1,<1.26,>=1.21.1 in /usr/local/lib/python3.6/dist-packages (from requests<3,>=2.20.0->mxnet-cu100) (1.24.3)\n",
            "Requirement already satisfied: chardet<4,>=3.0.2 in /usr/local/lib/python3.6/dist-packages (from requests<3,>=2.20.0->mxnet-cu100) (3.0.4)\n",
            "Requirement already satisfied: certifi>=2017.4.17 in /usr/local/lib/python3.6/dist-packages (from requests<3,>=2.20.0->mxnet-cu100) (2020.12.5)\n",
            "Requirement already satisfied: idna<3,>=2.5 in /usr/local/lib/python3.6/dist-packages (from requests<3,>=2.20.0->mxnet-cu100) (2.10)\n",
            "Installing collected packages: graphviz, mxnet-cu100\n",
            "  Found existing installation: graphviz 0.10.1\n",
            "    Uninstalling graphviz-0.10.1:\n",
            "      Successfully uninstalled graphviz-0.10.1\n",
            "Successfully installed graphviz-0.8.4 mxnet-cu100-1.7.0\n",
            "Collecting dicttoxml\n",
            "  Downloading https://files.pythonhosted.org/packages/74/36/534db111db9e7610a41641a1f6669a964aacaf51858f466de264cc8dcdd9/dicttoxml-1.7.4.tar.gz\n",
            "Building wheels for collected packages: dicttoxml\n",
            "  Building wheel for dicttoxml (setup.py) ... \u001b[?25l\u001b[?25hdone\n",
            "  Created wheel for dicttoxml: filename=dicttoxml-1.7.4-cp36-none-any.whl size=17452 sha256=7784ba8a2045ead7b930fd1246aec0eda827185e8af82064a049edb2ced03371\n",
            "  Stored in directory: /root/.cache/pip/wheels/62/4f/a3/afd4a68f5add45a668c14efa53b64d5cffb2be6bacf993c151\n",
            "Successfully built dicttoxml\n",
            "Installing collected packages: dicttoxml\n",
            "Successfully installed dicttoxml-1.7.4\n",
            "Collecting xmltodict\n",
            "  Downloading https://files.pythonhosted.org/packages/28/fd/30d5c1d3ac29ce229f6bdc40bbc20b28f716e8b363140c26eff19122d8a5/xmltodict-0.12.0-py2.py3-none-any.whl\n",
            "Installing collected packages: xmltodict\n",
            "Successfully installed xmltodict-0.12.0\n",
            "Requirement already satisfied: pycocotools from git+https://github.com/abhi-kumar/cocoapi.git#egg=pycocotools&subdirectory=PythonAPI in /usr/local/lib/python3.6/dist-packages (2.0.2)\n",
            "Requirement already satisfied: setuptools>=18.0 in /usr/local/lib/python3.6/dist-packages (from pycocotools) (51.3.3)\n",
            "Requirement already satisfied: matplotlib>=2.1.0 in /usr/local/lib/python3.6/dist-packages (from pycocotools) (3.2.2)\n",
            "Requirement already satisfied: cython>=0.27.3 in /usr/local/lib/python3.6/dist-packages (from pycocotools) (0.29.21)\n",
            "Requirement already satisfied: python-dateutil>=2.1 in /usr/local/lib/python3.6/dist-packages (from matplotlib>=2.1.0->pycocotools) (2.8.1)\n",
            "Requirement already satisfied: pyparsing!=2.0.4,!=2.1.2,!=2.1.6,>=2.0.1 in /usr/local/lib/python3.6/dist-packages (from matplotlib>=2.1.0->pycocotools) (2.4.7)\n",
            "Requirement already satisfied: cycler>=0.10 in /usr/local/lib/python3.6/dist-packages (from matplotlib>=2.1.0->pycocotools) (0.10.0)\n",
            "Requirement already satisfied: kiwisolver>=1.0.1 in /usr/local/lib/python3.6/dist-packages (from matplotlib>=2.1.0->pycocotools) (1.3.1)\n",
            "Requirement already satisfied: numpy>=1.11 in /usr/local/lib/python3.6/dist-packages (from matplotlib>=2.1.0->pycocotools) (1.19.5)\n",
            "Requirement already satisfied: six>=1.5 in /usr/local/lib/python3.6/dist-packages (from python-dateutil>=2.1->matplotlib>=2.1.0->pycocotools) (1.15.0)\n",
            "Collecting https://github.com/chengs/tqdm/archive/colab.zip\n",
            "\u001b[?25l  Downloading https://github.com/chengs/tqdm/archive/colab.zip\n",
            "\u001b[K     \\ 184kB 13.5MB/s\n",
            "\u001b[?25hBuilding wheels for collected packages: tqdm\n",
            "  Building wheel for tqdm (setup.py) ... \u001b[?25l\u001b[?25hdone\n",
            "  Created wheel for tqdm: filename=tqdm-4.28.1-py2.py3-none-any.whl size=47868 sha256=26e1cb284b4a6522a18006ecef6c8a1070feed473a6c6094de0028f2818f1288\n",
            "  Stored in directory: /tmp/pip-ephem-wheel-cache-7b4se3ln/wheels/41/18/ee/d5dd158441b27965855b1bbae03fa2d8a91fe645c01b419896\n",
            "Successfully built tqdm\n",
            "\u001b[31mERROR: spacy 2.2.4 has requirement tqdm<5.0.0,>=4.38.0, but you'll have tqdm 4.28.1 which is incompatible.\u001b[0m\n",
            "\u001b[31mERROR: fbprophet 0.7.1 has requirement tqdm>=4.36.1, but you'll have tqdm 4.28.1 which is incompatible.\u001b[0m\n",
            "Installing collected packages: tqdm\n",
            "  Found existing installation: tqdm 4.41.1\n",
            "    Uninstalling tqdm-4.41.1:\n",
            "      Successfully uninstalled tqdm-4.41.1\n",
            "Successfully installed tqdm-4.28.1\n",
            "Collecting efficientnet_pytorch\n",
            "  Downloading https://files.pythonhosted.org/packages/4e/83/f9c5f44060f996279e474185ebcbd8dbd91179593bffb9abe3afa55d085b/efficientnet_pytorch-0.7.0.tar.gz\n",
            "Requirement already satisfied: torch in /usr/local/lib/python3.6/dist-packages (from efficientnet_pytorch) (1.7.0+cu101)\n",
            "Requirement already satisfied: numpy in /usr/local/lib/python3.6/dist-packages (from torch->efficientnet_pytorch) (1.19.5)\n",
            "Requirement already satisfied: future in /usr/local/lib/python3.6/dist-packages (from torch->efficientnet_pytorch) (0.16.0)\n",
            "Requirement already satisfied: typing-extensions in /usr/local/lib/python3.6/dist-packages (from torch->efficientnet_pytorch) (3.7.4.3)\n",
            "Requirement already satisfied: dataclasses in /usr/local/lib/python3.6/dist-packages (from torch->efficientnet_pytorch) (0.8)\n",
            "Building wheels for collected packages: efficientnet-pytorch\n",
            "  Building wheel for efficientnet-pytorch (setup.py) ... \u001b[?25l\u001b[?25hdone\n",
            "  Created wheel for efficientnet-pytorch: filename=efficientnet_pytorch-0.7.0-cp36-none-any.whl size=16032 sha256=e0d43e013c9901769c7846ce0e7b46c4df8735138a4d64a497ce2b7b8c7e2732\n",
            "  Stored in directory: /root/.cache/pip/wheels/e9/c6/e1/7a808b26406239712cfce4b5ceeb67d9513ae32aa4b31445c6\n",
            "Successfully built efficientnet-pytorch\n",
            "Installing collected packages: efficientnet-pytorch\n",
            "Successfully installed efficientnet-pytorch-0.7.0\n",
            "Collecting tensorboardX\n",
            "\u001b[?25l  Downloading https://files.pythonhosted.org/packages/af/0c/4f41bcd45db376e6fe5c619c01100e9b7531c55791b7244815bac6eac32c/tensorboardX-2.1-py2.py3-none-any.whl (308kB)\n",
            "\u001b[K     |████████████████████████████████| 317kB 18.2MB/s \n",
            "\u001b[?25hRequirement already satisfied: six in /usr/local/lib/python3.6/dist-packages (from tensorboardX) (1.15.0)\n",
            "Requirement already satisfied: numpy in /usr/local/lib/python3.6/dist-packages (from tensorboardX) (1.19.5)\n",
            "Requirement already satisfied: protobuf>=3.8.0 in /usr/local/lib/python3.6/dist-packages (from tensorboardX) (3.12.4)\n",
            "Requirement already satisfied: setuptools in /usr/local/lib/python3.6/dist-packages (from protobuf>=3.8.0->tensorboardX) (51.3.3)\n",
            "Installing collected packages: tensorboardX\n",
            "Successfully installed tensorboardX-2.1\n",
            "PyTorch 1.7.0+cu101 _CudaDeviceProperties(name='Tesla T4', major=7, minor=5, total_memory=15079MB, multi_processor_count=40)\n",
            "Cloning into 'yolov3'...\n",
            "remote: Enumerating objects: 8443, done.\u001b[K\n",
            "remote: Total 8443 (delta 0), reused 0 (delta 0), pack-reused 8443\u001b[K\n",
            "Receiving objects: 100% (8443/8443), 6.89 MiB | 31.64 MiB/s, done.\n",
            "Resolving deltas: 100% (5825/5825), done.\n"
          ],
          "name": "stdout"
        }
      ]
    },
    {
      "cell_type": "markdown",
      "metadata": {
        "id": "2Lj8YPQpr-lt"
      },
      "source": [
        "# Retrieve Data and Set Up Data Directories"
      ]
    },
    {
      "cell_type": "code",
      "metadata": {
        "id": "rNLd17ssr2k_",
        "colab": {
          "base_uri": "https://localhost:8080/"
        },
        "outputId": "13f0144c-e0f3-4a33-c952-fb8861b67527"
      },
      "source": [
        "#input your COCO json link here \n",
        "!mkdir ed_data\n",
        "%cd ed_data\n",
        "!curl -L \"https://app.roboflow.com/ds/hUizd2qo2z?key=bgrDbpVnNd\" > roboflow.zip; unzip roboflow.zip; rm roboflow.zip"
      ],
      "execution_count": null,
      "outputs": [
        {
          "output_type": "stream",
          "text": [
            "/content/ed_data\n",
            "  % Total    % Received % Xferd  Average Speed   Time    Time     Time  Current\n",
            "                                 Dload  Upload   Total   Spent    Left  Speed\n",
            "100   888  100   888    0     0   1315      0 --:--:-- --:--:-- --:--:--  1313\n",
            "100 21.9M  100 21.9M    0     0  24.6M      0 --:--:-- --:--:-- --:--:-- 24.6M\n",
            "Archive:  roboflow.zip\n",
            " extracting: README.roboflow.txt     \n",
            "   creating: test/\n",
            " extracting: test/_annotations.coco.json  \n",
            " extracting: test/img104_png.rf.14d4a786fbf69dcc683def4e78965a85.jpg  \n",
            " extracting: test/img107_png.rf.cd910224fbc56ebb2ef95373e0a5e038.jpg  \n",
            " extracting: test/img124_png.rf.de0d384967047520a148f25953ed8cb1.jpg  \n",
            " extracting: test/img140_png.rf.87db1a5c1267a7d76ed91372d05c8bc6.jpg  \n",
            " extracting: test/img145_png.rf.cb601f2a04d7a401d6a907667f980ac3.jpg  \n",
            " extracting: test/img146_png.rf.f23797e3de67ccbf7f1c2143197b3b17.jpg  \n",
            " extracting: test/img149_png.rf.e3dc00286bffb2d15d557a2903690bd9.jpg  \n",
            " extracting: test/img153_png.rf.c2347312df1b91bf79e253de41f4b770.jpg  \n",
            " extracting: test/img155_png.rf.319f9f71a2c56621bdb45489503c8130.jpg  \n",
            " extracting: test/img156_png.rf.5ea3bad30fed8b44034fd55edfd83923.jpg  \n",
            " extracting: test/img188_png.rf.ab78fad8c0bbcedb5fd91e12e9c4a465.jpg  \n",
            " extracting: test/img194_png.rf.691735123822c86442bbdd4333f87a4f.jpg  \n",
            " extracting: test/img200_png.rf.0aae4717f02ee1cc0f50f5fd56cd0781.jpg  \n",
            " extracting: test/img210_png.rf.4a1d5c3f3859987aaf83993138387e4b.jpg  \n",
            " extracting: test/img215_png.rf.eb65a1f35d3b349569a8088793e31108.jpg  \n",
            " extracting: test/img236_png.rf.ff5ded1539b635b119e7aad9187c1f7e.jpg  \n",
            " extracting: test/img250_png.rf.f07cd896b175a1d79a5d5c57b85ab5dc.jpg  \n",
            " extracting: test/img259_png.rf.34aeffb14fc82140f4d4c82a0929ffe6.jpg  \n",
            " extracting: test/img273_png.rf.382e6e52df34390d39daa00dc47a7e1c.jpg  \n",
            " extracting: test/img280_png.rf.a205cf5499ed1f8cb41c18850edbff1a.jpg  \n",
            " extracting: test/img286_png.rf.cacc154c861334991cdd0d5a46372d16.jpg  \n",
            " extracting: test/img289_png.rf.c04b736b83edc9556b990a047f43ccba.jpg  \n",
            " extracting: test/img29_png.rf.7494a07052a3792908eb68e9faf07a23.jpg  \n",
            " extracting: test/img310_png.rf.8375662d408b18b0952ad0e0e6a2d1cb.jpg  \n",
            " extracting: test/img311_png.rf.9aee206fec9e75b5f78e77b68b1c30c8.jpg  \n",
            " extracting: test/img322_png.rf.f058405cc1a405c1a2d65eccd1f55daa.jpg  \n",
            " extracting: test/img333_png.rf.ca04fe6ea5a8aae52836808ca33d8a5b.jpg  \n",
            " extracting: test/img336_png.rf.2308167a5171a1fb97e328fbcbba1d48.jpg  \n",
            " extracting: test/img359_png.rf.3254e594054b1a55cbf104a2623dcf64.jpg  \n",
            " extracting: test/img35_png.rf.dd4d28096e93d1ad0b13a0ffc6a7f3f9.jpg  \n",
            " extracting: test/img364_png.rf.6f3b16d79d24cb083da4c60fddb65e4b.jpg  \n",
            " extracting: test/img371_png.rf.9d41bbdff72a015979dbf297c8b72101.jpg  \n",
            " extracting: test/img374_png.rf.e3b8b2afcafb8dad107392e575a1753c.jpg  \n",
            " extracting: test/img383_png.rf.0b1e8f619e46c37ce8e6433e4ccb77d0.jpg  \n",
            " extracting: test/img400_png.rf.34fa9ef18437561d4922f69c1dec2e5a.jpg  \n",
            " extracting: test/img439_png.rf.c32b4fb317ecfe723708a71fb1097c74.jpg  \n",
            " extracting: test/img448_png.rf.524b66bd83f1d767f7ccab443d6fb6c9.jpg  \n",
            " extracting: test/img455_png.rf.1229b3e1b0f8989250785d45eeff1ae0.jpg  \n",
            " extracting: test/img458_png.rf.ea4d2745f444214e50be53cd6a4df483.jpg  \n",
            " extracting: test/img460_png.rf.f118d37c0da53cc6d666479ff5a74eeb.jpg  \n",
            " extracting: test/img463_png.rf.6ba81ea15d5236d00483602c15e08c07.jpg  \n",
            " extracting: test/img468_png.rf.1b1d21e7c6c4f09287d7607f636c8365.jpg  \n",
            " extracting: test/img46_png.rf.c2452998eff2a3512c05bc2f9328903d.jpg  \n",
            " extracting: test/img484_png.rf.3bda1ed1cd6cb0dbab9c001f69ecc665.jpg  \n",
            " extracting: test/img48_png.rf.726ddcdb5e14d1f16f02f4651f0ab8d4.jpg  \n",
            " extracting: test/img499_png.rf.cfb37215c6d75395ebba1f269802f5f3.jpg  \n",
            " extracting: test/img60_png.rf.3765f8a5d13117d1935333b2a252f64f.jpg  \n",
            " extracting: test/img66_png.rf.201f69848a4be613f71f22e52797ae20.jpg  \n",
            " extracting: test/img73_png.rf.9e327b4e8695bb66194d2e6a937e4ee9.jpg  \n",
            " extracting: test/img89_png.rf.c2452f559ed6aacc4f13ddcbe9540ec1.jpg  \n",
            "   creating: train/\n",
            " extracting: train/_annotations.coco.json  \n",
            " extracting: train/img101_png.rf.5c493b282d3dbfe6f9783a00231c5fd7.jpg  \n",
            " extracting: train/img102_png.rf.3f913e5313521f4aa6242c05014ea7c5.jpg  \n",
            " extracting: train/img103_png.rf.11f895a087425bfa98f63e7f1abffe58.jpg  \n",
            " extracting: train/img105_png.rf.b399dece2778c6a688a840556dfaf506.jpg  \n",
            " extracting: train/img106_png.rf.a59fd410590bea912ee101953d4a9a6f.jpg  \n",
            " extracting: train/img108_png.rf.f05928e8e66eb07b3b2d3849eb5e385c.jpg  \n",
            " extracting: train/img109_png.rf.70d8baade3575f2c2cc8ae98ac0a56e9.jpg  \n",
            " extracting: train/img110_png.rf.1a3c34cdb9ddbf95c1008c88cc0407ea.jpg  \n",
            " extracting: train/img111_png.rf.cca393898420bb841b1dfad0ce2ab1a8.jpg  \n",
            " extracting: train/img112_png.rf.9ccfea1dead9f4c7d8bf73bf4df418e6.jpg  \n",
            " extracting: train/img113_png.rf.aecd0bd96ec41d824efdbdd3e90d8624.jpg  \n",
            " extracting: train/img114_png.rf.4bfba10aa522b19508b62ab25f133305.jpg  \n",
            " extracting: train/img115_png.rf.3ebd8586ab0053732c4d06f477f679ac.jpg  \n",
            " extracting: train/img117_png.rf.8fd6ac9b9627f340a6a19f57fbf46495.jpg  \n",
            " extracting: train/img118_png.rf.1d30806e5b44bb90494f2f0bdb5b7d36.jpg  \n",
            " extracting: train/img119_png.rf.e370e1b39452dd227dbb8b8f630ee24a.jpg  \n",
            " extracting: train/img11_png.rf.5bbb2ec15d59576422e7f495246b7a12.jpg  \n",
            " extracting: train/img120_png.rf.e15faea8e7562ebc70f77832fff7ca76.jpg  \n",
            " extracting: train/img121_png.rf.3a65eaff93aed74dda82fa7004cd7867.jpg  \n",
            " extracting: train/img122_png.rf.eccd7d0d359ea66b911fe76cabc68e89.jpg  \n",
            " extracting: train/img123_png.rf.d68ac097f5fb4f59ff23d506bc61c7de.jpg  \n",
            " extracting: train/img125_png.rf.edb211bf65897c2da121cfe9ff23727c.jpg  \n",
            " extracting: train/img126_png.rf.19269cff8f4f6ef0977bf0433341932a.jpg  \n",
            " extracting: train/img127_png.rf.729481c3ad15f0b9f602252ff432ea7b.jpg  \n",
            " extracting: train/img128_png.rf.9fdbfcd2d2fca9ffd2c428a099ac0777.jpg  \n",
            " extracting: train/img129_png.rf.e806a1c8f1de04a8e0bc77369254b7fa.jpg  \n",
            " extracting: train/img12_png.rf.c109e6d78cf3939f8b35200fbd86d428.jpg  \n",
            " extracting: train/img130_png.rf.03b535bcf6eb9a64f845ab1a73f4da2f.jpg  \n",
            " extracting: train/img132_png.rf.028ccecf2449efbb134be9cbc7cec8a2.jpg  \n",
            " extracting: train/img133_png.rf.30c749ea0ceb7679645525f1f4392894.jpg  \n",
            " extracting: train/img134_png.rf.107f7d53e7faa83eebf4972bd7ba4d10.jpg  \n",
            " extracting: train/img135_png.rf.847d38e4038597cedfc00b1050e30a15.jpg  \n",
            " extracting: train/img137_png.rf.4c209115c0955e323fe249ec0896dff0.jpg  \n",
            " extracting: train/img138_png.rf.7483eecb43b40b65145e481cbc6e0799.jpg  \n",
            " extracting: train/img139_png.rf.c8bbec36fc3b67192958f47042e08670.jpg  \n",
            " extracting: train/img13_png.rf.28421e39511885663c1bb51b52f648e3.jpg  \n",
            " extracting: train/img141_png.rf.0f69c07abf4a549a29d9f00b64c3fca1.jpg  \n",
            " extracting: train/img142_png.rf.bf6fa10aa7dde47754051dc36b12f1f2.jpg  \n",
            " extracting: train/img143_png.rf.5df21fd33def09a247624a26f3e6c14b.jpg  \n",
            " extracting: train/img148_png.rf.bbcd6201c09012ae13755105100500b4.jpg  \n",
            " extracting: train/img14_png.rf.d819cc4a41314c6316c91528b8c610e5.jpg  \n",
            " extracting: train/img150_png.rf.cd684d4c00c88ef2a768616ee167a12b.jpg  \n",
            " extracting: train/img151_png.rf.d92d53d07641fdcc5cc83a1962530e12.jpg  \n",
            " extracting: train/img152_png.rf.b71dae5ec2c66b1ad8d3ba9b3f87f838.jpg  \n",
            " extracting: train/img154_png.rf.48a3e925c56f796ddebc5ce123277b35.jpg  \n",
            " extracting: train/img157_png.rf.4b3ce8a71b9b8bfd034d87a3449812cd.jpg  \n",
            " extracting: train/img158_png.rf.ec5754608653d3034f808babb74819af.jpg  \n",
            " extracting: train/img159_png.rf.8a116395ea80bc1b20df95365f160706.jpg  \n",
            " extracting: train/img15_png.rf.094c5f1d9cc2959f56b0b58ea6a72c00.jpg  \n",
            " extracting: train/img160_png.rf.fb17a03f96566b3a656cafd0f2d2536e.jpg  \n",
            " extracting: train/img161_png.rf.cac7650d8af77d46dbb51d3e0ea347cd.jpg  \n",
            " extracting: train/img163_png.rf.4dc6c442eb506214c126d4cb788491f2.jpg  \n",
            " extracting: train/img164_png.rf.d5c874dac0ef18672fc809cb4c2f287e.jpg  \n",
            " extracting: train/img165_png.rf.7b9b366f86cb74b08387002da2467e25.jpg  \n",
            " extracting: train/img166_png.rf.e29a011bca126c8300fb67cd10c22df8.jpg  \n",
            " extracting: train/img167_png.rf.18968185ad224aa91236f17b69ac898a.jpg  \n",
            " extracting: train/img168_png.rf.467210aa6161312636f710812dd057eb.jpg  \n",
            " extracting: train/img169_png.rf.3a85c4e7f9130fe11eee66c422773c23.jpg  \n",
            " extracting: train/img16_png.rf.d51d65e96393fad47143efa974dedf64.jpg  \n",
            " extracting: train/img170_png.rf.4f1e6d76e90e8d13b2d185e320a0379a.jpg  \n",
            " extracting: train/img172_png.rf.7cd9b27430223d62532bbbb00fb374ea.jpg  \n",
            " extracting: train/img173_png.rf.bf87d0a78752711903a7fa6703c4f2f8.jpg  \n",
            " extracting: train/img174_png.rf.efbbb7eb40cec12176d3d2afd09712b0.jpg  \n",
            " extracting: train/img175_png.rf.5e6cef383aba3109914dc4d39003e0be.jpg  \n",
            " extracting: train/img176_png.rf.0dbb2600d34cb6091302a37be497fbf1.jpg  \n",
            " extracting: train/img178_png.rf.1e7c0e185b8419e04ed9f21b1d319fa0.jpg  \n",
            " extracting: train/img179_png.rf.261fe64db9310c541168000098e43ba1.jpg  \n",
            " extracting: train/img17_png.rf.f1cab3daa340b7140db9d6c3495d17eb.jpg  \n",
            " extracting: train/img181_png.rf.17c9fa80c22940326295d07773a37288.jpg  \n",
            " extracting: train/img182_png.rf.f808a6b2826bb4ba1bc342b42b796c2a.jpg  \n",
            " extracting: train/img183_png.rf.92317e6a3b4744e8fa7ce9536eafff58.jpg  \n",
            " extracting: train/img184_png.rf.573dfaf76fbe59c345cdca30448db035.jpg  \n",
            " extracting: train/img185_png.rf.9cda774223c069814864569915758591.jpg  \n",
            " extracting: train/img186_png.rf.7a7674f757b7efdd409ccaab2ba1b3f5.jpg  \n",
            " extracting: train/img187_png.rf.0be7d34e2bd5e3dbc4207194fa090c0d.jpg  \n",
            " extracting: train/img189_png.rf.86edad297062a9ee794d3b4e64aa1a2a.jpg  \n",
            " extracting: train/img18_png.rf.3716a5190cf027e7ac9f6d634e9bb970.jpg  \n",
            " extracting: train/img190_png.rf.8a461872a9fc7021e87103249a5498b9.jpg  \n",
            " extracting: train/img191_png.rf.11016a53c791c9f36a97534d09b5e624.jpg  \n",
            " extracting: train/img192_png.rf.1530b8942912b62c871744a6a5e0dd2b.jpg  \n",
            " extracting: train/img195_png.rf.d76e185e8da43cdba69a0c50628d34fe.jpg  \n",
            " extracting: train/img196_png.rf.a5677c2d0c08375e1502d7fab5a9a946.jpg  \n",
            " extracting: train/img199_png.rf.7be8ad2d6462ca599fcf91fd765aafe0.jpg  \n",
            " extracting: train/img19_png.rf.2484a928913679f2db52b33f1aa5619c.jpg  \n",
            " extracting: train/img1_png.rf.ee2a62437838b243cf8658a685eb28b0.jpg  \n",
            " extracting: train/img201_png.rf.b16d219708a9989ef8a7645a5d5fb9a0.jpg  \n",
            " extracting: train/img202_png.rf.73e0a1c7c335276f8f284b9147fcb7f8.jpg  \n",
            " extracting: train/img203_png.rf.29be15d6c6ce2232596f17e96625dd0b.jpg  \n",
            " extracting: train/img204_png.rf.06d0a160185761fcb01c724d1d3438b8.jpg  \n",
            " extracting: train/img205_png.rf.821fa612ccd18be5df0bb76662f0a5cb.jpg  \n",
            " extracting: train/img206_png.rf.3a2fdbb39dbe20eab0a4e263e3c682f9.jpg  \n",
            " extracting: train/img207_png.rf.aaf3f73a2faabf85bace7ac262d12b04.jpg  \n",
            " extracting: train/img208_png.rf.114c4e5fddbb9d4d48b3da55079996d5.jpg  \n",
            " extracting: train/img209_png.rf.d435db9ddb9ebe0c8ed61ae15659c94d.jpg  \n",
            " extracting: train/img20_png.rf.e79cc1a63e00e51fbfb29965e64fd9c3.jpg  \n",
            " extracting: train/img211_png.rf.56fbfb1798198c49a9fcf156f561c7aa.jpg  \n",
            " extracting: train/img212_png.rf.1e2d4713569fddfde5b65f79ca639692.jpg  \n",
            " extracting: train/img213_png.rf.1f23eac36e3c01257a34110a34e9505a.jpg  \n",
            " extracting: train/img216_png.rf.c432f08861cb28caadddc8e95b4d6048.jpg  \n",
            " extracting: train/img217_png.rf.0b629b9053fc6e790fff3e4928df411d.jpg  \n",
            " extracting: train/img218_png.rf.2c1ff9641df751452c749bdcf8d370a1.jpg  \n",
            " extracting: train/img219_png.rf.948365df1112ab008ab9726fd41ab6d8.jpg  \n",
            " extracting: train/img21_png.rf.64006abb7d10460bdfdf5f2e6ae75bbb.jpg  \n",
            " extracting: train/img220_png.rf.37ae406507dbce3067c9d6772cf47f21.jpg  \n",
            " extracting: train/img221_png.rf.8563d5a67b826fc3e8936ade5531ca39.jpg  \n",
            " extracting: train/img222_png.rf.087a6c9d6726dc16a5bac0d03ee5cde2.jpg  \n",
            " extracting: train/img223_png.rf.52a236e7220025b7311a80c147e9d5d5.jpg  \n",
            " extracting: train/img224_png.rf.511fd9c53bfc0a11131e73ea197995e7.jpg  \n",
            " extracting: train/img225_png.rf.4570f0bc0382bd3d3efac03eb1e45ac8.jpg  \n",
            " extracting: train/img226_png.rf.8f32b2c8d9afc40c3bc1e70ee8841ab5.jpg  \n",
            " extracting: train/img227_png.rf.b34e133ddae1d8abc358eaa9ed28f72c.jpg  \n",
            " extracting: train/img228_png.rf.22d23f343214dc981a7083185aac952a.jpg  \n",
            " extracting: train/img229_png.rf.662f2bec223dd336915393aabb6b99c1.jpg  \n",
            " extracting: train/img22_png.rf.2ea5e7d2b2e0c69b0a36ac41d0819a14.jpg  \n",
            " extracting: train/img230_png.rf.fb8613c6ec101fd2bbb94b7260509d12.jpg  \n",
            " extracting: train/img231_png.rf.76389c457c6011a0d8e96d17bc177311.jpg  \n",
            " extracting: train/img232_png.rf.5c2426514bf8d72650bfc1f710147c68.jpg  \n",
            " extracting: train/img234_png.rf.a16eb86a0a250dc57c8d0faac6cb0963.jpg  \n",
            " extracting: train/img235_png.rf.099fa15d1ab67e69e72765c1f0083625.jpg  \n",
            " extracting: train/img237_png.rf.bd8d3db346be0c2cff0d3c547eb077e5.jpg  \n",
            " extracting: train/img238_png.rf.70a10ef37ef1859579f20a2454d47828.jpg  \n",
            " extracting: train/img239_png.rf.f9d229c2fb5f006feb13f9d20c215925.jpg  \n",
            " extracting: train/img23_png.rf.5b5166baa4abde585f5df3788533e90d.jpg  \n",
            " extracting: train/img240_png.rf.2626cb85833b18b56244b87cab7fa1e9.jpg  \n",
            " extracting: train/img241_png.rf.3c4854a0d35b5dfd36a2f6c41c29a6b7.jpg  \n",
            " extracting: train/img242_png.rf.e481e13c9fc2359951d5585b0167462b.jpg  \n",
            " extracting: train/img243_png.rf.259dd67861b2647d54dd4cc62781a9a2.jpg  \n",
            " extracting: train/img244_png.rf.4edf368e947cda71152f8f59fa89b822.jpg  \n",
            " extracting: train/img245_png.rf.42aa6384bf5e637431cf518832754af9.jpg  \n",
            " extracting: train/img246_png.rf.83d9bef5456b9959daf7208a467c3fbe.jpg  \n",
            " extracting: train/img247_png.rf.0f96d388c2f9ccc7df432e4a4d3378e7.jpg  \n",
            " extracting: train/img248_png.rf.b60220d5e7217da1f17cda124bc07cd8.jpg  \n",
            " extracting: train/img249_png.rf.1d18bf6d8a332574486c10cf91538ec4.jpg  \n",
            " extracting: train/img251_png.rf.e4cefc051b2840521a41b22d2f33f0fb.jpg  \n",
            " extracting: train/img252_png.rf.b11359f7dda1fa2e2fa0b01320eb5d9e.jpg  \n",
            " extracting: train/img253_png.rf.f7420f09dbd84cf8b4192b1bb14bb6f0.jpg  \n",
            " extracting: train/img254_png.rf.22251d1bd7142da4a90bb24b376cd5cf.jpg  \n",
            " extracting: train/img255_png.rf.d162650925d11a8037e41f52ab8c5762.jpg  \n",
            " extracting: train/img256_png.rf.a1784f126bac1f9311a02111a6121109.jpg  \n",
            " extracting: train/img257_png.rf.22c5ed6986d2d83b92166b6415e3bb78.jpg  \n",
            " extracting: train/img258_png.rf.6576a6be50360c727447403e6968f239.jpg  \n",
            " extracting: train/img25_png.rf.9d11077e8a7e20c3dfca1a016e885470.jpg  \n",
            " extracting: train/img260_png.rf.57ee25fd35cce8bf7a3a84b23909440f.jpg  \n",
            " extracting: train/img261_png.rf.6fcad522111d32414f64bbfd4cbe1c5f.jpg  \n",
            " extracting: train/img262_png.rf.7472b7195188efd818b2f30d0128badf.jpg  \n",
            " extracting: train/img263_png.rf.a98096a85b8c668d7dfa78811d5b75c8.jpg  \n",
            " extracting: train/img264_png.rf.4f7bc6ea47643804ebca72ebadcc6959.jpg  \n",
            " extracting: train/img265_png.rf.be621e81580b84ddb507947713bbeba8.jpg  \n",
            " extracting: train/img266_png.rf.6355aba9b5a7c442eb90e5e17be33a81.jpg  \n",
            " extracting: train/img268_png.rf.893e8b2107b7e3953103d19974e4cd6f.jpg  \n",
            " extracting: train/img26_png.rf.ed58d2b162e0608904fb813289fe6afe.jpg  \n",
            " extracting: train/img270_png.rf.5fd4bebe949021f9d08db1ea2bd5f5cc.jpg  \n",
            " extracting: train/img271_png.rf.a3845ff12a36044488d5ad5e59a071e7.jpg  \n",
            " extracting: train/img272_png.rf.bb58799426759f9862955132b864626f.jpg  \n",
            " extracting: train/img274_png.rf.bebeeb5ae0e7846b57bd6a03f107e60c.jpg  \n",
            " extracting: train/img276_png.rf.819a133ac324deb78de06d6558005dec.jpg  \n",
            " extracting: train/img277_png.rf.12fb9ed18f0768fb9f3cef5b8fb1c42a.jpg  \n",
            " extracting: train/img278_png.rf.ca3e14ebacb0777f444788d14c16a0ea.jpg  \n",
            " extracting: train/img279_png.rf.abf75ff2d510af45f2095af357fbdca9.jpg  \n",
            " extracting: train/img27_png.rf.36fafd331f5c1f448f01224b9de3af35.jpg  \n",
            " extracting: train/img282_png.rf.32b4442b4c71ae75d330e6f002ff617b.jpg  \n",
            " extracting: train/img283_png.rf.9706043c1390424616f537684f1bdf67.jpg  \n",
            " extracting: train/img284_png.rf.2b9337a7e7e21e75bb2cfe73c3cf7ea4.jpg  \n",
            " extracting: train/img285_png.rf.c837eca57ccbfca4d35d4e6148dd0f7c.jpg  \n",
            " extracting: train/img287_png.rf.97ad8e7b61cc1f39166dbe604300dcd7.jpg  \n",
            " extracting: train/img288_png.rf.642513c0ccb87ecc28df864e0e3ec221.jpg  \n",
            " extracting: train/img28_png.rf.40a3b7fcfd571b086968655d7ed6ba12.jpg  \n",
            " extracting: train/img290_png.rf.accc8e82088125cc8633ae379ccdba41.jpg  \n",
            " extracting: train/img291_png.rf.acb888025b62569ef72d6e754bd4b591.jpg  \n",
            " extracting: train/img292_png.rf.d9f67ae0350c45a388d3a2105a03860a.jpg  \n",
            " extracting: train/img293_png.rf.5c517012c4a284f185680a5088f7cc00.jpg  \n",
            " extracting: train/img294_png.rf.40cde0f9ed1b298eb6028915c1ffa9ef.jpg  \n",
            " extracting: train/img295_png.rf.bc44302f3405624acc69460a438b025a.jpg  \n",
            " extracting: train/img296_png.rf.4f844eec42b14b181899220f34b3dce0.jpg  \n",
            " extracting: train/img297_png.rf.b4477bd5dcb971a30ff7789c9da03ea2.jpg  \n",
            " extracting: train/img298_png.rf.3e8b0005a22e2ea4c9273e0bf7654700.jpg  \n",
            " extracting: train/img299_png.rf.a52482133ec1bcdb4abf60770b247222.jpg  \n",
            " extracting: train/img2_png.rf.71cd5f87aae06143d64879127927cbe9.jpg  \n",
            " extracting: train/img300_png.rf.d0b5f359f824966d5d69fabdec29ddb4.jpg  \n",
            " extracting: train/img301_png.rf.6f0293b1ba36b904f9a6f63d2a55b561.jpg  \n",
            " extracting: train/img302_png.rf.e612879aabfb20ef1d65ea32b4e0e696.jpg  \n",
            " extracting: train/img303_png.rf.6ef0b9e1cc4f87e2e1d4073ff142a3d7.jpg  \n",
            " extracting: train/img304_png.rf.b0c694c2caae111eed56f6417533f767.jpg  \n",
            " extracting: train/img305_png.rf.b96e4e13b7a7feae4381990f86771e33.jpg  \n",
            " extracting: train/img306_png.rf.c9aa736d778073e06b9e5493137bc86e.jpg  \n",
            " extracting: train/img307_png.rf.8903521d9b73c8748a434cf65de4dc54.jpg  \n",
            " extracting: train/img308_png.rf.99b86dfeb5d4287092b7d75862b3fd8c.jpg  \n",
            " extracting: train/img30_png.rf.181211f8ba3598cc0479cb9cc85ece27.jpg  \n",
            " extracting: train/img312_png.rf.969436d0eddff9a77c816f83ddfaff23.jpg  \n",
            " extracting: train/img313_png.rf.fb2504c7c9d12c12e9fa83327f2d56f0.jpg  \n",
            " extracting: train/img314_png.rf.86d9f270dc5e8fd47de8c7ebdfdd8cb5.jpg  \n",
            " extracting: train/img315_png.rf.e2b0697c46fcaeaaa20498a60087e6c1.jpg  \n",
            " extracting: train/img317_png.rf.6ce4dea6b7be068567f40dd11686cd1a.jpg  \n",
            " extracting: train/img318_png.rf.c9f7bd6748004a2c75d88a5b918f493b.jpg  \n",
            " extracting: train/img31_png.rf.2fb871b3c400afe15bd2883432ae1a71.jpg  \n",
            " extracting: train/img320_png.rf.ad6f2bacdd0b44e61e04cd19e922bfda.jpg  \n",
            " extracting: train/img321_png.rf.5457951b400854700781875da1d4d1df.jpg  \n",
            " extracting: train/img323_png.rf.1a8a5ed7be1263247abd4babcd25ff1f.jpg  \n",
            " extracting: train/img324_png.rf.3cc7eed494c139d74ec7e66dafaa0a95.jpg  \n",
            " extracting: train/img325_png.rf.3ac996a96a071f484f9cfc4a49d911a4.jpg  \n",
            " extracting: train/img326_png.rf.b58d742a32cdd7632c76e30d65a5dcda.jpg  \n",
            " extracting: train/img327_png.rf.20d7e5b10f2621f5cf02023a304013d6.jpg  \n",
            " extracting: train/img328_png.rf.2ed959e4586dc9f26a11ad80f12d8cf2.jpg  \n",
            " extracting: train/img329_png.rf.38d600d5a83bcbc4084d498971a8a559.jpg  \n",
            " extracting: train/img32_png.rf.01679feb25f9a2792d92a73c7a1ddcc2.jpg  \n",
            " extracting: train/img330_png.rf.dccc317665da8afb01bc02060e9e3132.jpg  \n",
            " extracting: train/img331_png.rf.b34d4391470c862fb00c0ff66bc75d0f.jpg  \n",
            " extracting: train/img332_png.rf.efa54ae6cbc87decc442e6ce70ee4eb2.jpg  \n",
            " extracting: train/img335_png.rf.3b5e9ccfbcf3d9ecfda6c14b2042040d.jpg  \n",
            " extracting: train/img337_png.rf.85abda92ba7c14e3f27689fefff07412.jpg  \n",
            " extracting: train/img338_png.rf.d11dd31344121191e7d52451ee60af42.jpg  \n",
            " extracting: train/img339_png.rf.d954049a215ecdf726538f870c2ed596.jpg  \n",
            " extracting: train/img340_png.rf.0b8573f2e9697760a6323cf3888b63cf.jpg  \n",
            " extracting: train/img341_png.rf.1b1724d4ef56a117b1d509cb4f1922c7.jpg  \n",
            " extracting: train/img342_png.rf.c1a262cc870ff2c6dbab51ba2bd3edb4.jpg  \n",
            " extracting: train/img343_png.rf.2701788e9133027e578f0595eba61ef9.jpg  \n",
            " extracting: train/img344_png.rf.a9065c088330cc1dc0535eb7b46cc9c9.jpg  \n",
            " extracting: train/img345_png.rf.14b833a3c425a337e6632aae4279534b.jpg  \n",
            " extracting: train/img346_png.rf.48174ba78360786f94cf1e00ba93aeb9.jpg  \n",
            " extracting: train/img347_png.rf.fb5a36b18a0b0c8697f4f576f308b626.jpg  \n",
            " extracting: train/img348_png.rf.5ef1ecef41bc8564dc93ff0b0578a2e6.jpg  \n",
            " extracting: train/img34_png.rf.e30db551cbdd3d2b2b94cf64ea338171.jpg  \n",
            " extracting: train/img350_png.rf.3aa285cebce0447506d9595cfbf27cbf.jpg  \n",
            " extracting: train/img351_png.rf.7bce014f097298c4640a6452567892f8.jpg  \n",
            " extracting: train/img352_png.rf.fd4707c0d1c7095dd067b3171a125b63.jpg  \n",
            " extracting: train/img353_png.rf.4812286a5704f18676879e3ef4584f51.jpg  \n",
            " extracting: train/img354_png.rf.c1edaccfaed97873a4417f629dcb6a73.jpg  \n",
            " extracting: train/img355_png.rf.6577ec1d6dc9a982f25e63fe2e6bf37e.jpg  \n",
            " extracting: train/img356_png.rf.6af0428168efaa66aa309fde9d44eef1.jpg  \n",
            " extracting: train/img357_png.rf.b3a5d52717f59821a23a2b36ecab3545.jpg  \n",
            " extracting: train/img358_png.rf.a3f034b8a99442ea0ac1395e584230f6.jpg  \n",
            " extracting: train/img360_png.rf.ee75ce9f82993e830af8849d5ef3881a.jpg  \n",
            " extracting: train/img361_png.rf.ce36a7ed3a69160518f974708a8f698a.jpg  \n",
            " extracting: train/img362_png.rf.78c240e773d17f580cd975a012affb95.jpg  \n",
            " extracting: train/img363_png.rf.54d2b9ba859e3f128ae6a94ae6da1c2d.jpg  \n",
            " extracting: train/img365_png.rf.a3587941b6c95beeb6c246b16b20f04a.jpg  \n",
            " extracting: train/img366_png.rf.4cb9a01d903656a03ab806f71ed56aba.jpg  \n",
            " extracting: train/img368_png.rf.77f51a19acaa4ce26ab94bec996bc04e.jpg  \n",
            " extracting: train/img369_png.rf.80a4ad6c41a78c17e30a7cdaa0fdcfa6.jpg  \n",
            " extracting: train/img36_png.rf.76405a6fa6b600f555f38b258ed25cf1.jpg  \n",
            " extracting: train/img370_png.rf.887496fb09a0adecff748c9199ed51ea.jpg  \n",
            " extracting: train/img373_png.rf.2633ad9600bbe4dec4514d1496482176.jpg  \n",
            " extracting: train/img375_png.rf.84f278b2df4a9c9890f85aff6b41a7ce.jpg  \n",
            " extracting: train/img376_png.rf.972f4fa7c193cd08e07f7b48838bef94.jpg  \n",
            " extracting: train/img378_png.rf.28c1c3d12395216bcdbbf6dabc889b9b.jpg  \n",
            " extracting: train/img379_png.rf.cd5d404be52ba40cdf8fea9d280eaa38.jpg  \n",
            " extracting: train/img37_png.rf.7a032d40f638313c5ea6effd95f0af60.jpg  \n",
            " extracting: train/img380_png.rf.7d031c7302ae2e105aae976ceba6455c.jpg  \n",
            " extracting: train/img381_png.rf.e5ee217502023d349b027525bf017053.jpg  \n",
            " extracting: train/img384_png.rf.81dc470166682d9b3f83783b0ee103db.jpg  \n",
            " extracting: train/img385_png.rf.845cfd8e1b8c4769339ed34592e9d070.jpg  \n",
            " extracting: train/img386_png.rf.6367758a7301de105a6a9bebba1d17c7.jpg  \n",
            " extracting: train/img387_png.rf.7ef60c866c0c98c8b88cab8de7d9b954.jpg  \n",
            " extracting: train/img388_png.rf.6e058bf82f815101891dbeaeaabbb54c.jpg  \n",
            " extracting: train/img389_png.rf.e0ee6b8989b9a5d03d0056861eca854f.jpg  \n",
            " extracting: train/img38_png.rf.096903ad9e8bab4e89b4628e99191323.jpg  \n",
            " extracting: train/img390_png.rf.27ddd4625681835f7259710150e95cb3.jpg  \n",
            " extracting: train/img391_png.rf.2e8991f539e88daec50d18b6f3af1664.jpg  \n",
            " extracting: train/img392_png.rf.ad67952be28543fae79ae7459edec707.jpg  \n",
            " extracting: train/img393_png.rf.c01b98a8b5eb69087c1ec2f8e67adc16.jpg  \n",
            " extracting: train/img394_png.rf.514e42ae945a25189f40bcac13add31a.jpg  \n",
            " extracting: train/img395_png.rf.128959bbcf67285518f5b250bf6a2ff2.jpg  \n",
            " extracting: train/img396_png.rf.b09349941d9e58faa9c73071ec9429a4.jpg  \n",
            " extracting: train/img397_png.rf.33fae852ffcf7a392f4d2112bd30bca1.jpg  \n",
            " extracting: train/img398_png.rf.f4bb3abf6e3e92856cc03f66017e23ed.jpg  \n",
            " extracting: train/img399_png.rf.23e9d147aa3fbf41a6e953afc36089a5.jpg  \n",
            " extracting: train/img39_png.rf.0eabe29df1c22bb0e4d76e1e6d065a01.jpg  \n",
            " extracting: train/img3_png.rf.906d8dd3ccc2565911c430af21c50709.jpg  \n",
            " extracting: train/img401_png.rf.01f70e9dfac2689386cd4a019d2632d3.jpg  \n",
            " extracting: train/img402_png.rf.2e763d51ca410635ac50ba7f0b5af7e3.jpg  \n",
            " extracting: train/img403_png.rf.1535fd455f1d2aff6731bee6bfc24d0c.jpg  \n",
            " extracting: train/img404_png.rf.719f5753705903f90a65424bf0a379eb.jpg  \n",
            " extracting: train/img405_png.rf.6955e97f88c833039eee44a34334051d.jpg  \n",
            " extracting: train/img406_png.rf.926bc252293957959b45fed174ecc419.jpg  \n",
            " extracting: train/img407_png.rf.6743172fe0270594ebd840424b6751c2.jpg  \n",
            " extracting: train/img408_png.rf.46a4fb41d622ef35017305662a89aab4.jpg  \n",
            " extracting: train/img409_png.rf.a3b2b984819081dd7f09b537a65aa6f4.jpg  \n",
            " extracting: train/img40_png.rf.2d4ed3a9f8934318f93225b60492139e.jpg  \n",
            " extracting: train/img410_png.rf.9ea3edaa6f461ad49803083071b295a8.jpg  \n",
            " extracting: train/img411_png.rf.1479e9cd382ef1f1a36efe540c874fc3.jpg  \n",
            " extracting: train/img412_png.rf.9556a3854e91666e0675b94df298bd5c.jpg  \n",
            " extracting: train/img413_png.rf.52c14c4688aa011c570e4308dec4337f.jpg  \n",
            " extracting: train/img414_png.rf.0ea38bd8aeec75da8c8e3039069ce6eb.jpg  \n",
            " extracting: train/img415_png.rf.41f50382c4207295c1a12c797468f648.jpg  \n",
            " extracting: train/img416_png.rf.0d19cdf1b2b180beaaba4922005a2637.jpg  \n",
            " extracting: train/img417_png.rf.f8804ad26a8fcde0952c442f0d512aff.jpg  \n",
            " extracting: train/img418_png.rf.f0def80663f611a8fc730bea1543e483.jpg  \n",
            " extracting: train/img419_png.rf.6f2cc1b1abf0cec6a2fa6b717262ada9.jpg  \n",
            " extracting: train/img41_png.rf.b913b3468226cc1d0f045ef841501ae2.jpg  \n",
            " extracting: train/img420_png.rf.98cfd0222a3a91371fe4766d6bd69730.jpg  \n",
            " extracting: train/img421_png.rf.f3a0154785a053a9c5872390dcdeb492.jpg  \n",
            " extracting: train/img422_png.rf.b3a93803a14a476f670f1e35ebe3e14c.jpg  \n",
            " extracting: train/img423_png.rf.4c9d724a363d2980bd09d8198ed3d73c.jpg  \n",
            " extracting: train/img424_png.rf.9db5e19e983ac0af029552b9c132db17.jpg  \n",
            " extracting: train/img425_png.rf.72b329d1a62a0b4cf63ef4277d04e3ce.jpg  \n",
            " extracting: train/img426_png.rf.0c7677d9b20dd8714cb0ca0be96d06b2.jpg  \n",
            " extracting: train/img428_png.rf.606f16431b6e044cf9074119a69432bc.jpg  \n",
            " extracting: train/img429_png.rf.270a9619c6353eca73201c0f5294031f.jpg  \n",
            " extracting: train/img42_png.rf.e3e14e946139362addd773446a925ffd.jpg  \n",
            " extracting: train/img432_png.rf.dd587da42390f19f8483250104ccf608.jpg  \n",
            " extracting: train/img433_png.rf.c45bef60257d21e48ebc0377c94a2e39.jpg  \n",
            " extracting: train/img435_png.rf.5750af06e5742438142c5ffad421abad.jpg  \n",
            " extracting: train/img436_png.rf.a31bc470050b8c95a609cc019f0ce6ae.jpg  \n",
            " extracting: train/img437_png.rf.9f81c800b2a2de7255bb89cab1a995b3.jpg  \n",
            " extracting: train/img438_png.rf.4f618511dfd0aa1815879de3066114ae.jpg  \n",
            " extracting: train/img440_png.rf.06bbe7234b00ea84acd65f28d3d8374c.jpg  \n",
            " extracting: train/img441_png.rf.b443a9caae9a2da902f95e6091985862.jpg  \n",
            " extracting: train/img442_png.rf.5efa14e42a2b0a34ad8fbf67630248df.jpg  \n",
            " extracting: train/img443_png.rf.ecfd15ba13f5ba1d0789f664a5b9716e.jpg  \n",
            " extracting: train/img445_png.rf.39196c59d003d604b02a0e302990f121.jpg  \n",
            " extracting: train/img446_png.rf.614a1a835773aab820603f5ce3d9b6a7.jpg  \n",
            " extracting: train/img447_png.rf.3704ab90ae00cff9a2065b3cc87b432c.jpg  \n",
            " extracting: train/img44_png.rf.a1adc9215e0385bb607db8cd9ff2253a.jpg  \n",
            " extracting: train/img450_png.rf.7eb1485b81592b9772b54019d787fac3.jpg  \n",
            " extracting: train/img451_png.rf.547ef650f5f1701e4a83a4697a9f0cb3.jpg  \n",
            " extracting: train/img452_png.rf.8f1a5982690e32842e66ad3e22ca8aa2.jpg  \n",
            " extracting: train/img453_png.rf.5503fb9691019dad74651624582b17f6.jpg  \n",
            " extracting: train/img454_png.rf.7c106efc097e9c569b6e538291125883.jpg  \n",
            " extracting: train/img456_png.rf.fb32ee89b7b1fd276392e20cb4e2402d.jpg  \n",
            " extracting: train/img457_png.rf.0ff064f5d657f94775417bae7b990175.jpg  \n",
            " extracting: train/img459_png.rf.e4579f6f010f0c8e9f5e1dc5a5e8dac0.jpg  \n",
            " extracting: train/img45_png.rf.38b5e8b4562ef7c88765091740ade981.jpg  \n",
            " extracting: train/img461_png.rf.8b53985c998408d76c3a548d95a30a79.jpg  \n",
            " extracting: train/img462_png.rf.96d73b876b486df0ac46be0c53ab02dd.jpg  \n",
            " extracting: train/img464_png.rf.f94a3d2fb49a4aa1069e4b5f8f0a4f54.jpg  \n",
            " extracting: train/img465_png.rf.43fc23152c7a767b95edba793f4c76d6.jpg  \n",
            " extracting: train/img466_png.rf.0c2ab166eee024cdfa8c3f18fb05000d.jpg  \n",
            " extracting: train/img469_png.rf.0523ce9e017eddd0335c69627bed46f6.jpg  \n",
            " extracting: train/img470_png.rf.a7865d6ab3aedce70387ee9b170a25c8.jpg  \n",
            " extracting: train/img471_png.rf.704569c34279f59a323b3d5101dd298a.jpg  \n",
            " extracting: train/img472_png.rf.bde221d0804b16d336a567bcee782cea.jpg  \n",
            " extracting: train/img473_png.rf.dfbaa996331a9113105061aab18bb0ba.jpg  \n",
            " extracting: train/img474_png.rf.c0abcbe741e5bebcf8d7e4e836405e3d.jpg  \n",
            " extracting: train/img475_png.rf.4f2fabc48302574c5fbde21502d5e562.jpg  \n",
            " extracting: train/img476_png.rf.5a6fc7a9851962e2312b50d350d0e68f.jpg  \n",
            " extracting: train/img477_png.rf.195363c84452fb2f21308cb622422735.jpg  \n",
            " extracting: train/img478_png.rf.7aab9cb7c0078d61674f65c201a06562.jpg  \n",
            " extracting: train/img479_png.rf.14f8173ace8adce2bd94f86b68a9e5cd.jpg  \n",
            " extracting: train/img47_png.rf.e45343ce29dedd89e7a87de16e43ba3c.jpg  \n",
            " extracting: train/img480_png.rf.be209174954c7f45a01e49461e50c689.jpg  \n",
            " extracting: train/img482_png.rf.045ed1841c4f418cd11cf4e34b483f7b.jpg  \n",
            " extracting: train/img483_png.rf.a027ce8b2508c1de4abf5965727b9983.jpg  \n",
            " extracting: train/img485_png.rf.991050628205d677dbbb51903ea7ef32.jpg  \n",
            " extracting: train/img486_png.rf.c8484258de89f17169e92a374613dff5.jpg  \n",
            " extracting: train/img487_png.rf.6893f0eda089b7de2df1a754eceae21c.jpg  \n",
            " extracting: train/img488_png.rf.fc65ac2c1fde594f6df49b2bfe74db06.jpg  \n",
            " extracting: train/img489_png.rf.7195f898481e1bc9a82096f742313383.jpg  \n",
            " extracting: train/img490_png.rf.75ecbbb703401f13f760b3aa45432624.jpg  \n",
            " extracting: train/img491_png.rf.400528229bb9c9e1b5a80a3602a91cff.jpg  \n",
            " extracting: train/img492_png.rf.cc179c063b97ac9f5f6f4a073c830f89.jpg  \n",
            " extracting: train/img493_png.rf.fafa13e3adecfe3e0b2239ee1f57b16c.jpg  \n",
            " extracting: train/img495_png.rf.c457bd8b98fba1a5a46132ab1634aa5b.jpg  \n",
            " extracting: train/img496_png.rf.35dbded2d1dd3d6565e8e1c333dfb7a5.jpg  \n",
            " extracting: train/img498_png.rf.710a8e63827d9bf755b12a0a3ffc9f61.jpg  \n",
            " extracting: train/img49_png.rf.db48daac1e2b4d0832edd994b141f5e9.jpg  \n",
            " extracting: train/img500_png.rf.b9ca17bb5874814fb0fc681e4da0aeb6.jpg  \n",
            " extracting: train/img50_png.rf.401bb7dfaa7a12e7a9bce591f43748dd.jpg  \n",
            " extracting: train/img51_png.rf.487fa404aae0745db00b02a8d8d6bb7f.jpg  \n",
            " extracting: train/img52_png.rf.722fe7a18d33cebbda0ec53d9855e619.jpg  \n",
            " extracting: train/img53_png.rf.a37d161e1ffcedecce8e3c3c87bca271.jpg  \n",
            " extracting: train/img54_png.rf.d509b2fcbf2ef903144a90c4409a4e47.jpg  \n",
            " extracting: train/img55_png.rf.cf43d16091b83620062409b5a4be1a12.jpg  \n",
            " extracting: train/img56_png.rf.2bd1db7cb04390c0078ac8229e73302a.jpg  \n",
            " extracting: train/img57_png.rf.c7d605b0692cdfd4775145b968b4c931.jpg  \n",
            " extracting: train/img58_png.rf.3860e7b7397be424a4e1b7d34c5359c0.jpg  \n",
            " extracting: train/img59_png.rf.6789aec0d7d9d119ef344a2ba215509e.jpg  \n",
            " extracting: train/img5_png.rf.129fd63e002ab025a5261f37222f154b.jpg  \n",
            " extracting: train/img61_png.rf.3621f2082c56cfa6cc4264ad34c81e0b.jpg  \n",
            " extracting: train/img63_png.rf.9d96cdff96a96d06d4e9da4355a48a43.jpg  \n",
            " extracting: train/img64_png.rf.b657be93f625d3b3d535e12a407cffc1.jpg  \n",
            " extracting: train/img65_png.rf.1486d9f120dc342514a490aa18420596.jpg  \n",
            " extracting: train/img67_png.rf.091e9ee28bc30059eb619907f426cd51.jpg  \n",
            " extracting: train/img68_png.rf.1a80c217771b18b1e2b4fdf6a47471cf.jpg  \n",
            " extracting: train/img69_png.rf.bf1564f0e5d3d3fdef7f269d51aa498f.jpg  \n",
            " extracting: train/img6_png.rf.31ba968f174e2e7b96137e0059bf5497.jpg  \n",
            " extracting: train/img70_png.rf.e579679af0c00533e5cd7d954685ddbe.jpg  \n",
            " extracting: train/img71_png.rf.519bc63df821174c9332e55d6e5dc20f.jpg  \n",
            " extracting: train/img72_png.rf.80e91bedb2f2e79a0d8c0fb6751fa6ff.jpg  \n",
            " extracting: train/img74_png.rf.99435d38ca10733e78117445c26e9716.jpg  \n",
            " extracting: train/img76_png.rf.1dbcfb4bce5ee266d03b73354645f927.jpg  \n",
            " extracting: train/img77_png.rf.7b8da54b31bb4da452e52a62ec40bc7e.jpg  \n",
            " extracting: train/img79_png.rf.080a2bf452bf4ab1ae232c219715838a.jpg  \n",
            " extracting: train/img7_png.rf.ad56e6cd20249fb5ae62bd581dc16cac.jpg  \n",
            " extracting: train/img80_png.rf.19900a6756ef5c1c4a6fcdec862a186e.jpg  \n",
            " extracting: train/img81_png.rf.7b7d873778b6a043cddaed8f564d8d86.jpg  \n",
            " extracting: train/img82_png.rf.322f75d9f518fd4505ca149628b1209c.jpg  \n",
            " extracting: train/img83_png.rf.1eac34cf25f9c77634f4d35860195070.jpg  \n",
            " extracting: train/img85_png.rf.1e42d1ea42e92fa6d7d65737bbedd012.jpg  \n",
            " extracting: train/img86_png.rf.80fbf9ebe8d234833b76fc3ed52de66a.jpg  \n",
            " extracting: train/img87_png.rf.699fddb712463d9d1b751f70df06e81a.jpg  \n",
            " extracting: train/img88_png.rf.78f84cda6acf95a1098843542403333c.jpg  \n",
            " extracting: train/img8_png.rf.06c14117a9da3277d46fc6c1ded6c27e.jpg  \n",
            " extracting: train/img91_png.rf.994a2994b0548e8204461834c1934cd2.jpg  \n",
            " extracting: train/img93_png.rf.38ed80955aebd7f5bebe8c2b3efe2ffa.jpg  \n",
            " extracting: train/img94_png.rf.c17a2c9480e6abd88558198049129145.jpg  \n",
            " extracting: train/img95_png.rf.3e8b3242d91e4980a44979489d227176.jpg  \n",
            " extracting: train/img96_png.rf.c16a157478cc1337d656096a4b4b5798.jpg  \n",
            " extracting: train/img97_png.rf.657c3e0e035dee11fbe776b829532e09.jpg  \n",
            " extracting: train/img99_png.rf.6443e49592bfdd2776b3e16322602e05.jpg  \n",
            " extracting: train/img9_png.rf.6c4548373abeadbb0996d81907065fdc.jpg  \n",
            "   creating: valid/\n",
            " extracting: valid/_annotations.coco.json  \n",
            " extracting: valid/img100_png.rf.a089fe20f02f1947200f1aff75b46068.jpg  \n",
            " extracting: valid/img10_png.rf.ee469596f1fa94840fd53ceceaac8b3c.jpg  \n",
            " extracting: valid/img116_png.rf.ae6eb9f92d29e587d1527b9934a3f78a.jpg  \n",
            " extracting: valid/img131_png.rf.480ae81d29cdbf70030fc9f5eeec599f.jpg  \n",
            " extracting: valid/img136_png.rf.b550a3c47e124cd41d99fa98a91da56a.jpg  \n",
            " extracting: valid/img144_png.rf.256ab6049dd690e45bde092cd5512c6a.jpg  \n",
            " extracting: valid/img147_png.rf.c749ee43aebfdcf667e280e235571dad.jpg  \n",
            " extracting: valid/img162_png.rf.31cef160cfd4582a28a271e3f80dc987.jpg  \n",
            " extracting: valid/img171_png.rf.8611bd7d3c2e1b4c2169551e3a6514cf.jpg  \n",
            " extracting: valid/img177_png.rf.c7df2564a3bc35b866f02475347fe64c.jpg  \n",
            " extracting: valid/img180_png.rf.0e7f7214002754cac78571873fdd318d.jpg  \n",
            " extracting: valid/img193_png.rf.4e6c334a5c2a78f9cecc6c79cdb0d429.jpg  \n",
            " extracting: valid/img197_png.rf.129858eec5fade4f41427d8dd0796d5d.jpg  \n",
            " extracting: valid/img198_png.rf.06924fc897486bdfc4d6b4a266db30a9.jpg  \n",
            " extracting: valid/img214_png.rf.a73e2d3455c06ecb1e0815e3e38b630a.jpg  \n",
            " extracting: valid/img233_png.rf.7820f5c48f618f5b10b00b00864e4c0a.jpg  \n",
            " extracting: valid/img24_png.rf.624b259df9166bbd157273ccbd64c094.jpg  \n",
            " extracting: valid/img267_png.rf.f35fabbcc7590406144211ded9d92dd2.jpg  \n",
            " extracting: valid/img269_png.rf.10e712f5a0fc95ce7a9d342e5de061ec.jpg  \n",
            " extracting: valid/img275_png.rf.84c53783779c79975d6fb994865bdee0.jpg  \n",
            " extracting: valid/img281_png.rf.da8ad331f8927db2652572d2f080323c.jpg  \n",
            " extracting: valid/img309_png.rf.e5254f9ebf6eed33e67639914f02fb41.jpg  \n",
            " extracting: valid/img316_png.rf.5862e214a9c5112b2e34c3a057aedaa9.jpg  \n",
            " extracting: valid/img319_png.rf.b3fa8f7663fd6d689c16d619b3d2a5c7.jpg  \n",
            " extracting: valid/img334_png.rf.151507ae1e0fae0d635bee4c84700000.jpg  \n",
            " extracting: valid/img33_png.rf.2aae9bd2196d38ffe6358cca9fce8389.jpg  \n",
            " extracting: valid/img349_png.rf.ba002925fa370d1169ab508264ed9376.jpg  \n",
            " extracting: valid/img367_png.rf.62917d1432b5c44f2989886452d2bed9.jpg  \n",
            " extracting: valid/img372_png.rf.8bcffa6890ddb70573c700b732b5cfdb.jpg  \n",
            " extracting: valid/img377_png.rf.eb85c76e2bad7562f8f5443dd4f46a19.jpg  \n",
            " extracting: valid/img382_png.rf.4f3c759abd72d36a50349bca68e6330a.jpg  \n",
            " extracting: valid/img427_png.rf.ac67ef837c12c701a545a0950d2e8fc4.jpg  \n",
            " extracting: valid/img430_png.rf.c5ddcb5724f8231db69f6d350db4d094.jpg  \n",
            " extracting: valid/img431_png.rf.a5ebcc7fbaba6e4a1e8666ebdb8b1fde.jpg  \n",
            " extracting: valid/img434_png.rf.c3a896d94a4a0c6a49d1557fa3063c08.jpg  \n",
            " extracting: valid/img43_png.rf.b63b75b435680b262350977662bed372.jpg  \n",
            " extracting: valid/img444_png.rf.b8b0015fc7600d7a5f23bf8794468a1c.jpg  \n",
            " extracting: valid/img449_png.rf.9bc7f99a50d3f98bcb721d5cddff4118.jpg  \n",
            " extracting: valid/img467_png.rf.0fc814fad3583a76deb676d2038e45bd.jpg  \n",
            " extracting: valid/img481_png.rf.18bb24332f6207f833445bb4fda07aae.jpg  \n",
            " extracting: valid/img494_png.rf.8de5c49faa1fbc474dc7408a739a5e1a.jpg  \n",
            " extracting: valid/img497_png.rf.9bd3a5df22b515b37ebe15c05fcd15fa.jpg  \n",
            " extracting: valid/img4_png.rf.edb30ef709de08de0ae3156886bef837.jpg  \n",
            " extracting: valid/img62_png.rf.7f6091aa2c142a91539b0b6e8887dc34.jpg  \n",
            " extracting: valid/img75_png.rf.5731f837da79799f6643778092fbb1cb.jpg  \n",
            " extracting: valid/img78_png.rf.348ed34b45500b1a48fbff12d45b7515.jpg  \n",
            " extracting: valid/img84_png.rf.aabc611a86c431c092924a66a0fe2998.jpg  \n",
            " extracting: valid/img90_png.rf.cb3efc16b45a40f1c95ec46f80fe6844.jpg  \n",
            " extracting: valid/img92_png.rf.7e375835acfed101701a1b6e4f27f6d2.jpg  \n",
            " extracting: valid/img98_png.rf.3d733db0095ec938508012fe73fab7eb.jpg  \n"
          ],
          "name": "stdout"
        }
      ]
    },
    {
      "cell_type": "code",
      "metadata": {
        "id": "195pqZe1yBqg",
        "colab": {
          "base_uri": "https://localhost:8080/"
        },
        "outputId": "ec10dbc4-a158-42e6-f632-f04d96298016"
      },
      "source": [
        "#we'll download yolo data into content file directory\n",
        "%cd /content\n",
        "!curl -L \"https://app.roboflow.com/ds/tZIExgiPUm?key=8fFfqsstZK\" > roboflow.zip; unzip roboflow.zip; rm roboflow.zip\n",
        "\n"
      ],
      "execution_count": null,
      "outputs": [
        {
          "output_type": "stream",
          "text": [
            "/content\n",
            "  % Total    % Received % Xferd  Average Speed   Time    Time     Time  Current\n",
            "                                 Dload  Upload   Total   Spent    Left  Speed\n",
            "100   891  100   891    0     0   1164      0 --:--:-- --:--:-- --:--:--  1163\n",
            "100 21.0M  100 21.0M    0     0  18.9M      0  0:00:01  0:00:01 --:--:-- 18.9M\n",
            "Archive:  roboflow.zip\n",
            " extracting: README.roboflow.txt     \n",
            "   creating: test/\n",
            " extracting: test/_darknet.labels    \n",
            " extracting: test/img104_png.rf.14d4a786fbf69dcc683def4e78965a85.jpg  \n",
            " extracting: test/img104_png.rf.14d4a786fbf69dcc683def4e78965a85.txt  \n",
            " extracting: test/img107_png.rf.cd910224fbc56ebb2ef95373e0a5e038.jpg  \n",
            " extracting: test/img107_png.rf.cd910224fbc56ebb2ef95373e0a5e038.txt  \n",
            " extracting: test/img124_png.rf.de0d384967047520a148f25953ed8cb1.jpg  \n",
            " extracting: test/img124_png.rf.de0d384967047520a148f25953ed8cb1.txt  \n",
            " extracting: test/img140_png.rf.87db1a5c1267a7d76ed91372d05c8bc6.jpg  \n",
            " extracting: test/img140_png.rf.87db1a5c1267a7d76ed91372d05c8bc6.txt  \n",
            " extracting: test/img145_png.rf.cb601f2a04d7a401d6a907667f980ac3.jpg  \n",
            " extracting: test/img145_png.rf.cb601f2a04d7a401d6a907667f980ac3.txt  \n",
            " extracting: test/img146_png.rf.f23797e3de67ccbf7f1c2143197b3b17.jpg  \n",
            " extracting: test/img146_png.rf.f23797e3de67ccbf7f1c2143197b3b17.txt  \n",
            " extracting: test/img149_png.rf.e3dc00286bffb2d15d557a2903690bd9.jpg  \n",
            " extracting: test/img149_png.rf.e3dc00286bffb2d15d557a2903690bd9.txt  \n",
            " extracting: test/img153_png.rf.c2347312df1b91bf79e253de41f4b770.jpg  \n",
            " extracting: test/img153_png.rf.c2347312df1b91bf79e253de41f4b770.txt  \n",
            " extracting: test/img155_png.rf.319f9f71a2c56621bdb45489503c8130.jpg  \n",
            " extracting: test/img155_png.rf.319f9f71a2c56621bdb45489503c8130.txt  \n",
            " extracting: test/img156_png.rf.5ea3bad30fed8b44034fd55edfd83923.jpg  \n",
            " extracting: test/img156_png.rf.5ea3bad30fed8b44034fd55edfd83923.txt  \n",
            " extracting: test/img188_png.rf.ab78fad8c0bbcedb5fd91e12e9c4a465.jpg  \n",
            " extracting: test/img188_png.rf.ab78fad8c0bbcedb5fd91e12e9c4a465.txt  \n",
            " extracting: test/img194_png.rf.691735123822c86442bbdd4333f87a4f.jpg  \n",
            " extracting: test/img194_png.rf.691735123822c86442bbdd4333f87a4f.txt  \n",
            " extracting: test/img200_png.rf.0aae4717f02ee1cc0f50f5fd56cd0781.jpg  \n",
            " extracting: test/img200_png.rf.0aae4717f02ee1cc0f50f5fd56cd0781.txt  \n",
            " extracting: test/img210_png.rf.4a1d5c3f3859987aaf83993138387e4b.jpg  \n",
            " extracting: test/img210_png.rf.4a1d5c3f3859987aaf83993138387e4b.txt  \n",
            " extracting: test/img215_png.rf.eb65a1f35d3b349569a8088793e31108.jpg  \n",
            " extracting: test/img215_png.rf.eb65a1f35d3b349569a8088793e31108.txt  \n",
            " extracting: test/img236_png.rf.ff5ded1539b635b119e7aad9187c1f7e.jpg  \n",
            " extracting: test/img236_png.rf.ff5ded1539b635b119e7aad9187c1f7e.txt  \n",
            " extracting: test/img250_png.rf.f07cd896b175a1d79a5d5c57b85ab5dc.jpg  \n",
            " extracting: test/img250_png.rf.f07cd896b175a1d79a5d5c57b85ab5dc.txt  \n",
            " extracting: test/img259_png.rf.34aeffb14fc82140f4d4c82a0929ffe6.jpg  \n",
            " extracting: test/img259_png.rf.34aeffb14fc82140f4d4c82a0929ffe6.txt  \n",
            " extracting: test/img273_png.rf.382e6e52df34390d39daa00dc47a7e1c.jpg  \n",
            " extracting: test/img273_png.rf.382e6e52df34390d39daa00dc47a7e1c.txt  \n",
            " extracting: test/img280_png.rf.a205cf5499ed1f8cb41c18850edbff1a.jpg  \n",
            " extracting: test/img280_png.rf.a205cf5499ed1f8cb41c18850edbff1a.txt  \n",
            " extracting: test/img286_png.rf.cacc154c861334991cdd0d5a46372d16.jpg  \n",
            " extracting: test/img286_png.rf.cacc154c861334991cdd0d5a46372d16.txt  \n",
            " extracting: test/img289_png.rf.c04b736b83edc9556b990a047f43ccba.jpg  \n",
            " extracting: test/img289_png.rf.c04b736b83edc9556b990a047f43ccba.txt  \n",
            " extracting: test/img29_png.rf.7494a07052a3792908eb68e9faf07a23.jpg  \n",
            " extracting: test/img29_png.rf.7494a07052a3792908eb68e9faf07a23.txt  \n",
            " extracting: test/img310_png.rf.8375662d408b18b0952ad0e0e6a2d1cb.jpg  \n",
            " extracting: test/img310_png.rf.8375662d408b18b0952ad0e0e6a2d1cb.txt  \n",
            " extracting: test/img311_png.rf.9aee206fec9e75b5f78e77b68b1c30c8.jpg  \n",
            " extracting: test/img311_png.rf.9aee206fec9e75b5f78e77b68b1c30c8.txt  \n",
            " extracting: test/img322_png.rf.f058405cc1a405c1a2d65eccd1f55daa.jpg  \n",
            " extracting: test/img322_png.rf.f058405cc1a405c1a2d65eccd1f55daa.txt  \n",
            " extracting: test/img333_png.rf.ca04fe6ea5a8aae52836808ca33d8a5b.jpg  \n",
            " extracting: test/img333_png.rf.ca04fe6ea5a8aae52836808ca33d8a5b.txt  \n",
            " extracting: test/img336_png.rf.2308167a5171a1fb97e328fbcbba1d48.jpg  \n",
            " extracting: test/img336_png.rf.2308167a5171a1fb97e328fbcbba1d48.txt  \n",
            " extracting: test/img359_png.rf.3254e594054b1a55cbf104a2623dcf64.jpg  \n",
            " extracting: test/img359_png.rf.3254e594054b1a55cbf104a2623dcf64.txt  \n",
            " extracting: test/img35_png.rf.dd4d28096e93d1ad0b13a0ffc6a7f3f9.jpg  \n",
            " extracting: test/img35_png.rf.dd4d28096e93d1ad0b13a0ffc6a7f3f9.txt  \n",
            " extracting: test/img364_png.rf.6f3b16d79d24cb083da4c60fddb65e4b.jpg  \n",
            " extracting: test/img364_png.rf.6f3b16d79d24cb083da4c60fddb65e4b.txt  \n",
            " extracting: test/img371_png.rf.9d41bbdff72a015979dbf297c8b72101.jpg  \n",
            " extracting: test/img371_png.rf.9d41bbdff72a015979dbf297c8b72101.txt  \n",
            " extracting: test/img374_png.rf.e3b8b2afcafb8dad107392e575a1753c.jpg  \n",
            " extracting: test/img374_png.rf.e3b8b2afcafb8dad107392e575a1753c.txt  \n",
            " extracting: test/img383_png.rf.0b1e8f619e46c37ce8e6433e4ccb77d0.jpg  \n",
            " extracting: test/img383_png.rf.0b1e8f619e46c37ce8e6433e4ccb77d0.txt  \n",
            " extracting: test/img400_png.rf.34fa9ef18437561d4922f69c1dec2e5a.jpg  \n",
            " extracting: test/img400_png.rf.34fa9ef18437561d4922f69c1dec2e5a.txt  \n",
            " extracting: test/img439_png.rf.c32b4fb317ecfe723708a71fb1097c74.jpg  \n",
            " extracting: test/img439_png.rf.c32b4fb317ecfe723708a71fb1097c74.txt  \n",
            " extracting: test/img448_png.rf.524b66bd83f1d767f7ccab443d6fb6c9.jpg  \n",
            " extracting: test/img448_png.rf.524b66bd83f1d767f7ccab443d6fb6c9.txt  \n",
            " extracting: test/img455_png.rf.1229b3e1b0f8989250785d45eeff1ae0.jpg  \n",
            " extracting: test/img455_png.rf.1229b3e1b0f8989250785d45eeff1ae0.txt  \n",
            " extracting: test/img458_png.rf.ea4d2745f444214e50be53cd6a4df483.jpg  \n",
            " extracting: test/img458_png.rf.ea4d2745f444214e50be53cd6a4df483.txt  \n",
            " extracting: test/img460_png.rf.f118d37c0da53cc6d666479ff5a74eeb.jpg  \n",
            " extracting: test/img460_png.rf.f118d37c0da53cc6d666479ff5a74eeb.txt  \n",
            " extracting: test/img463_png.rf.6ba81ea15d5236d00483602c15e08c07.jpg  \n",
            " extracting: test/img463_png.rf.6ba81ea15d5236d00483602c15e08c07.txt  \n",
            " extracting: test/img468_png.rf.1b1d21e7c6c4f09287d7607f636c8365.jpg  \n",
            " extracting: test/img468_png.rf.1b1d21e7c6c4f09287d7607f636c8365.txt  \n",
            " extracting: test/img46_png.rf.c2452998eff2a3512c05bc2f9328903d.jpg  \n",
            " extracting: test/img46_png.rf.c2452998eff2a3512c05bc2f9328903d.txt  \n",
            " extracting: test/img484_png.rf.3bda1ed1cd6cb0dbab9c001f69ecc665.jpg  \n",
            " extracting: test/img484_png.rf.3bda1ed1cd6cb0dbab9c001f69ecc665.txt  \n",
            " extracting: test/img48_png.rf.726ddcdb5e14d1f16f02f4651f0ab8d4.jpg  \n",
            " extracting: test/img48_png.rf.726ddcdb5e14d1f16f02f4651f0ab8d4.txt  \n",
            " extracting: test/img499_png.rf.cfb37215c6d75395ebba1f269802f5f3.jpg  \n",
            " extracting: test/img499_png.rf.cfb37215c6d75395ebba1f269802f5f3.txt  \n",
            " extracting: test/img60_png.rf.3765f8a5d13117d1935333b2a252f64f.jpg  \n",
            " extracting: test/img60_png.rf.3765f8a5d13117d1935333b2a252f64f.txt  \n",
            " extracting: test/img66_png.rf.201f69848a4be613f71f22e52797ae20.jpg  \n",
            " extracting: test/img66_png.rf.201f69848a4be613f71f22e52797ae20.txt  \n",
            " extracting: test/img73_png.rf.9e327b4e8695bb66194d2e6a937e4ee9.jpg  \n",
            " extracting: test/img73_png.rf.9e327b4e8695bb66194d2e6a937e4ee9.txt  \n",
            " extracting: test/img89_png.rf.c2452f559ed6aacc4f13ddcbe9540ec1.jpg  \n",
            " extracting: test/img89_png.rf.c2452f559ed6aacc4f13ddcbe9540ec1.txt  \n",
            "   creating: train/\n",
            " extracting: train/_darknet.labels   \n",
            " extracting: train/img101_png.rf.5c493b282d3dbfe6f9783a00231c5fd7.jpg  \n",
            " extracting: train/img101_png.rf.5c493b282d3dbfe6f9783a00231c5fd7.txt  \n",
            " extracting: train/img102_png.rf.3f913e5313521f4aa6242c05014ea7c5.jpg  \n",
            " extracting: train/img102_png.rf.3f913e5313521f4aa6242c05014ea7c5.txt  \n",
            " extracting: train/img103_png.rf.11f895a087425bfa98f63e7f1abffe58.jpg  \n",
            " extracting: train/img103_png.rf.11f895a087425bfa98f63e7f1abffe58.txt  \n",
            " extracting: train/img105_png.rf.b399dece2778c6a688a840556dfaf506.jpg  \n",
            " extracting: train/img105_png.rf.b399dece2778c6a688a840556dfaf506.txt  \n",
            " extracting: train/img106_png.rf.a59fd410590bea912ee101953d4a9a6f.jpg  \n",
            " extracting: train/img106_png.rf.a59fd410590bea912ee101953d4a9a6f.txt  \n",
            " extracting: train/img108_png.rf.f05928e8e66eb07b3b2d3849eb5e385c.jpg  \n",
            " extracting: train/img108_png.rf.f05928e8e66eb07b3b2d3849eb5e385c.txt  \n",
            " extracting: train/img109_png.rf.70d8baade3575f2c2cc8ae98ac0a56e9.jpg  \n",
            " extracting: train/img109_png.rf.70d8baade3575f2c2cc8ae98ac0a56e9.txt  \n",
            " extracting: train/img110_png.rf.1a3c34cdb9ddbf95c1008c88cc0407ea.jpg  \n",
            " extracting: train/img110_png.rf.1a3c34cdb9ddbf95c1008c88cc0407ea.txt  \n",
            " extracting: train/img111_png.rf.cca393898420bb841b1dfad0ce2ab1a8.jpg  \n",
            " extracting: train/img111_png.rf.cca393898420bb841b1dfad0ce2ab1a8.txt  \n",
            " extracting: train/img112_png.rf.9ccfea1dead9f4c7d8bf73bf4df418e6.jpg  \n",
            " extracting: train/img112_png.rf.9ccfea1dead9f4c7d8bf73bf4df418e6.txt  \n",
            " extracting: train/img113_png.rf.aecd0bd96ec41d824efdbdd3e90d8624.jpg  \n",
            " extracting: train/img113_png.rf.aecd0bd96ec41d824efdbdd3e90d8624.txt  \n",
            " extracting: train/img114_png.rf.4bfba10aa522b19508b62ab25f133305.jpg  \n",
            " extracting: train/img114_png.rf.4bfba10aa522b19508b62ab25f133305.txt  \n",
            " extracting: train/img115_png.rf.3ebd8586ab0053732c4d06f477f679ac.jpg  \n",
            " extracting: train/img115_png.rf.3ebd8586ab0053732c4d06f477f679ac.txt  \n",
            " extracting: train/img117_png.rf.8fd6ac9b9627f340a6a19f57fbf46495.jpg  \n",
            " extracting: train/img117_png.rf.8fd6ac9b9627f340a6a19f57fbf46495.txt  \n",
            " extracting: train/img118_png.rf.1d30806e5b44bb90494f2f0bdb5b7d36.jpg  \n",
            " extracting: train/img118_png.rf.1d30806e5b44bb90494f2f0bdb5b7d36.txt  \n",
            " extracting: train/img119_png.rf.e370e1b39452dd227dbb8b8f630ee24a.jpg  \n",
            " extracting: train/img119_png.rf.e370e1b39452dd227dbb8b8f630ee24a.txt  \n",
            " extracting: train/img11_png.rf.5bbb2ec15d59576422e7f495246b7a12.jpg  \n",
            " extracting: train/img11_png.rf.5bbb2ec15d59576422e7f495246b7a12.txt  \n",
            " extracting: train/img120_png.rf.e15faea8e7562ebc70f77832fff7ca76.jpg  \n",
            " extracting: train/img120_png.rf.e15faea8e7562ebc70f77832fff7ca76.txt  \n",
            " extracting: train/img121_png.rf.3a65eaff93aed74dda82fa7004cd7867.jpg  \n",
            " extracting: train/img121_png.rf.3a65eaff93aed74dda82fa7004cd7867.txt  \n",
            " extracting: train/img122_png.rf.eccd7d0d359ea66b911fe76cabc68e89.jpg  \n",
            " extracting: train/img122_png.rf.eccd7d0d359ea66b911fe76cabc68e89.txt  \n",
            " extracting: train/img123_png.rf.d68ac097f5fb4f59ff23d506bc61c7de.jpg  \n",
            " extracting: train/img123_png.rf.d68ac097f5fb4f59ff23d506bc61c7de.txt  \n",
            " extracting: train/img125_png.rf.edb211bf65897c2da121cfe9ff23727c.jpg  \n",
            " extracting: train/img125_png.rf.edb211bf65897c2da121cfe9ff23727c.txt  \n",
            " extracting: train/img126_png.rf.19269cff8f4f6ef0977bf0433341932a.jpg  \n",
            " extracting: train/img126_png.rf.19269cff8f4f6ef0977bf0433341932a.txt  \n",
            " extracting: train/img127_png.rf.729481c3ad15f0b9f602252ff432ea7b.jpg  \n",
            " extracting: train/img127_png.rf.729481c3ad15f0b9f602252ff432ea7b.txt  \n",
            " extracting: train/img128_png.rf.9fdbfcd2d2fca9ffd2c428a099ac0777.jpg  \n",
            " extracting: train/img128_png.rf.9fdbfcd2d2fca9ffd2c428a099ac0777.txt  \n",
            " extracting: train/img129_png.rf.e806a1c8f1de04a8e0bc77369254b7fa.jpg  \n",
            " extracting: train/img129_png.rf.e806a1c8f1de04a8e0bc77369254b7fa.txt  \n",
            " extracting: train/img12_png.rf.c109e6d78cf3939f8b35200fbd86d428.jpg  \n",
            " extracting: train/img12_png.rf.c109e6d78cf3939f8b35200fbd86d428.txt  \n",
            " extracting: train/img130_png.rf.03b535bcf6eb9a64f845ab1a73f4da2f.jpg  \n",
            " extracting: train/img130_png.rf.03b535bcf6eb9a64f845ab1a73f4da2f.txt  \n",
            " extracting: train/img132_png.rf.028ccecf2449efbb134be9cbc7cec8a2.jpg  \n",
            " extracting: train/img132_png.rf.028ccecf2449efbb134be9cbc7cec8a2.txt  \n",
            " extracting: train/img133_png.rf.30c749ea0ceb7679645525f1f4392894.jpg  \n",
            " extracting: train/img133_png.rf.30c749ea0ceb7679645525f1f4392894.txt  \n",
            " extracting: train/img134_png.rf.107f7d53e7faa83eebf4972bd7ba4d10.jpg  \n",
            " extracting: train/img134_png.rf.107f7d53e7faa83eebf4972bd7ba4d10.txt  \n",
            " extracting: train/img135_png.rf.847d38e4038597cedfc00b1050e30a15.jpg  \n",
            " extracting: train/img135_png.rf.847d38e4038597cedfc00b1050e30a15.txt  \n",
            " extracting: train/img137_png.rf.4c209115c0955e323fe249ec0896dff0.jpg  \n",
            " extracting: train/img137_png.rf.4c209115c0955e323fe249ec0896dff0.txt  \n",
            " extracting: train/img138_png.rf.7483eecb43b40b65145e481cbc6e0799.jpg  \n",
            " extracting: train/img138_png.rf.7483eecb43b40b65145e481cbc6e0799.txt  \n",
            " extracting: train/img139_png.rf.c8bbec36fc3b67192958f47042e08670.jpg  \n",
            " extracting: train/img139_png.rf.c8bbec36fc3b67192958f47042e08670.txt  \n",
            " extracting: train/img13_png.rf.28421e39511885663c1bb51b52f648e3.jpg  \n",
            " extracting: train/img13_png.rf.28421e39511885663c1bb51b52f648e3.txt  \n",
            " extracting: train/img141_png.rf.0f69c07abf4a549a29d9f00b64c3fca1.jpg  \n",
            " extracting: train/img141_png.rf.0f69c07abf4a549a29d9f00b64c3fca1.txt  \n",
            " extracting: train/img142_png.rf.bf6fa10aa7dde47754051dc36b12f1f2.jpg  \n",
            " extracting: train/img142_png.rf.bf6fa10aa7dde47754051dc36b12f1f2.txt  \n",
            " extracting: train/img143_png.rf.5df21fd33def09a247624a26f3e6c14b.jpg  \n",
            " extracting: train/img143_png.rf.5df21fd33def09a247624a26f3e6c14b.txt  \n",
            " extracting: train/img148_png.rf.bbcd6201c09012ae13755105100500b4.jpg  \n",
            " extracting: train/img148_png.rf.bbcd6201c09012ae13755105100500b4.txt  \n",
            " extracting: train/img14_png.rf.d819cc4a41314c6316c91528b8c610e5.jpg  \n",
            " extracting: train/img14_png.rf.d819cc4a41314c6316c91528b8c610e5.txt  \n",
            " extracting: train/img150_png.rf.cd684d4c00c88ef2a768616ee167a12b.jpg  \n",
            " extracting: train/img150_png.rf.cd684d4c00c88ef2a768616ee167a12b.txt  \n",
            " extracting: train/img151_png.rf.d92d53d07641fdcc5cc83a1962530e12.jpg  \n",
            " extracting: train/img151_png.rf.d92d53d07641fdcc5cc83a1962530e12.txt  \n",
            " extracting: train/img152_png.rf.b71dae5ec2c66b1ad8d3ba9b3f87f838.jpg  \n",
            " extracting: train/img152_png.rf.b71dae5ec2c66b1ad8d3ba9b3f87f838.txt  \n",
            " extracting: train/img154_png.rf.48a3e925c56f796ddebc5ce123277b35.jpg  \n",
            " extracting: train/img154_png.rf.48a3e925c56f796ddebc5ce123277b35.txt  \n",
            " extracting: train/img157_png.rf.4b3ce8a71b9b8bfd034d87a3449812cd.jpg  \n",
            " extracting: train/img157_png.rf.4b3ce8a71b9b8bfd034d87a3449812cd.txt  \n",
            " extracting: train/img158_png.rf.ec5754608653d3034f808babb74819af.jpg  \n",
            " extracting: train/img158_png.rf.ec5754608653d3034f808babb74819af.txt  \n",
            " extracting: train/img159_png.rf.8a116395ea80bc1b20df95365f160706.jpg  \n",
            " extracting: train/img159_png.rf.8a116395ea80bc1b20df95365f160706.txt  \n",
            " extracting: train/img15_png.rf.094c5f1d9cc2959f56b0b58ea6a72c00.jpg  \n",
            " extracting: train/img15_png.rf.094c5f1d9cc2959f56b0b58ea6a72c00.txt  \n",
            " extracting: train/img160_png.rf.fb17a03f96566b3a656cafd0f2d2536e.jpg  \n",
            " extracting: train/img160_png.rf.fb17a03f96566b3a656cafd0f2d2536e.txt  \n",
            " extracting: train/img161_png.rf.cac7650d8af77d46dbb51d3e0ea347cd.jpg  \n",
            " extracting: train/img161_png.rf.cac7650d8af77d46dbb51d3e0ea347cd.txt  \n",
            " extracting: train/img163_png.rf.4dc6c442eb506214c126d4cb788491f2.jpg  \n",
            " extracting: train/img163_png.rf.4dc6c442eb506214c126d4cb788491f2.txt  \n",
            " extracting: train/img164_png.rf.d5c874dac0ef18672fc809cb4c2f287e.jpg  \n",
            " extracting: train/img164_png.rf.d5c874dac0ef18672fc809cb4c2f287e.txt  \n",
            " extracting: train/img165_png.rf.7b9b366f86cb74b08387002da2467e25.jpg  \n",
            " extracting: train/img165_png.rf.7b9b366f86cb74b08387002da2467e25.txt  \n",
            " extracting: train/img166_png.rf.e29a011bca126c8300fb67cd10c22df8.jpg  \n",
            " extracting: train/img166_png.rf.e29a011bca126c8300fb67cd10c22df8.txt  \n",
            " extracting: train/img167_png.rf.18968185ad224aa91236f17b69ac898a.jpg  \n",
            " extracting: train/img167_png.rf.18968185ad224aa91236f17b69ac898a.txt  \n",
            " extracting: train/img168_png.rf.467210aa6161312636f710812dd057eb.jpg  \n",
            " extracting: train/img168_png.rf.467210aa6161312636f710812dd057eb.txt  \n",
            " extracting: train/img169_png.rf.3a85c4e7f9130fe11eee66c422773c23.jpg  \n",
            " extracting: train/img169_png.rf.3a85c4e7f9130fe11eee66c422773c23.txt  \n",
            " extracting: train/img16_png.rf.d51d65e96393fad47143efa974dedf64.jpg  \n",
            " extracting: train/img16_png.rf.d51d65e96393fad47143efa974dedf64.txt  \n",
            " extracting: train/img170_png.rf.4f1e6d76e90e8d13b2d185e320a0379a.jpg  \n",
            " extracting: train/img170_png.rf.4f1e6d76e90e8d13b2d185e320a0379a.txt  \n",
            " extracting: train/img172_png.rf.7cd9b27430223d62532bbbb00fb374ea.jpg  \n",
            " extracting: train/img172_png.rf.7cd9b27430223d62532bbbb00fb374ea.txt  \n",
            " extracting: train/img173_png.rf.bf87d0a78752711903a7fa6703c4f2f8.jpg  \n",
            " extracting: train/img173_png.rf.bf87d0a78752711903a7fa6703c4f2f8.txt  \n",
            " extracting: train/img174_png.rf.efbbb7eb40cec12176d3d2afd09712b0.jpg  \n",
            " extracting: train/img174_png.rf.efbbb7eb40cec12176d3d2afd09712b0.txt  \n",
            " extracting: train/img175_png.rf.5e6cef383aba3109914dc4d39003e0be.jpg  \n",
            " extracting: train/img175_png.rf.5e6cef383aba3109914dc4d39003e0be.txt  \n",
            " extracting: train/img176_png.rf.0dbb2600d34cb6091302a37be497fbf1.jpg  \n",
            " extracting: train/img176_png.rf.0dbb2600d34cb6091302a37be497fbf1.txt  \n",
            " extracting: train/img178_png.rf.1e7c0e185b8419e04ed9f21b1d319fa0.jpg  \n",
            " extracting: train/img178_png.rf.1e7c0e185b8419e04ed9f21b1d319fa0.txt  \n",
            " extracting: train/img179_png.rf.261fe64db9310c541168000098e43ba1.jpg  \n",
            " extracting: train/img179_png.rf.261fe64db9310c541168000098e43ba1.txt  \n",
            " extracting: train/img17_png.rf.f1cab3daa340b7140db9d6c3495d17eb.jpg  \n",
            " extracting: train/img17_png.rf.f1cab3daa340b7140db9d6c3495d17eb.txt  \n",
            " extracting: train/img181_png.rf.17c9fa80c22940326295d07773a37288.jpg  \n",
            " extracting: train/img181_png.rf.17c9fa80c22940326295d07773a37288.txt  \n",
            " extracting: train/img182_png.rf.f808a6b2826bb4ba1bc342b42b796c2a.jpg  \n",
            " extracting: train/img182_png.rf.f808a6b2826bb4ba1bc342b42b796c2a.txt  \n",
            " extracting: train/img183_png.rf.92317e6a3b4744e8fa7ce9536eafff58.jpg  \n",
            " extracting: train/img183_png.rf.92317e6a3b4744e8fa7ce9536eafff58.txt  \n",
            " extracting: train/img184_png.rf.573dfaf76fbe59c345cdca30448db035.jpg  \n",
            " extracting: train/img184_png.rf.573dfaf76fbe59c345cdca30448db035.txt  \n",
            " extracting: train/img185_png.rf.9cda774223c069814864569915758591.jpg  \n",
            " extracting: train/img185_png.rf.9cda774223c069814864569915758591.txt  \n",
            " extracting: train/img186_png.rf.7a7674f757b7efdd409ccaab2ba1b3f5.jpg  \n",
            " extracting: train/img186_png.rf.7a7674f757b7efdd409ccaab2ba1b3f5.txt  \n",
            " extracting: train/img187_png.rf.0be7d34e2bd5e3dbc4207194fa090c0d.jpg  \n",
            " extracting: train/img187_png.rf.0be7d34e2bd5e3dbc4207194fa090c0d.txt  \n",
            " extracting: train/img189_png.rf.86edad297062a9ee794d3b4e64aa1a2a.jpg  \n",
            " extracting: train/img189_png.rf.86edad297062a9ee794d3b4e64aa1a2a.txt  \n",
            " extracting: train/img18_png.rf.3716a5190cf027e7ac9f6d634e9bb970.jpg  \n",
            " extracting: train/img18_png.rf.3716a5190cf027e7ac9f6d634e9bb970.txt  \n",
            " extracting: train/img190_png.rf.8a461872a9fc7021e87103249a5498b9.jpg  \n",
            " extracting: train/img190_png.rf.8a461872a9fc7021e87103249a5498b9.txt  \n",
            " extracting: train/img191_png.rf.11016a53c791c9f36a97534d09b5e624.jpg  \n",
            " extracting: train/img191_png.rf.11016a53c791c9f36a97534d09b5e624.txt  \n",
            " extracting: train/img192_png.rf.1530b8942912b62c871744a6a5e0dd2b.jpg  \n",
            " extracting: train/img192_png.rf.1530b8942912b62c871744a6a5e0dd2b.txt  \n",
            " extracting: train/img195_png.rf.d76e185e8da43cdba69a0c50628d34fe.jpg  \n",
            " extracting: train/img195_png.rf.d76e185e8da43cdba69a0c50628d34fe.txt  \n",
            " extracting: train/img196_png.rf.a5677c2d0c08375e1502d7fab5a9a946.jpg  \n",
            " extracting: train/img196_png.rf.a5677c2d0c08375e1502d7fab5a9a946.txt  \n",
            " extracting: train/img199_png.rf.7be8ad2d6462ca599fcf91fd765aafe0.jpg  \n",
            " extracting: train/img199_png.rf.7be8ad2d6462ca599fcf91fd765aafe0.txt  \n",
            " extracting: train/img19_png.rf.2484a928913679f2db52b33f1aa5619c.jpg  \n",
            " extracting: train/img19_png.rf.2484a928913679f2db52b33f1aa5619c.txt  \n",
            " extracting: train/img1_png.rf.ee2a62437838b243cf8658a685eb28b0.jpg  \n",
            " extracting: train/img1_png.rf.ee2a62437838b243cf8658a685eb28b0.txt  \n",
            " extracting: train/img201_png.rf.b16d219708a9989ef8a7645a5d5fb9a0.jpg  \n",
            " extracting: train/img201_png.rf.b16d219708a9989ef8a7645a5d5fb9a0.txt  \n",
            " extracting: train/img202_png.rf.73e0a1c7c335276f8f284b9147fcb7f8.jpg  \n",
            " extracting: train/img202_png.rf.73e0a1c7c335276f8f284b9147fcb7f8.txt  \n",
            " extracting: train/img203_png.rf.29be15d6c6ce2232596f17e96625dd0b.jpg  \n",
            " extracting: train/img203_png.rf.29be15d6c6ce2232596f17e96625dd0b.txt  \n",
            " extracting: train/img204_png.rf.06d0a160185761fcb01c724d1d3438b8.jpg  \n",
            " extracting: train/img204_png.rf.06d0a160185761fcb01c724d1d3438b8.txt  \n",
            " extracting: train/img205_png.rf.821fa612ccd18be5df0bb76662f0a5cb.jpg  \n",
            " extracting: train/img205_png.rf.821fa612ccd18be5df0bb76662f0a5cb.txt  \n",
            " extracting: train/img206_png.rf.3a2fdbb39dbe20eab0a4e263e3c682f9.jpg  \n",
            " extracting: train/img206_png.rf.3a2fdbb39dbe20eab0a4e263e3c682f9.txt  \n",
            " extracting: train/img207_png.rf.aaf3f73a2faabf85bace7ac262d12b04.jpg  \n",
            " extracting: train/img207_png.rf.aaf3f73a2faabf85bace7ac262d12b04.txt  \n",
            " extracting: train/img208_png.rf.114c4e5fddbb9d4d48b3da55079996d5.jpg  \n",
            " extracting: train/img208_png.rf.114c4e5fddbb9d4d48b3da55079996d5.txt  \n",
            " extracting: train/img209_png.rf.d435db9ddb9ebe0c8ed61ae15659c94d.jpg  \n",
            " extracting: train/img209_png.rf.d435db9ddb9ebe0c8ed61ae15659c94d.txt  \n",
            " extracting: train/img20_png.rf.e79cc1a63e00e51fbfb29965e64fd9c3.jpg  \n",
            " extracting: train/img20_png.rf.e79cc1a63e00e51fbfb29965e64fd9c3.txt  \n",
            " extracting: train/img211_png.rf.56fbfb1798198c49a9fcf156f561c7aa.jpg  \n",
            " extracting: train/img211_png.rf.56fbfb1798198c49a9fcf156f561c7aa.txt  \n",
            " extracting: train/img212_png.rf.1e2d4713569fddfde5b65f79ca639692.jpg  \n",
            " extracting: train/img212_png.rf.1e2d4713569fddfde5b65f79ca639692.txt  \n",
            " extracting: train/img213_png.rf.1f23eac36e3c01257a34110a34e9505a.jpg  \n",
            " extracting: train/img213_png.rf.1f23eac36e3c01257a34110a34e9505a.txt  \n",
            " extracting: train/img216_png.rf.c432f08861cb28caadddc8e95b4d6048.jpg  \n",
            " extracting: train/img216_png.rf.c432f08861cb28caadddc8e95b4d6048.txt  \n",
            " extracting: train/img217_png.rf.0b629b9053fc6e790fff3e4928df411d.jpg  \n",
            " extracting: train/img217_png.rf.0b629b9053fc6e790fff3e4928df411d.txt  \n",
            " extracting: train/img218_png.rf.2c1ff9641df751452c749bdcf8d370a1.jpg  \n",
            " extracting: train/img218_png.rf.2c1ff9641df751452c749bdcf8d370a1.txt  \n",
            " extracting: train/img219_png.rf.948365df1112ab008ab9726fd41ab6d8.jpg  \n",
            " extracting: train/img219_png.rf.948365df1112ab008ab9726fd41ab6d8.txt  \n",
            " extracting: train/img21_png.rf.64006abb7d10460bdfdf5f2e6ae75bbb.jpg  \n",
            " extracting: train/img21_png.rf.64006abb7d10460bdfdf5f2e6ae75bbb.txt  \n",
            " extracting: train/img220_png.rf.37ae406507dbce3067c9d6772cf47f21.jpg  \n",
            " extracting: train/img220_png.rf.37ae406507dbce3067c9d6772cf47f21.txt  \n",
            " extracting: train/img221_png.rf.8563d5a67b826fc3e8936ade5531ca39.jpg  \n",
            " extracting: train/img221_png.rf.8563d5a67b826fc3e8936ade5531ca39.txt  \n",
            " extracting: train/img222_png.rf.087a6c9d6726dc16a5bac0d03ee5cde2.jpg  \n",
            " extracting: train/img222_png.rf.087a6c9d6726dc16a5bac0d03ee5cde2.txt  \n",
            " extracting: train/img223_png.rf.52a236e7220025b7311a80c147e9d5d5.jpg  \n",
            " extracting: train/img223_png.rf.52a236e7220025b7311a80c147e9d5d5.txt  \n",
            " extracting: train/img224_png.rf.511fd9c53bfc0a11131e73ea197995e7.jpg  \n",
            " extracting: train/img224_png.rf.511fd9c53bfc0a11131e73ea197995e7.txt  \n",
            " extracting: train/img225_png.rf.4570f0bc0382bd3d3efac03eb1e45ac8.jpg  \n",
            " extracting: train/img225_png.rf.4570f0bc0382bd3d3efac03eb1e45ac8.txt  \n",
            " extracting: train/img226_png.rf.8f32b2c8d9afc40c3bc1e70ee8841ab5.jpg  \n",
            " extracting: train/img226_png.rf.8f32b2c8d9afc40c3bc1e70ee8841ab5.txt  \n",
            " extracting: train/img227_png.rf.b34e133ddae1d8abc358eaa9ed28f72c.jpg  \n",
            " extracting: train/img227_png.rf.b34e133ddae1d8abc358eaa9ed28f72c.txt  \n",
            " extracting: train/img228_png.rf.22d23f343214dc981a7083185aac952a.jpg  \n",
            " extracting: train/img228_png.rf.22d23f343214dc981a7083185aac952a.txt  \n",
            " extracting: train/img229_png.rf.662f2bec223dd336915393aabb6b99c1.jpg  \n",
            " extracting: train/img229_png.rf.662f2bec223dd336915393aabb6b99c1.txt  \n",
            " extracting: train/img22_png.rf.2ea5e7d2b2e0c69b0a36ac41d0819a14.jpg  \n",
            " extracting: train/img22_png.rf.2ea5e7d2b2e0c69b0a36ac41d0819a14.txt  \n",
            " extracting: train/img230_png.rf.fb8613c6ec101fd2bbb94b7260509d12.jpg  \n",
            " extracting: train/img230_png.rf.fb8613c6ec101fd2bbb94b7260509d12.txt  \n",
            " extracting: train/img231_png.rf.76389c457c6011a0d8e96d17bc177311.jpg  \n",
            " extracting: train/img231_png.rf.76389c457c6011a0d8e96d17bc177311.txt  \n",
            " extracting: train/img232_png.rf.5c2426514bf8d72650bfc1f710147c68.jpg  \n",
            " extracting: train/img232_png.rf.5c2426514bf8d72650bfc1f710147c68.txt  \n",
            " extracting: train/img234_png.rf.a16eb86a0a250dc57c8d0faac6cb0963.jpg  \n",
            " extracting: train/img234_png.rf.a16eb86a0a250dc57c8d0faac6cb0963.txt  \n",
            " extracting: train/img235_png.rf.099fa15d1ab67e69e72765c1f0083625.jpg  \n",
            " extracting: train/img235_png.rf.099fa15d1ab67e69e72765c1f0083625.txt  \n",
            " extracting: train/img237_png.rf.bd8d3db346be0c2cff0d3c547eb077e5.jpg  \n",
            " extracting: train/img237_png.rf.bd8d3db346be0c2cff0d3c547eb077e5.txt  \n",
            " extracting: train/img238_png.rf.70a10ef37ef1859579f20a2454d47828.jpg  \n",
            " extracting: train/img238_png.rf.70a10ef37ef1859579f20a2454d47828.txt  \n",
            " extracting: train/img239_png.rf.f9d229c2fb5f006feb13f9d20c215925.jpg  \n",
            " extracting: train/img239_png.rf.f9d229c2fb5f006feb13f9d20c215925.txt  \n",
            " extracting: train/img23_png.rf.5b5166baa4abde585f5df3788533e90d.jpg  \n",
            " extracting: train/img23_png.rf.5b5166baa4abde585f5df3788533e90d.txt  \n",
            " extracting: train/img240_png.rf.2626cb85833b18b56244b87cab7fa1e9.jpg  \n",
            " extracting: train/img240_png.rf.2626cb85833b18b56244b87cab7fa1e9.txt  \n",
            " extracting: train/img241_png.rf.3c4854a0d35b5dfd36a2f6c41c29a6b7.jpg  \n",
            " extracting: train/img241_png.rf.3c4854a0d35b5dfd36a2f6c41c29a6b7.txt  \n",
            " extracting: train/img242_png.rf.e481e13c9fc2359951d5585b0167462b.jpg  \n",
            " extracting: train/img242_png.rf.e481e13c9fc2359951d5585b0167462b.txt  \n",
            " extracting: train/img243_png.rf.259dd67861b2647d54dd4cc62781a9a2.jpg  \n",
            " extracting: train/img243_png.rf.259dd67861b2647d54dd4cc62781a9a2.txt  \n",
            " extracting: train/img244_png.rf.4edf368e947cda71152f8f59fa89b822.jpg  \n",
            " extracting: train/img244_png.rf.4edf368e947cda71152f8f59fa89b822.txt  \n",
            " extracting: train/img245_png.rf.42aa6384bf5e637431cf518832754af9.jpg  \n",
            " extracting: train/img245_png.rf.42aa6384bf5e637431cf518832754af9.txt  \n",
            " extracting: train/img246_png.rf.83d9bef5456b9959daf7208a467c3fbe.jpg  \n",
            " extracting: train/img246_png.rf.83d9bef5456b9959daf7208a467c3fbe.txt  \n",
            " extracting: train/img247_png.rf.0f96d388c2f9ccc7df432e4a4d3378e7.jpg  \n",
            " extracting: train/img247_png.rf.0f96d388c2f9ccc7df432e4a4d3378e7.txt  \n",
            " extracting: train/img248_png.rf.b60220d5e7217da1f17cda124bc07cd8.jpg  \n",
            " extracting: train/img248_png.rf.b60220d5e7217da1f17cda124bc07cd8.txt  \n",
            " extracting: train/img249_png.rf.1d18bf6d8a332574486c10cf91538ec4.jpg  \n",
            " extracting: train/img249_png.rf.1d18bf6d8a332574486c10cf91538ec4.txt  \n",
            " extracting: train/img251_png.rf.e4cefc051b2840521a41b22d2f33f0fb.jpg  \n",
            " extracting: train/img251_png.rf.e4cefc051b2840521a41b22d2f33f0fb.txt  \n",
            " extracting: train/img252_png.rf.b11359f7dda1fa2e2fa0b01320eb5d9e.jpg  \n",
            " extracting: train/img252_png.rf.b11359f7dda1fa2e2fa0b01320eb5d9e.txt  \n",
            " extracting: train/img253_png.rf.f7420f09dbd84cf8b4192b1bb14bb6f0.jpg  \n",
            " extracting: train/img253_png.rf.f7420f09dbd84cf8b4192b1bb14bb6f0.txt  \n",
            " extracting: train/img254_png.rf.22251d1bd7142da4a90bb24b376cd5cf.jpg  \n",
            " extracting: train/img254_png.rf.22251d1bd7142da4a90bb24b376cd5cf.txt  \n",
            " extracting: train/img255_png.rf.d162650925d11a8037e41f52ab8c5762.jpg  \n",
            " extracting: train/img255_png.rf.d162650925d11a8037e41f52ab8c5762.txt  \n",
            " extracting: train/img256_png.rf.a1784f126bac1f9311a02111a6121109.jpg  \n",
            " extracting: train/img256_png.rf.a1784f126bac1f9311a02111a6121109.txt  \n",
            " extracting: train/img257_png.rf.22c5ed6986d2d83b92166b6415e3bb78.jpg  \n",
            " extracting: train/img257_png.rf.22c5ed6986d2d83b92166b6415e3bb78.txt  \n",
            " extracting: train/img258_png.rf.6576a6be50360c727447403e6968f239.jpg  \n",
            " extracting: train/img258_png.rf.6576a6be50360c727447403e6968f239.txt  \n",
            " extracting: train/img25_png.rf.9d11077e8a7e20c3dfca1a016e885470.jpg  \n",
            " extracting: train/img25_png.rf.9d11077e8a7e20c3dfca1a016e885470.txt  \n",
            " extracting: train/img260_png.rf.57ee25fd35cce8bf7a3a84b23909440f.jpg  \n",
            " extracting: train/img260_png.rf.57ee25fd35cce8bf7a3a84b23909440f.txt  \n",
            " extracting: train/img261_png.rf.6fcad522111d32414f64bbfd4cbe1c5f.jpg  \n",
            " extracting: train/img261_png.rf.6fcad522111d32414f64bbfd4cbe1c5f.txt  \n",
            " extracting: train/img262_png.rf.7472b7195188efd818b2f30d0128badf.jpg  \n",
            " extracting: train/img262_png.rf.7472b7195188efd818b2f30d0128badf.txt  \n",
            " extracting: train/img263_png.rf.a98096a85b8c668d7dfa78811d5b75c8.jpg  \n",
            " extracting: train/img263_png.rf.a98096a85b8c668d7dfa78811d5b75c8.txt  \n",
            " extracting: train/img264_png.rf.4f7bc6ea47643804ebca72ebadcc6959.jpg  \n",
            " extracting: train/img264_png.rf.4f7bc6ea47643804ebca72ebadcc6959.txt  \n",
            " extracting: train/img265_png.rf.be621e81580b84ddb507947713bbeba8.jpg  \n",
            " extracting: train/img265_png.rf.be621e81580b84ddb507947713bbeba8.txt  \n",
            " extracting: train/img266_png.rf.6355aba9b5a7c442eb90e5e17be33a81.jpg  \n",
            " extracting: train/img266_png.rf.6355aba9b5a7c442eb90e5e17be33a81.txt  \n",
            " extracting: train/img268_png.rf.893e8b2107b7e3953103d19974e4cd6f.jpg  \n",
            " extracting: train/img268_png.rf.893e8b2107b7e3953103d19974e4cd6f.txt  \n",
            " extracting: train/img26_png.rf.ed58d2b162e0608904fb813289fe6afe.jpg  \n",
            " extracting: train/img26_png.rf.ed58d2b162e0608904fb813289fe6afe.txt  \n",
            " extracting: train/img270_png.rf.5fd4bebe949021f9d08db1ea2bd5f5cc.jpg  \n",
            " extracting: train/img270_png.rf.5fd4bebe949021f9d08db1ea2bd5f5cc.txt  \n",
            " extracting: train/img271_png.rf.a3845ff12a36044488d5ad5e59a071e7.jpg  \n",
            " extracting: train/img271_png.rf.a3845ff12a36044488d5ad5e59a071e7.txt  \n",
            " extracting: train/img272_png.rf.bb58799426759f9862955132b864626f.jpg  \n",
            " extracting: train/img272_png.rf.bb58799426759f9862955132b864626f.txt  \n",
            " extracting: train/img274_png.rf.bebeeb5ae0e7846b57bd6a03f107e60c.jpg  \n",
            " extracting: train/img274_png.rf.bebeeb5ae0e7846b57bd6a03f107e60c.txt  \n",
            " extracting: train/img276_png.rf.819a133ac324deb78de06d6558005dec.jpg  \n",
            " extracting: train/img276_png.rf.819a133ac324deb78de06d6558005dec.txt  \n",
            " extracting: train/img277_png.rf.12fb9ed18f0768fb9f3cef5b8fb1c42a.jpg  \n",
            " extracting: train/img277_png.rf.12fb9ed18f0768fb9f3cef5b8fb1c42a.txt  \n",
            " extracting: train/img278_png.rf.ca3e14ebacb0777f444788d14c16a0ea.jpg  \n",
            " extracting: train/img278_png.rf.ca3e14ebacb0777f444788d14c16a0ea.txt  \n",
            " extracting: train/img279_png.rf.abf75ff2d510af45f2095af357fbdca9.jpg  \n",
            " extracting: train/img279_png.rf.abf75ff2d510af45f2095af357fbdca9.txt  \n",
            " extracting: train/img27_png.rf.36fafd331f5c1f448f01224b9de3af35.jpg  \n",
            " extracting: train/img27_png.rf.36fafd331f5c1f448f01224b9de3af35.txt  \n",
            " extracting: train/img282_png.rf.32b4442b4c71ae75d330e6f002ff617b.jpg  \n",
            " extracting: train/img282_png.rf.32b4442b4c71ae75d330e6f002ff617b.txt  \n",
            " extracting: train/img283_png.rf.9706043c1390424616f537684f1bdf67.jpg  \n",
            " extracting: train/img283_png.rf.9706043c1390424616f537684f1bdf67.txt  \n",
            " extracting: train/img284_png.rf.2b9337a7e7e21e75bb2cfe73c3cf7ea4.jpg  \n",
            " extracting: train/img284_png.rf.2b9337a7e7e21e75bb2cfe73c3cf7ea4.txt  \n",
            " extracting: train/img285_png.rf.c837eca57ccbfca4d35d4e6148dd0f7c.jpg  \n",
            " extracting: train/img285_png.rf.c837eca57ccbfca4d35d4e6148dd0f7c.txt  \n",
            " extracting: train/img287_png.rf.97ad8e7b61cc1f39166dbe604300dcd7.jpg  \n",
            " extracting: train/img287_png.rf.97ad8e7b61cc1f39166dbe604300dcd7.txt  \n",
            " extracting: train/img288_png.rf.642513c0ccb87ecc28df864e0e3ec221.jpg  \n",
            " extracting: train/img288_png.rf.642513c0ccb87ecc28df864e0e3ec221.txt  \n",
            " extracting: train/img28_png.rf.40a3b7fcfd571b086968655d7ed6ba12.jpg  \n",
            " extracting: train/img28_png.rf.40a3b7fcfd571b086968655d7ed6ba12.txt  \n",
            " extracting: train/img290_png.rf.accc8e82088125cc8633ae379ccdba41.jpg  \n",
            " extracting: train/img290_png.rf.accc8e82088125cc8633ae379ccdba41.txt  \n",
            " extracting: train/img291_png.rf.acb888025b62569ef72d6e754bd4b591.jpg  \n",
            " extracting: train/img291_png.rf.acb888025b62569ef72d6e754bd4b591.txt  \n",
            " extracting: train/img292_png.rf.d9f67ae0350c45a388d3a2105a03860a.jpg  \n",
            " extracting: train/img292_png.rf.d9f67ae0350c45a388d3a2105a03860a.txt  \n",
            " extracting: train/img293_png.rf.5c517012c4a284f185680a5088f7cc00.jpg  \n",
            " extracting: train/img293_png.rf.5c517012c4a284f185680a5088f7cc00.txt  \n",
            " extracting: train/img294_png.rf.40cde0f9ed1b298eb6028915c1ffa9ef.jpg  \n",
            " extracting: train/img294_png.rf.40cde0f9ed1b298eb6028915c1ffa9ef.txt  \n",
            " extracting: train/img295_png.rf.bc44302f3405624acc69460a438b025a.jpg  \n",
            " extracting: train/img295_png.rf.bc44302f3405624acc69460a438b025a.txt  \n",
            " extracting: train/img296_png.rf.4f844eec42b14b181899220f34b3dce0.jpg  \n",
            " extracting: train/img296_png.rf.4f844eec42b14b181899220f34b3dce0.txt  \n",
            " extracting: train/img297_png.rf.b4477bd5dcb971a30ff7789c9da03ea2.jpg  \n",
            " extracting: train/img297_png.rf.b4477bd5dcb971a30ff7789c9da03ea2.txt  \n",
            " extracting: train/img298_png.rf.3e8b0005a22e2ea4c9273e0bf7654700.jpg  \n",
            " extracting: train/img298_png.rf.3e8b0005a22e2ea4c9273e0bf7654700.txt  \n",
            " extracting: train/img299_png.rf.a52482133ec1bcdb4abf60770b247222.jpg  \n",
            " extracting: train/img299_png.rf.a52482133ec1bcdb4abf60770b247222.txt  \n",
            " extracting: train/img2_png.rf.71cd5f87aae06143d64879127927cbe9.jpg  \n",
            " extracting: train/img2_png.rf.71cd5f87aae06143d64879127927cbe9.txt  \n",
            " extracting: train/img300_png.rf.d0b5f359f824966d5d69fabdec29ddb4.jpg  \n",
            " extracting: train/img300_png.rf.d0b5f359f824966d5d69fabdec29ddb4.txt  \n",
            " extracting: train/img301_png.rf.6f0293b1ba36b904f9a6f63d2a55b561.jpg  \n",
            " extracting: train/img301_png.rf.6f0293b1ba36b904f9a6f63d2a55b561.txt  \n",
            " extracting: train/img302_png.rf.e612879aabfb20ef1d65ea32b4e0e696.jpg  \n",
            " extracting: train/img302_png.rf.e612879aabfb20ef1d65ea32b4e0e696.txt  \n",
            " extracting: train/img303_png.rf.6ef0b9e1cc4f87e2e1d4073ff142a3d7.jpg  \n",
            " extracting: train/img303_png.rf.6ef0b9e1cc4f87e2e1d4073ff142a3d7.txt  \n",
            " extracting: train/img304_png.rf.b0c694c2caae111eed56f6417533f767.jpg  \n",
            " extracting: train/img304_png.rf.b0c694c2caae111eed56f6417533f767.txt  \n",
            " extracting: train/img305_png.rf.b96e4e13b7a7feae4381990f86771e33.jpg  \n",
            " extracting: train/img305_png.rf.b96e4e13b7a7feae4381990f86771e33.txt  \n",
            " extracting: train/img306_png.rf.c9aa736d778073e06b9e5493137bc86e.jpg  \n",
            " extracting: train/img306_png.rf.c9aa736d778073e06b9e5493137bc86e.txt  \n",
            " extracting: train/img307_png.rf.8903521d9b73c8748a434cf65de4dc54.jpg  \n",
            " extracting: train/img307_png.rf.8903521d9b73c8748a434cf65de4dc54.txt  \n",
            " extracting: train/img308_png.rf.99b86dfeb5d4287092b7d75862b3fd8c.jpg  \n",
            " extracting: train/img308_png.rf.99b86dfeb5d4287092b7d75862b3fd8c.txt  \n",
            " extracting: train/img30_png.rf.181211f8ba3598cc0479cb9cc85ece27.jpg  \n",
            " extracting: train/img30_png.rf.181211f8ba3598cc0479cb9cc85ece27.txt  \n",
            " extracting: train/img312_png.rf.969436d0eddff9a77c816f83ddfaff23.jpg  \n",
            " extracting: train/img312_png.rf.969436d0eddff9a77c816f83ddfaff23.txt  \n",
            " extracting: train/img313_png.rf.fb2504c7c9d12c12e9fa83327f2d56f0.jpg  \n",
            " extracting: train/img313_png.rf.fb2504c7c9d12c12e9fa83327f2d56f0.txt  \n",
            " extracting: train/img314_png.rf.86d9f270dc5e8fd47de8c7ebdfdd8cb5.jpg  \n",
            " extracting: train/img314_png.rf.86d9f270dc5e8fd47de8c7ebdfdd8cb5.txt  \n",
            " extracting: train/img315_png.rf.e2b0697c46fcaeaaa20498a60087e6c1.jpg  \n",
            " extracting: train/img315_png.rf.e2b0697c46fcaeaaa20498a60087e6c1.txt  \n",
            " extracting: train/img317_png.rf.6ce4dea6b7be068567f40dd11686cd1a.jpg  \n",
            " extracting: train/img317_png.rf.6ce4dea6b7be068567f40dd11686cd1a.txt  \n",
            " extracting: train/img318_png.rf.c9f7bd6748004a2c75d88a5b918f493b.jpg  \n",
            " extracting: train/img318_png.rf.c9f7bd6748004a2c75d88a5b918f493b.txt  \n",
            " extracting: train/img31_png.rf.2fb871b3c400afe15bd2883432ae1a71.jpg  \n",
            " extracting: train/img31_png.rf.2fb871b3c400afe15bd2883432ae1a71.txt  \n",
            " extracting: train/img320_png.rf.ad6f2bacdd0b44e61e04cd19e922bfda.jpg  \n",
            " extracting: train/img320_png.rf.ad6f2bacdd0b44e61e04cd19e922bfda.txt  \n",
            " extracting: train/img321_png.rf.5457951b400854700781875da1d4d1df.jpg  \n",
            " extracting: train/img321_png.rf.5457951b400854700781875da1d4d1df.txt  \n",
            " extracting: train/img323_png.rf.1a8a5ed7be1263247abd4babcd25ff1f.jpg  \n",
            " extracting: train/img323_png.rf.1a8a5ed7be1263247abd4babcd25ff1f.txt  \n",
            " extracting: train/img324_png.rf.3cc7eed494c139d74ec7e66dafaa0a95.jpg  \n",
            " extracting: train/img324_png.rf.3cc7eed494c139d74ec7e66dafaa0a95.txt  \n",
            " extracting: train/img325_png.rf.3ac996a96a071f484f9cfc4a49d911a4.jpg  \n",
            " extracting: train/img325_png.rf.3ac996a96a071f484f9cfc4a49d911a4.txt  \n",
            " extracting: train/img326_png.rf.b58d742a32cdd7632c76e30d65a5dcda.jpg  \n",
            " extracting: train/img326_png.rf.b58d742a32cdd7632c76e30d65a5dcda.txt  \n",
            " extracting: train/img327_png.rf.20d7e5b10f2621f5cf02023a304013d6.jpg  \n",
            " extracting: train/img327_png.rf.20d7e5b10f2621f5cf02023a304013d6.txt  \n",
            " extracting: train/img328_png.rf.2ed959e4586dc9f26a11ad80f12d8cf2.jpg  \n",
            " extracting: train/img328_png.rf.2ed959e4586dc9f26a11ad80f12d8cf2.txt  \n",
            " extracting: train/img329_png.rf.38d600d5a83bcbc4084d498971a8a559.jpg  \n",
            " extracting: train/img329_png.rf.38d600d5a83bcbc4084d498971a8a559.txt  \n",
            " extracting: train/img32_png.rf.01679feb25f9a2792d92a73c7a1ddcc2.jpg  \n",
            " extracting: train/img32_png.rf.01679feb25f9a2792d92a73c7a1ddcc2.txt  \n",
            " extracting: train/img330_png.rf.dccc317665da8afb01bc02060e9e3132.jpg  \n",
            " extracting: train/img330_png.rf.dccc317665da8afb01bc02060e9e3132.txt  \n",
            " extracting: train/img331_png.rf.b34d4391470c862fb00c0ff66bc75d0f.jpg  \n",
            " extracting: train/img331_png.rf.b34d4391470c862fb00c0ff66bc75d0f.txt  \n",
            " extracting: train/img332_png.rf.efa54ae6cbc87decc442e6ce70ee4eb2.jpg  \n",
            " extracting: train/img332_png.rf.efa54ae6cbc87decc442e6ce70ee4eb2.txt  \n",
            " extracting: train/img335_png.rf.3b5e9ccfbcf3d9ecfda6c14b2042040d.jpg  \n",
            " extracting: train/img335_png.rf.3b5e9ccfbcf3d9ecfda6c14b2042040d.txt  \n",
            " extracting: train/img337_png.rf.85abda92ba7c14e3f27689fefff07412.jpg  \n",
            " extracting: train/img337_png.rf.85abda92ba7c14e3f27689fefff07412.txt  \n",
            " extracting: train/img338_png.rf.d11dd31344121191e7d52451ee60af42.jpg  \n",
            " extracting: train/img338_png.rf.d11dd31344121191e7d52451ee60af42.txt  \n",
            " extracting: train/img339_png.rf.d954049a215ecdf726538f870c2ed596.jpg  \n",
            " extracting: train/img339_png.rf.d954049a215ecdf726538f870c2ed596.txt  \n",
            " extracting: train/img340_png.rf.0b8573f2e9697760a6323cf3888b63cf.jpg  \n",
            " extracting: train/img340_png.rf.0b8573f2e9697760a6323cf3888b63cf.txt  \n",
            " extracting: train/img341_png.rf.1b1724d4ef56a117b1d509cb4f1922c7.jpg  \n",
            " extracting: train/img341_png.rf.1b1724d4ef56a117b1d509cb4f1922c7.txt  \n",
            " extracting: train/img342_png.rf.c1a262cc870ff2c6dbab51ba2bd3edb4.jpg  \n",
            " extracting: train/img342_png.rf.c1a262cc870ff2c6dbab51ba2bd3edb4.txt  \n",
            " extracting: train/img343_png.rf.2701788e9133027e578f0595eba61ef9.jpg  \n",
            " extracting: train/img343_png.rf.2701788e9133027e578f0595eba61ef9.txt  \n",
            " extracting: train/img344_png.rf.a9065c088330cc1dc0535eb7b46cc9c9.jpg  \n",
            " extracting: train/img344_png.rf.a9065c088330cc1dc0535eb7b46cc9c9.txt  \n",
            " extracting: train/img345_png.rf.14b833a3c425a337e6632aae4279534b.jpg  \n",
            " extracting: train/img345_png.rf.14b833a3c425a337e6632aae4279534b.txt  \n",
            " extracting: train/img346_png.rf.48174ba78360786f94cf1e00ba93aeb9.jpg  \n",
            " extracting: train/img346_png.rf.48174ba78360786f94cf1e00ba93aeb9.txt  \n",
            " extracting: train/img347_png.rf.fb5a36b18a0b0c8697f4f576f308b626.jpg  \n",
            " extracting: train/img347_png.rf.fb5a36b18a0b0c8697f4f576f308b626.txt  \n",
            " extracting: train/img348_png.rf.5ef1ecef41bc8564dc93ff0b0578a2e6.jpg  \n",
            " extracting: train/img348_png.rf.5ef1ecef41bc8564dc93ff0b0578a2e6.txt  \n",
            " extracting: train/img34_png.rf.e30db551cbdd3d2b2b94cf64ea338171.jpg  \n",
            " extracting: train/img34_png.rf.e30db551cbdd3d2b2b94cf64ea338171.txt  \n",
            " extracting: train/img350_png.rf.3aa285cebce0447506d9595cfbf27cbf.jpg  \n",
            " extracting: train/img350_png.rf.3aa285cebce0447506d9595cfbf27cbf.txt  \n",
            " extracting: train/img351_png.rf.7bce014f097298c4640a6452567892f8.jpg  \n",
            " extracting: train/img351_png.rf.7bce014f097298c4640a6452567892f8.txt  \n",
            " extracting: train/img352_png.rf.fd4707c0d1c7095dd067b3171a125b63.jpg  \n",
            " extracting: train/img352_png.rf.fd4707c0d1c7095dd067b3171a125b63.txt  \n",
            " extracting: train/img353_png.rf.4812286a5704f18676879e3ef4584f51.jpg  \n",
            " extracting: train/img353_png.rf.4812286a5704f18676879e3ef4584f51.txt  \n",
            " extracting: train/img354_png.rf.c1edaccfaed97873a4417f629dcb6a73.jpg  \n",
            " extracting: train/img354_png.rf.c1edaccfaed97873a4417f629dcb6a73.txt  \n",
            " extracting: train/img355_png.rf.6577ec1d6dc9a982f25e63fe2e6bf37e.jpg  \n",
            " extracting: train/img355_png.rf.6577ec1d6dc9a982f25e63fe2e6bf37e.txt  \n",
            " extracting: train/img356_png.rf.6af0428168efaa66aa309fde9d44eef1.jpg  \n",
            " extracting: train/img356_png.rf.6af0428168efaa66aa309fde9d44eef1.txt  \n",
            " extracting: train/img357_png.rf.b3a5d52717f59821a23a2b36ecab3545.jpg  \n",
            " extracting: train/img357_png.rf.b3a5d52717f59821a23a2b36ecab3545.txt  \n",
            " extracting: train/img358_png.rf.a3f034b8a99442ea0ac1395e584230f6.jpg  \n",
            " extracting: train/img358_png.rf.a3f034b8a99442ea0ac1395e584230f6.txt  \n",
            " extracting: train/img360_png.rf.ee75ce9f82993e830af8849d5ef3881a.jpg  \n",
            " extracting: train/img360_png.rf.ee75ce9f82993e830af8849d5ef3881a.txt  \n",
            " extracting: train/img361_png.rf.ce36a7ed3a69160518f974708a8f698a.jpg  \n",
            " extracting: train/img361_png.rf.ce36a7ed3a69160518f974708a8f698a.txt  \n",
            " extracting: train/img362_png.rf.78c240e773d17f580cd975a012affb95.jpg  \n",
            " extracting: train/img362_png.rf.78c240e773d17f580cd975a012affb95.txt  \n",
            " extracting: train/img363_png.rf.54d2b9ba859e3f128ae6a94ae6da1c2d.jpg  \n",
            " extracting: train/img363_png.rf.54d2b9ba859e3f128ae6a94ae6da1c2d.txt  \n",
            " extracting: train/img365_png.rf.a3587941b6c95beeb6c246b16b20f04a.jpg  \n",
            " extracting: train/img365_png.rf.a3587941b6c95beeb6c246b16b20f04a.txt  \n",
            " extracting: train/img366_png.rf.4cb9a01d903656a03ab806f71ed56aba.jpg  \n",
            " extracting: train/img366_png.rf.4cb9a01d903656a03ab806f71ed56aba.txt  \n",
            " extracting: train/img368_png.rf.77f51a19acaa4ce26ab94bec996bc04e.jpg  \n",
            " extracting: train/img368_png.rf.77f51a19acaa4ce26ab94bec996bc04e.txt  \n",
            " extracting: train/img369_png.rf.80a4ad6c41a78c17e30a7cdaa0fdcfa6.jpg  \n",
            " extracting: train/img369_png.rf.80a4ad6c41a78c17e30a7cdaa0fdcfa6.txt  \n",
            " extracting: train/img36_png.rf.76405a6fa6b600f555f38b258ed25cf1.jpg  \n",
            " extracting: train/img36_png.rf.76405a6fa6b600f555f38b258ed25cf1.txt  \n",
            " extracting: train/img370_png.rf.887496fb09a0adecff748c9199ed51ea.jpg  \n",
            " extracting: train/img370_png.rf.887496fb09a0adecff748c9199ed51ea.txt  \n",
            " extracting: train/img373_png.rf.2633ad9600bbe4dec4514d1496482176.jpg  \n",
            " extracting: train/img373_png.rf.2633ad9600bbe4dec4514d1496482176.txt  \n",
            " extracting: train/img375_png.rf.84f278b2df4a9c9890f85aff6b41a7ce.jpg  \n",
            " extracting: train/img375_png.rf.84f278b2df4a9c9890f85aff6b41a7ce.txt  \n",
            " extracting: train/img376_png.rf.972f4fa7c193cd08e07f7b48838bef94.jpg  \n",
            " extracting: train/img376_png.rf.972f4fa7c193cd08e07f7b48838bef94.txt  \n",
            " extracting: train/img378_png.rf.28c1c3d12395216bcdbbf6dabc889b9b.jpg  \n",
            " extracting: train/img378_png.rf.28c1c3d12395216bcdbbf6dabc889b9b.txt  \n",
            " extracting: train/img379_png.rf.cd5d404be52ba40cdf8fea9d280eaa38.jpg  \n",
            " extracting: train/img379_png.rf.cd5d404be52ba40cdf8fea9d280eaa38.txt  \n",
            " extracting: train/img37_png.rf.7a032d40f638313c5ea6effd95f0af60.jpg  \n",
            " extracting: train/img37_png.rf.7a032d40f638313c5ea6effd95f0af60.txt  \n",
            " extracting: train/img380_png.rf.7d031c7302ae2e105aae976ceba6455c.jpg  \n",
            " extracting: train/img380_png.rf.7d031c7302ae2e105aae976ceba6455c.txt  \n",
            " extracting: train/img381_png.rf.e5ee217502023d349b027525bf017053.jpg  \n",
            " extracting: train/img381_png.rf.e5ee217502023d349b027525bf017053.txt  \n",
            " extracting: train/img384_png.rf.81dc470166682d9b3f83783b0ee103db.jpg  \n",
            " extracting: train/img384_png.rf.81dc470166682d9b3f83783b0ee103db.txt  \n",
            " extracting: train/img385_png.rf.845cfd8e1b8c4769339ed34592e9d070.jpg  \n",
            " extracting: train/img385_png.rf.845cfd8e1b8c4769339ed34592e9d070.txt  \n",
            " extracting: train/img386_png.rf.6367758a7301de105a6a9bebba1d17c7.jpg  \n",
            " extracting: train/img386_png.rf.6367758a7301de105a6a9bebba1d17c7.txt  \n",
            " extracting: train/img387_png.rf.7ef60c866c0c98c8b88cab8de7d9b954.jpg  \n",
            " extracting: train/img387_png.rf.7ef60c866c0c98c8b88cab8de7d9b954.txt  \n",
            " extracting: train/img388_png.rf.6e058bf82f815101891dbeaeaabbb54c.jpg  \n",
            " extracting: train/img388_png.rf.6e058bf82f815101891dbeaeaabbb54c.txt  \n",
            " extracting: train/img389_png.rf.e0ee6b8989b9a5d03d0056861eca854f.jpg  \n",
            " extracting: train/img389_png.rf.e0ee6b8989b9a5d03d0056861eca854f.txt  \n",
            " extracting: train/img38_png.rf.096903ad9e8bab4e89b4628e99191323.jpg  \n",
            " extracting: train/img38_png.rf.096903ad9e8bab4e89b4628e99191323.txt  \n",
            " extracting: train/img390_png.rf.27ddd4625681835f7259710150e95cb3.jpg  \n",
            " extracting: train/img390_png.rf.27ddd4625681835f7259710150e95cb3.txt  \n",
            " extracting: train/img391_png.rf.2e8991f539e88daec50d18b6f3af1664.jpg  \n",
            " extracting: train/img391_png.rf.2e8991f539e88daec50d18b6f3af1664.txt  \n",
            " extracting: train/img392_png.rf.ad67952be28543fae79ae7459edec707.jpg  \n",
            " extracting: train/img392_png.rf.ad67952be28543fae79ae7459edec707.txt  \n",
            " extracting: train/img393_png.rf.c01b98a8b5eb69087c1ec2f8e67adc16.jpg  \n",
            " extracting: train/img393_png.rf.c01b98a8b5eb69087c1ec2f8e67adc16.txt  \n",
            " extracting: train/img394_png.rf.514e42ae945a25189f40bcac13add31a.jpg  \n",
            " extracting: train/img394_png.rf.514e42ae945a25189f40bcac13add31a.txt  \n",
            " extracting: train/img395_png.rf.128959bbcf67285518f5b250bf6a2ff2.jpg  \n",
            " extracting: train/img395_png.rf.128959bbcf67285518f5b250bf6a2ff2.txt  \n",
            " extracting: train/img396_png.rf.b09349941d9e58faa9c73071ec9429a4.jpg  \n",
            " extracting: train/img396_png.rf.b09349941d9e58faa9c73071ec9429a4.txt  \n",
            " extracting: train/img397_png.rf.33fae852ffcf7a392f4d2112bd30bca1.jpg  \n",
            " extracting: train/img397_png.rf.33fae852ffcf7a392f4d2112bd30bca1.txt  \n",
            " extracting: train/img398_png.rf.f4bb3abf6e3e92856cc03f66017e23ed.jpg  \n",
            " extracting: train/img398_png.rf.f4bb3abf6e3e92856cc03f66017e23ed.txt  \n",
            " extracting: train/img399_png.rf.23e9d147aa3fbf41a6e953afc36089a5.jpg  \n",
            " extracting: train/img399_png.rf.23e9d147aa3fbf41a6e953afc36089a5.txt  \n",
            " extracting: train/img39_png.rf.0eabe29df1c22bb0e4d76e1e6d065a01.jpg  \n",
            " extracting: train/img39_png.rf.0eabe29df1c22bb0e4d76e1e6d065a01.txt  \n",
            " extracting: train/img3_png.rf.906d8dd3ccc2565911c430af21c50709.jpg  \n",
            " extracting: train/img3_png.rf.906d8dd3ccc2565911c430af21c50709.txt  \n",
            " extracting: train/img401_png.rf.01f70e9dfac2689386cd4a019d2632d3.jpg  \n",
            " extracting: train/img401_png.rf.01f70e9dfac2689386cd4a019d2632d3.txt  \n",
            " extracting: train/img402_png.rf.2e763d51ca410635ac50ba7f0b5af7e3.jpg  \n",
            " extracting: train/img402_png.rf.2e763d51ca410635ac50ba7f0b5af7e3.txt  \n",
            " extracting: train/img403_png.rf.1535fd455f1d2aff6731bee6bfc24d0c.jpg  \n",
            " extracting: train/img403_png.rf.1535fd455f1d2aff6731bee6bfc24d0c.txt  \n",
            " extracting: train/img404_png.rf.719f5753705903f90a65424bf0a379eb.jpg  \n",
            " extracting: train/img404_png.rf.719f5753705903f90a65424bf0a379eb.txt  \n",
            " extracting: train/img405_png.rf.6955e97f88c833039eee44a34334051d.jpg  \n",
            " extracting: train/img405_png.rf.6955e97f88c833039eee44a34334051d.txt  \n",
            " extracting: train/img406_png.rf.926bc252293957959b45fed174ecc419.jpg  \n",
            " extracting: train/img406_png.rf.926bc252293957959b45fed174ecc419.txt  \n",
            " extracting: train/img407_png.rf.6743172fe0270594ebd840424b6751c2.jpg  \n",
            " extracting: train/img407_png.rf.6743172fe0270594ebd840424b6751c2.txt  \n",
            " extracting: train/img408_png.rf.46a4fb41d622ef35017305662a89aab4.jpg  \n",
            " extracting: train/img408_png.rf.46a4fb41d622ef35017305662a89aab4.txt  \n",
            " extracting: train/img409_png.rf.a3b2b984819081dd7f09b537a65aa6f4.jpg  \n",
            " extracting: train/img409_png.rf.a3b2b984819081dd7f09b537a65aa6f4.txt  \n",
            " extracting: train/img40_png.rf.2d4ed3a9f8934318f93225b60492139e.jpg  \n",
            " extracting: train/img40_png.rf.2d4ed3a9f8934318f93225b60492139e.txt  \n",
            " extracting: train/img410_png.rf.9ea3edaa6f461ad49803083071b295a8.jpg  \n",
            " extracting: train/img410_png.rf.9ea3edaa6f461ad49803083071b295a8.txt  \n",
            " extracting: train/img411_png.rf.1479e9cd382ef1f1a36efe540c874fc3.jpg  \n",
            " extracting: train/img411_png.rf.1479e9cd382ef1f1a36efe540c874fc3.txt  \n",
            " extracting: train/img412_png.rf.9556a3854e91666e0675b94df298bd5c.jpg  \n",
            " extracting: train/img412_png.rf.9556a3854e91666e0675b94df298bd5c.txt  \n",
            " extracting: train/img413_png.rf.52c14c4688aa011c570e4308dec4337f.jpg  \n",
            " extracting: train/img413_png.rf.52c14c4688aa011c570e4308dec4337f.txt  \n",
            " extracting: train/img414_png.rf.0ea38bd8aeec75da8c8e3039069ce6eb.jpg  \n",
            " extracting: train/img414_png.rf.0ea38bd8aeec75da8c8e3039069ce6eb.txt  \n",
            " extracting: train/img415_png.rf.41f50382c4207295c1a12c797468f648.jpg  \n",
            " extracting: train/img415_png.rf.41f50382c4207295c1a12c797468f648.txt  \n",
            " extracting: train/img416_png.rf.0d19cdf1b2b180beaaba4922005a2637.jpg  \n",
            " extracting: train/img416_png.rf.0d19cdf1b2b180beaaba4922005a2637.txt  \n",
            " extracting: train/img417_png.rf.f8804ad26a8fcde0952c442f0d512aff.jpg  \n",
            " extracting: train/img417_png.rf.f8804ad26a8fcde0952c442f0d512aff.txt  \n",
            " extracting: train/img418_png.rf.f0def80663f611a8fc730bea1543e483.jpg  \n",
            " extracting: train/img418_png.rf.f0def80663f611a8fc730bea1543e483.txt  \n",
            " extracting: train/img419_png.rf.6f2cc1b1abf0cec6a2fa6b717262ada9.jpg  \n",
            " extracting: train/img419_png.rf.6f2cc1b1abf0cec6a2fa6b717262ada9.txt  \n",
            " extracting: train/img41_png.rf.b913b3468226cc1d0f045ef841501ae2.jpg  \n",
            " extracting: train/img41_png.rf.b913b3468226cc1d0f045ef841501ae2.txt  \n",
            " extracting: train/img420_png.rf.98cfd0222a3a91371fe4766d6bd69730.jpg  \n",
            " extracting: train/img420_png.rf.98cfd0222a3a91371fe4766d6bd69730.txt  \n",
            " extracting: train/img421_png.rf.f3a0154785a053a9c5872390dcdeb492.jpg  \n",
            " extracting: train/img421_png.rf.f3a0154785a053a9c5872390dcdeb492.txt  \n",
            " extracting: train/img422_png.rf.b3a93803a14a476f670f1e35ebe3e14c.jpg  \n",
            " extracting: train/img422_png.rf.b3a93803a14a476f670f1e35ebe3e14c.txt  \n",
            " extracting: train/img423_png.rf.4c9d724a363d2980bd09d8198ed3d73c.jpg  \n",
            " extracting: train/img423_png.rf.4c9d724a363d2980bd09d8198ed3d73c.txt  \n",
            " extracting: train/img424_png.rf.9db5e19e983ac0af029552b9c132db17.jpg  \n",
            " extracting: train/img424_png.rf.9db5e19e983ac0af029552b9c132db17.txt  \n",
            " extracting: train/img425_png.rf.72b329d1a62a0b4cf63ef4277d04e3ce.jpg  \n",
            " extracting: train/img425_png.rf.72b329d1a62a0b4cf63ef4277d04e3ce.txt  \n",
            " extracting: train/img426_png.rf.0c7677d9b20dd8714cb0ca0be96d06b2.jpg  \n",
            " extracting: train/img426_png.rf.0c7677d9b20dd8714cb0ca0be96d06b2.txt  \n",
            " extracting: train/img428_png.rf.606f16431b6e044cf9074119a69432bc.jpg  \n",
            " extracting: train/img428_png.rf.606f16431b6e044cf9074119a69432bc.txt  \n",
            " extracting: train/img429_png.rf.270a9619c6353eca73201c0f5294031f.jpg  \n",
            " extracting: train/img429_png.rf.270a9619c6353eca73201c0f5294031f.txt  \n",
            " extracting: train/img42_png.rf.e3e14e946139362addd773446a925ffd.jpg  \n",
            " extracting: train/img42_png.rf.e3e14e946139362addd773446a925ffd.txt  \n",
            " extracting: train/img432_png.rf.dd587da42390f19f8483250104ccf608.jpg  \n",
            " extracting: train/img432_png.rf.dd587da42390f19f8483250104ccf608.txt  \n",
            " extracting: train/img433_png.rf.c45bef60257d21e48ebc0377c94a2e39.jpg  \n",
            " extracting: train/img433_png.rf.c45bef60257d21e48ebc0377c94a2e39.txt  \n",
            " extracting: train/img435_png.rf.5750af06e5742438142c5ffad421abad.jpg  \n",
            " extracting: train/img435_png.rf.5750af06e5742438142c5ffad421abad.txt  \n",
            " extracting: train/img436_png.rf.a31bc470050b8c95a609cc019f0ce6ae.jpg  \n",
            " extracting: train/img436_png.rf.a31bc470050b8c95a609cc019f0ce6ae.txt  \n",
            " extracting: train/img437_png.rf.9f81c800b2a2de7255bb89cab1a995b3.jpg  \n",
            " extracting: train/img437_png.rf.9f81c800b2a2de7255bb89cab1a995b3.txt  \n",
            " extracting: train/img438_png.rf.4f618511dfd0aa1815879de3066114ae.jpg  \n",
            " extracting: train/img438_png.rf.4f618511dfd0aa1815879de3066114ae.txt  \n",
            " extracting: train/img440_png.rf.06bbe7234b00ea84acd65f28d3d8374c.jpg  \n",
            " extracting: train/img440_png.rf.06bbe7234b00ea84acd65f28d3d8374c.txt  \n",
            " extracting: train/img441_png.rf.b443a9caae9a2da902f95e6091985862.jpg  \n",
            " extracting: train/img441_png.rf.b443a9caae9a2da902f95e6091985862.txt  \n",
            " extracting: train/img442_png.rf.5efa14e42a2b0a34ad8fbf67630248df.jpg  \n",
            " extracting: train/img442_png.rf.5efa14e42a2b0a34ad8fbf67630248df.txt  \n",
            " extracting: train/img443_png.rf.ecfd15ba13f5ba1d0789f664a5b9716e.jpg  \n",
            " extracting: train/img443_png.rf.ecfd15ba13f5ba1d0789f664a5b9716e.txt  \n",
            " extracting: train/img445_png.rf.39196c59d003d604b02a0e302990f121.jpg  \n",
            " extracting: train/img445_png.rf.39196c59d003d604b02a0e302990f121.txt  \n",
            " extracting: train/img446_png.rf.614a1a835773aab820603f5ce3d9b6a7.jpg  \n",
            " extracting: train/img446_png.rf.614a1a835773aab820603f5ce3d9b6a7.txt  \n",
            " extracting: train/img447_png.rf.3704ab90ae00cff9a2065b3cc87b432c.jpg  \n",
            " extracting: train/img447_png.rf.3704ab90ae00cff9a2065b3cc87b432c.txt  \n",
            " extracting: train/img44_png.rf.a1adc9215e0385bb607db8cd9ff2253a.jpg  \n",
            " extracting: train/img44_png.rf.a1adc9215e0385bb607db8cd9ff2253a.txt  \n",
            " extracting: train/img450_png.rf.7eb1485b81592b9772b54019d787fac3.jpg  \n",
            " extracting: train/img450_png.rf.7eb1485b81592b9772b54019d787fac3.txt  \n",
            " extracting: train/img451_png.rf.547ef650f5f1701e4a83a4697a9f0cb3.jpg  \n",
            " extracting: train/img451_png.rf.547ef650f5f1701e4a83a4697a9f0cb3.txt  \n",
            " extracting: train/img452_png.rf.8f1a5982690e32842e66ad3e22ca8aa2.jpg  \n",
            " extracting: train/img452_png.rf.8f1a5982690e32842e66ad3e22ca8aa2.txt  \n",
            " extracting: train/img453_png.rf.5503fb9691019dad74651624582b17f6.jpg  \n",
            " extracting: train/img453_png.rf.5503fb9691019dad74651624582b17f6.txt  \n",
            " extracting: train/img454_png.rf.7c106efc097e9c569b6e538291125883.jpg  \n",
            " extracting: train/img454_png.rf.7c106efc097e9c569b6e538291125883.txt  \n",
            " extracting: train/img456_png.rf.fb32ee89b7b1fd276392e20cb4e2402d.jpg  \n",
            " extracting: train/img456_png.rf.fb32ee89b7b1fd276392e20cb4e2402d.txt  \n",
            " extracting: train/img457_png.rf.0ff064f5d657f94775417bae7b990175.jpg  \n",
            " extracting: train/img457_png.rf.0ff064f5d657f94775417bae7b990175.txt  \n",
            " extracting: train/img459_png.rf.e4579f6f010f0c8e9f5e1dc5a5e8dac0.jpg  \n",
            " extracting: train/img459_png.rf.e4579f6f010f0c8e9f5e1dc5a5e8dac0.txt  \n",
            " extracting: train/img45_png.rf.38b5e8b4562ef7c88765091740ade981.jpg  \n",
            " extracting: train/img45_png.rf.38b5e8b4562ef7c88765091740ade981.txt  \n",
            " extracting: train/img461_png.rf.8b53985c998408d76c3a548d95a30a79.jpg  \n",
            " extracting: train/img461_png.rf.8b53985c998408d76c3a548d95a30a79.txt  \n",
            " extracting: train/img462_png.rf.96d73b876b486df0ac46be0c53ab02dd.jpg  \n",
            " extracting: train/img462_png.rf.96d73b876b486df0ac46be0c53ab02dd.txt  \n",
            " extracting: train/img464_png.rf.f94a3d2fb49a4aa1069e4b5f8f0a4f54.jpg  \n",
            " extracting: train/img464_png.rf.f94a3d2fb49a4aa1069e4b5f8f0a4f54.txt  \n",
            " extracting: train/img465_png.rf.43fc23152c7a767b95edba793f4c76d6.jpg  \n",
            " extracting: train/img465_png.rf.43fc23152c7a767b95edba793f4c76d6.txt  \n",
            " extracting: train/img466_png.rf.0c2ab166eee024cdfa8c3f18fb05000d.jpg  \n",
            " extracting: train/img466_png.rf.0c2ab166eee024cdfa8c3f18fb05000d.txt  \n",
            " extracting: train/img469_png.rf.0523ce9e017eddd0335c69627bed46f6.jpg  \n",
            " extracting: train/img469_png.rf.0523ce9e017eddd0335c69627bed46f6.txt  \n",
            " extracting: train/img470_png.rf.a7865d6ab3aedce70387ee9b170a25c8.jpg  \n",
            " extracting: train/img470_png.rf.a7865d6ab3aedce70387ee9b170a25c8.txt  \n",
            " extracting: train/img471_png.rf.704569c34279f59a323b3d5101dd298a.jpg  \n",
            " extracting: train/img471_png.rf.704569c34279f59a323b3d5101dd298a.txt  \n",
            " extracting: train/img472_png.rf.bde221d0804b16d336a567bcee782cea.jpg  \n",
            " extracting: train/img472_png.rf.bde221d0804b16d336a567bcee782cea.txt  \n",
            " extracting: train/img473_png.rf.dfbaa996331a9113105061aab18bb0ba.jpg  \n",
            " extracting: train/img473_png.rf.dfbaa996331a9113105061aab18bb0ba.txt  \n",
            " extracting: train/img474_png.rf.c0abcbe741e5bebcf8d7e4e836405e3d.jpg  \n",
            " extracting: train/img474_png.rf.c0abcbe741e5bebcf8d7e4e836405e3d.txt  \n",
            " extracting: train/img475_png.rf.4f2fabc48302574c5fbde21502d5e562.jpg  \n",
            " extracting: train/img475_png.rf.4f2fabc48302574c5fbde21502d5e562.txt  \n",
            " extracting: train/img476_png.rf.5a6fc7a9851962e2312b50d350d0e68f.jpg  \n",
            " extracting: train/img476_png.rf.5a6fc7a9851962e2312b50d350d0e68f.txt  \n",
            " extracting: train/img477_png.rf.195363c84452fb2f21308cb622422735.jpg  \n",
            " extracting: train/img477_png.rf.195363c84452fb2f21308cb622422735.txt  \n",
            " extracting: train/img478_png.rf.7aab9cb7c0078d61674f65c201a06562.jpg  \n",
            " extracting: train/img478_png.rf.7aab9cb7c0078d61674f65c201a06562.txt  \n",
            " extracting: train/img479_png.rf.14f8173ace8adce2bd94f86b68a9e5cd.jpg  \n",
            " extracting: train/img479_png.rf.14f8173ace8adce2bd94f86b68a9e5cd.txt  \n",
            " extracting: train/img47_png.rf.e45343ce29dedd89e7a87de16e43ba3c.jpg  \n",
            " extracting: train/img47_png.rf.e45343ce29dedd89e7a87de16e43ba3c.txt  \n",
            " extracting: train/img480_png.rf.be209174954c7f45a01e49461e50c689.jpg  \n",
            " extracting: train/img480_png.rf.be209174954c7f45a01e49461e50c689.txt  \n",
            " extracting: train/img482_png.rf.045ed1841c4f418cd11cf4e34b483f7b.jpg  \n",
            " extracting: train/img482_png.rf.045ed1841c4f418cd11cf4e34b483f7b.txt  \n",
            " extracting: train/img483_png.rf.a027ce8b2508c1de4abf5965727b9983.jpg  \n",
            " extracting: train/img483_png.rf.a027ce8b2508c1de4abf5965727b9983.txt  \n",
            " extracting: train/img485_png.rf.991050628205d677dbbb51903ea7ef32.jpg  \n",
            " extracting: train/img485_png.rf.991050628205d677dbbb51903ea7ef32.txt  \n",
            " extracting: train/img486_png.rf.c8484258de89f17169e92a374613dff5.jpg  \n",
            " extracting: train/img486_png.rf.c8484258de89f17169e92a374613dff5.txt  \n",
            " extracting: train/img487_png.rf.6893f0eda089b7de2df1a754eceae21c.jpg  \n",
            " extracting: train/img487_png.rf.6893f0eda089b7de2df1a754eceae21c.txt  \n",
            " extracting: train/img488_png.rf.fc65ac2c1fde594f6df49b2bfe74db06.jpg  \n",
            " extracting: train/img488_png.rf.fc65ac2c1fde594f6df49b2bfe74db06.txt  \n",
            " extracting: train/img489_png.rf.7195f898481e1bc9a82096f742313383.jpg  \n",
            " extracting: train/img489_png.rf.7195f898481e1bc9a82096f742313383.txt  \n",
            " extracting: train/img490_png.rf.75ecbbb703401f13f760b3aa45432624.jpg  \n",
            " extracting: train/img490_png.rf.75ecbbb703401f13f760b3aa45432624.txt  \n",
            " extracting: train/img491_png.rf.400528229bb9c9e1b5a80a3602a91cff.jpg  \n",
            " extracting: train/img491_png.rf.400528229bb9c9e1b5a80a3602a91cff.txt  \n",
            " extracting: train/img492_png.rf.cc179c063b97ac9f5f6f4a073c830f89.jpg  \n",
            " extracting: train/img492_png.rf.cc179c063b97ac9f5f6f4a073c830f89.txt  \n",
            " extracting: train/img493_png.rf.fafa13e3adecfe3e0b2239ee1f57b16c.jpg  \n",
            " extracting: train/img493_png.rf.fafa13e3adecfe3e0b2239ee1f57b16c.txt  \n",
            " extracting: train/img495_png.rf.c457bd8b98fba1a5a46132ab1634aa5b.jpg  \n",
            " extracting: train/img495_png.rf.c457bd8b98fba1a5a46132ab1634aa5b.txt  \n",
            " extracting: train/img496_png.rf.35dbded2d1dd3d6565e8e1c333dfb7a5.jpg  \n",
            " extracting: train/img496_png.rf.35dbded2d1dd3d6565e8e1c333dfb7a5.txt  \n",
            " extracting: train/img498_png.rf.710a8e63827d9bf755b12a0a3ffc9f61.jpg  \n",
            " extracting: train/img498_png.rf.710a8e63827d9bf755b12a0a3ffc9f61.txt  \n",
            " extracting: train/img49_png.rf.db48daac1e2b4d0832edd994b141f5e9.jpg  \n",
            " extracting: train/img49_png.rf.db48daac1e2b4d0832edd994b141f5e9.txt  \n",
            " extracting: train/img500_png.rf.b9ca17bb5874814fb0fc681e4da0aeb6.jpg  \n",
            " extracting: train/img500_png.rf.b9ca17bb5874814fb0fc681e4da0aeb6.txt  \n",
            " extracting: train/img50_png.rf.401bb7dfaa7a12e7a9bce591f43748dd.jpg  \n",
            " extracting: train/img50_png.rf.401bb7dfaa7a12e7a9bce591f43748dd.txt  \n",
            " extracting: train/img51_png.rf.487fa404aae0745db00b02a8d8d6bb7f.jpg  \n",
            " extracting: train/img51_png.rf.487fa404aae0745db00b02a8d8d6bb7f.txt  \n",
            " extracting: train/img52_png.rf.722fe7a18d33cebbda0ec53d9855e619.jpg  \n",
            " extracting: train/img52_png.rf.722fe7a18d33cebbda0ec53d9855e619.txt  \n",
            " extracting: train/img53_png.rf.a37d161e1ffcedecce8e3c3c87bca271.jpg  \n",
            " extracting: train/img53_png.rf.a37d161e1ffcedecce8e3c3c87bca271.txt  \n",
            " extracting: train/img54_png.rf.d509b2fcbf2ef903144a90c4409a4e47.jpg  \n",
            " extracting: train/img54_png.rf.d509b2fcbf2ef903144a90c4409a4e47.txt  \n",
            " extracting: train/img55_png.rf.cf43d16091b83620062409b5a4be1a12.jpg  \n",
            " extracting: train/img55_png.rf.cf43d16091b83620062409b5a4be1a12.txt  \n",
            " extracting: train/img56_png.rf.2bd1db7cb04390c0078ac8229e73302a.jpg  \n",
            " extracting: train/img56_png.rf.2bd1db7cb04390c0078ac8229e73302a.txt  \n",
            " extracting: train/img57_png.rf.c7d605b0692cdfd4775145b968b4c931.jpg  \n",
            " extracting: train/img57_png.rf.c7d605b0692cdfd4775145b968b4c931.txt  \n",
            " extracting: train/img58_png.rf.3860e7b7397be424a4e1b7d34c5359c0.jpg  \n",
            " extracting: train/img58_png.rf.3860e7b7397be424a4e1b7d34c5359c0.txt  \n",
            " extracting: train/img59_png.rf.6789aec0d7d9d119ef344a2ba215509e.jpg  \n",
            " extracting: train/img59_png.rf.6789aec0d7d9d119ef344a2ba215509e.txt  \n",
            " extracting: train/img5_png.rf.129fd63e002ab025a5261f37222f154b.jpg  \n",
            " extracting: train/img5_png.rf.129fd63e002ab025a5261f37222f154b.txt  \n",
            " extracting: train/img61_png.rf.3621f2082c56cfa6cc4264ad34c81e0b.jpg  \n",
            " extracting: train/img61_png.rf.3621f2082c56cfa6cc4264ad34c81e0b.txt  \n",
            " extracting: train/img63_png.rf.9d96cdff96a96d06d4e9da4355a48a43.jpg  \n",
            " extracting: train/img63_png.rf.9d96cdff96a96d06d4e9da4355a48a43.txt  \n",
            " extracting: train/img64_png.rf.b657be93f625d3b3d535e12a407cffc1.jpg  \n",
            " extracting: train/img64_png.rf.b657be93f625d3b3d535e12a407cffc1.txt  \n",
            " extracting: train/img65_png.rf.1486d9f120dc342514a490aa18420596.jpg  \n",
            " extracting: train/img65_png.rf.1486d9f120dc342514a490aa18420596.txt  \n",
            " extracting: train/img67_png.rf.091e9ee28bc30059eb619907f426cd51.jpg  \n",
            " extracting: train/img67_png.rf.091e9ee28bc30059eb619907f426cd51.txt  \n",
            " extracting: train/img68_png.rf.1a80c217771b18b1e2b4fdf6a47471cf.jpg  \n",
            " extracting: train/img68_png.rf.1a80c217771b18b1e2b4fdf6a47471cf.txt  \n",
            " extracting: train/img69_png.rf.bf1564f0e5d3d3fdef7f269d51aa498f.jpg  \n",
            " extracting: train/img69_png.rf.bf1564f0e5d3d3fdef7f269d51aa498f.txt  \n",
            " extracting: train/img6_png.rf.31ba968f174e2e7b96137e0059bf5497.jpg  \n",
            " extracting: train/img6_png.rf.31ba968f174e2e7b96137e0059bf5497.txt  \n",
            " extracting: train/img70_png.rf.e579679af0c00533e5cd7d954685ddbe.jpg  \n",
            " extracting: train/img70_png.rf.e579679af0c00533e5cd7d954685ddbe.txt  \n",
            " extracting: train/img71_png.rf.519bc63df821174c9332e55d6e5dc20f.jpg  \n",
            " extracting: train/img71_png.rf.519bc63df821174c9332e55d6e5dc20f.txt  \n",
            " extracting: train/img72_png.rf.80e91bedb2f2e79a0d8c0fb6751fa6ff.jpg  \n",
            " extracting: train/img72_png.rf.80e91bedb2f2e79a0d8c0fb6751fa6ff.txt  \n",
            " extracting: train/img74_png.rf.99435d38ca10733e78117445c26e9716.jpg  \n",
            " extracting: train/img74_png.rf.99435d38ca10733e78117445c26e9716.txt  \n",
            " extracting: train/img76_png.rf.1dbcfb4bce5ee266d03b73354645f927.jpg  \n",
            " extracting: train/img76_png.rf.1dbcfb4bce5ee266d03b73354645f927.txt  \n",
            " extracting: train/img77_png.rf.7b8da54b31bb4da452e52a62ec40bc7e.jpg  \n",
            " extracting: train/img77_png.rf.7b8da54b31bb4da452e52a62ec40bc7e.txt  \n",
            " extracting: train/img79_png.rf.080a2bf452bf4ab1ae232c219715838a.jpg  \n",
            " extracting: train/img79_png.rf.080a2bf452bf4ab1ae232c219715838a.txt  \n",
            " extracting: train/img7_png.rf.ad56e6cd20249fb5ae62bd581dc16cac.jpg  \n",
            " extracting: train/img7_png.rf.ad56e6cd20249fb5ae62bd581dc16cac.txt  \n",
            " extracting: train/img80_png.rf.19900a6756ef5c1c4a6fcdec862a186e.jpg  \n",
            " extracting: train/img80_png.rf.19900a6756ef5c1c4a6fcdec862a186e.txt  \n",
            " extracting: train/img81_png.rf.7b7d873778b6a043cddaed8f564d8d86.jpg  \n",
            " extracting: train/img81_png.rf.7b7d873778b6a043cddaed8f564d8d86.txt  \n",
            " extracting: train/img82_png.rf.322f75d9f518fd4505ca149628b1209c.jpg  \n",
            " extracting: train/img82_png.rf.322f75d9f518fd4505ca149628b1209c.txt  \n",
            " extracting: train/img83_png.rf.1eac34cf25f9c77634f4d35860195070.jpg  \n",
            " extracting: train/img83_png.rf.1eac34cf25f9c77634f4d35860195070.txt  \n",
            " extracting: train/img85_png.rf.1e42d1ea42e92fa6d7d65737bbedd012.jpg  \n",
            " extracting: train/img85_png.rf.1e42d1ea42e92fa6d7d65737bbedd012.txt  \n",
            " extracting: train/img86_png.rf.80fbf9ebe8d234833b76fc3ed52de66a.jpg  \n",
            " extracting: train/img86_png.rf.80fbf9ebe8d234833b76fc3ed52de66a.txt  \n",
            " extracting: train/img87_png.rf.699fddb712463d9d1b751f70df06e81a.jpg  \n",
            " extracting: train/img87_png.rf.699fddb712463d9d1b751f70df06e81a.txt  \n",
            " extracting: train/img88_png.rf.78f84cda6acf95a1098843542403333c.jpg  \n",
            " extracting: train/img88_png.rf.78f84cda6acf95a1098843542403333c.txt  \n",
            " extracting: train/img8_png.rf.06c14117a9da3277d46fc6c1ded6c27e.jpg  \n",
            " extracting: train/img8_png.rf.06c14117a9da3277d46fc6c1ded6c27e.txt  \n",
            " extracting: train/img91_png.rf.994a2994b0548e8204461834c1934cd2.jpg  \n",
            " extracting: train/img91_png.rf.994a2994b0548e8204461834c1934cd2.txt  \n",
            " extracting: train/img93_png.rf.38ed80955aebd7f5bebe8c2b3efe2ffa.jpg  \n",
            " extracting: train/img93_png.rf.38ed80955aebd7f5bebe8c2b3efe2ffa.txt  \n",
            " extracting: train/img94_png.rf.c17a2c9480e6abd88558198049129145.jpg  \n",
            " extracting: train/img94_png.rf.c17a2c9480e6abd88558198049129145.txt  \n",
            " extracting: train/img95_png.rf.3e8b3242d91e4980a44979489d227176.jpg  \n",
            " extracting: train/img95_png.rf.3e8b3242d91e4980a44979489d227176.txt  \n",
            " extracting: train/img96_png.rf.c16a157478cc1337d656096a4b4b5798.jpg  \n",
            " extracting: train/img96_png.rf.c16a157478cc1337d656096a4b4b5798.txt  \n",
            " extracting: train/img97_png.rf.657c3e0e035dee11fbe776b829532e09.jpg  \n",
            " extracting: train/img97_png.rf.657c3e0e035dee11fbe776b829532e09.txt  \n",
            " extracting: train/img99_png.rf.6443e49592bfdd2776b3e16322602e05.jpg  \n",
            " extracting: train/img99_png.rf.6443e49592bfdd2776b3e16322602e05.txt  \n",
            " extracting: train/img9_png.rf.6c4548373abeadbb0996d81907065fdc.jpg  \n",
            " extracting: train/img9_png.rf.6c4548373abeadbb0996d81907065fdc.txt  \n",
            "   creating: valid/\n",
            " extracting: valid/_darknet.labels   \n",
            " extracting: valid/img100_png.rf.a089fe20f02f1947200f1aff75b46068.jpg  \n",
            " extracting: valid/img100_png.rf.a089fe20f02f1947200f1aff75b46068.txt  \n",
            " extracting: valid/img10_png.rf.ee469596f1fa94840fd53ceceaac8b3c.jpg  \n",
            " extracting: valid/img10_png.rf.ee469596f1fa94840fd53ceceaac8b3c.txt  \n",
            " extracting: valid/img116_png.rf.ae6eb9f92d29e587d1527b9934a3f78a.jpg  \n",
            " extracting: valid/img116_png.rf.ae6eb9f92d29e587d1527b9934a3f78a.txt  \n",
            " extracting: valid/img131_png.rf.480ae81d29cdbf70030fc9f5eeec599f.jpg  \n",
            " extracting: valid/img131_png.rf.480ae81d29cdbf70030fc9f5eeec599f.txt  \n",
            " extracting: valid/img136_png.rf.b550a3c47e124cd41d99fa98a91da56a.jpg  \n",
            " extracting: valid/img136_png.rf.b550a3c47e124cd41d99fa98a91da56a.txt  \n",
            " extracting: valid/img144_png.rf.256ab6049dd690e45bde092cd5512c6a.jpg  \n",
            " extracting: valid/img144_png.rf.256ab6049dd690e45bde092cd5512c6a.txt  \n",
            " extracting: valid/img147_png.rf.c749ee43aebfdcf667e280e235571dad.jpg  \n",
            " extracting: valid/img147_png.rf.c749ee43aebfdcf667e280e235571dad.txt  \n",
            " extracting: valid/img162_png.rf.31cef160cfd4582a28a271e3f80dc987.jpg  \n",
            " extracting: valid/img162_png.rf.31cef160cfd4582a28a271e3f80dc987.txt  \n",
            " extracting: valid/img171_png.rf.8611bd7d3c2e1b4c2169551e3a6514cf.jpg  \n",
            " extracting: valid/img171_png.rf.8611bd7d3c2e1b4c2169551e3a6514cf.txt  \n",
            " extracting: valid/img177_png.rf.c7df2564a3bc35b866f02475347fe64c.jpg  \n",
            " extracting: valid/img177_png.rf.c7df2564a3bc35b866f02475347fe64c.txt  \n",
            " extracting: valid/img180_png.rf.0e7f7214002754cac78571873fdd318d.jpg  \n",
            " extracting: valid/img180_png.rf.0e7f7214002754cac78571873fdd318d.txt  \n",
            " extracting: valid/img193_png.rf.4e6c334a5c2a78f9cecc6c79cdb0d429.jpg  \n",
            " extracting: valid/img193_png.rf.4e6c334a5c2a78f9cecc6c79cdb0d429.txt  \n",
            " extracting: valid/img197_png.rf.129858eec5fade4f41427d8dd0796d5d.jpg  \n",
            " extracting: valid/img197_png.rf.129858eec5fade4f41427d8dd0796d5d.txt  \n",
            " extracting: valid/img198_png.rf.06924fc897486bdfc4d6b4a266db30a9.jpg  \n",
            " extracting: valid/img198_png.rf.06924fc897486bdfc4d6b4a266db30a9.txt  \n",
            " extracting: valid/img214_png.rf.a73e2d3455c06ecb1e0815e3e38b630a.jpg  \n",
            " extracting: valid/img214_png.rf.a73e2d3455c06ecb1e0815e3e38b630a.txt  \n",
            " extracting: valid/img233_png.rf.7820f5c48f618f5b10b00b00864e4c0a.jpg  \n",
            " extracting: valid/img233_png.rf.7820f5c48f618f5b10b00b00864e4c0a.txt  \n",
            " extracting: valid/img24_png.rf.624b259df9166bbd157273ccbd64c094.jpg  \n",
            " extracting: valid/img24_png.rf.624b259df9166bbd157273ccbd64c094.txt  \n",
            " extracting: valid/img267_png.rf.f35fabbcc7590406144211ded9d92dd2.jpg  \n",
            " extracting: valid/img267_png.rf.f35fabbcc7590406144211ded9d92dd2.txt  \n",
            " extracting: valid/img269_png.rf.10e712f5a0fc95ce7a9d342e5de061ec.jpg  \n",
            " extracting: valid/img269_png.rf.10e712f5a0fc95ce7a9d342e5de061ec.txt  \n",
            " extracting: valid/img275_png.rf.84c53783779c79975d6fb994865bdee0.jpg  \n",
            " extracting: valid/img275_png.rf.84c53783779c79975d6fb994865bdee0.txt  \n",
            " extracting: valid/img281_png.rf.da8ad331f8927db2652572d2f080323c.jpg  \n",
            " extracting: valid/img281_png.rf.da8ad331f8927db2652572d2f080323c.txt  \n",
            " extracting: valid/img309_png.rf.e5254f9ebf6eed33e67639914f02fb41.jpg  \n",
            " extracting: valid/img309_png.rf.e5254f9ebf6eed33e67639914f02fb41.txt  \n",
            " extracting: valid/img316_png.rf.5862e214a9c5112b2e34c3a057aedaa9.jpg  \n",
            " extracting: valid/img316_png.rf.5862e214a9c5112b2e34c3a057aedaa9.txt  \n",
            " extracting: valid/img319_png.rf.b3fa8f7663fd6d689c16d619b3d2a5c7.jpg  \n",
            " extracting: valid/img319_png.rf.b3fa8f7663fd6d689c16d619b3d2a5c7.txt  \n",
            " extracting: valid/img334_png.rf.151507ae1e0fae0d635bee4c84700000.jpg  \n",
            " extracting: valid/img334_png.rf.151507ae1e0fae0d635bee4c84700000.txt  \n",
            " extracting: valid/img33_png.rf.2aae9bd2196d38ffe6358cca9fce8389.jpg  \n",
            " extracting: valid/img33_png.rf.2aae9bd2196d38ffe6358cca9fce8389.txt  \n",
            " extracting: valid/img349_png.rf.ba002925fa370d1169ab508264ed9376.jpg  \n",
            " extracting: valid/img349_png.rf.ba002925fa370d1169ab508264ed9376.txt  \n",
            " extracting: valid/img367_png.rf.62917d1432b5c44f2989886452d2bed9.jpg  \n",
            " extracting: valid/img367_png.rf.62917d1432b5c44f2989886452d2bed9.txt  \n",
            " extracting: valid/img372_png.rf.8bcffa6890ddb70573c700b732b5cfdb.jpg  \n",
            " extracting: valid/img372_png.rf.8bcffa6890ddb70573c700b732b5cfdb.txt  \n",
            " extracting: valid/img377_png.rf.eb85c76e2bad7562f8f5443dd4f46a19.jpg  \n",
            " extracting: valid/img377_png.rf.eb85c76e2bad7562f8f5443dd4f46a19.txt  \n",
            " extracting: valid/img382_png.rf.4f3c759abd72d36a50349bca68e6330a.jpg  \n",
            " extracting: valid/img382_png.rf.4f3c759abd72d36a50349bca68e6330a.txt  \n",
            " extracting: valid/img427_png.rf.ac67ef837c12c701a545a0950d2e8fc4.jpg  \n",
            " extracting: valid/img427_png.rf.ac67ef837c12c701a545a0950d2e8fc4.txt  \n",
            " extracting: valid/img430_png.rf.c5ddcb5724f8231db69f6d350db4d094.jpg  \n",
            " extracting: valid/img430_png.rf.c5ddcb5724f8231db69f6d350db4d094.txt  \n",
            " extracting: valid/img431_png.rf.a5ebcc7fbaba6e4a1e8666ebdb8b1fde.jpg  \n",
            " extracting: valid/img431_png.rf.a5ebcc7fbaba6e4a1e8666ebdb8b1fde.txt  \n",
            " extracting: valid/img434_png.rf.c3a896d94a4a0c6a49d1557fa3063c08.jpg  \n",
            " extracting: valid/img434_png.rf.c3a896d94a4a0c6a49d1557fa3063c08.txt  \n",
            " extracting: valid/img43_png.rf.b63b75b435680b262350977662bed372.jpg  \n",
            " extracting: valid/img43_png.rf.b63b75b435680b262350977662bed372.txt  \n",
            " extracting: valid/img444_png.rf.b8b0015fc7600d7a5f23bf8794468a1c.jpg  \n",
            " extracting: valid/img444_png.rf.b8b0015fc7600d7a5f23bf8794468a1c.txt  \n",
            " extracting: valid/img449_png.rf.9bc7f99a50d3f98bcb721d5cddff4118.jpg  \n",
            " extracting: valid/img449_png.rf.9bc7f99a50d3f98bcb721d5cddff4118.txt  \n",
            " extracting: valid/img467_png.rf.0fc814fad3583a76deb676d2038e45bd.jpg  \n",
            " extracting: valid/img467_png.rf.0fc814fad3583a76deb676d2038e45bd.txt  \n",
            " extracting: valid/img481_png.rf.18bb24332f6207f833445bb4fda07aae.jpg  \n",
            " extracting: valid/img481_png.rf.18bb24332f6207f833445bb4fda07aae.txt  \n",
            " extracting: valid/img494_png.rf.8de5c49faa1fbc474dc7408a739a5e1a.jpg  \n",
            " extracting: valid/img494_png.rf.8de5c49faa1fbc474dc7408a739a5e1a.txt  \n",
            " extracting: valid/img497_png.rf.9bd3a5df22b515b37ebe15c05fcd15fa.jpg  \n",
            " extracting: valid/img497_png.rf.9bd3a5df22b515b37ebe15c05fcd15fa.txt  \n",
            " extracting: valid/img4_png.rf.edb30ef709de08de0ae3156886bef837.jpg  \n",
            " extracting: valid/img4_png.rf.edb30ef709de08de0ae3156886bef837.txt  \n",
            " extracting: valid/img62_png.rf.7f6091aa2c142a91539b0b6e8887dc34.jpg  \n",
            " extracting: valid/img62_png.rf.7f6091aa2c142a91539b0b6e8887dc34.txt  \n",
            " extracting: valid/img75_png.rf.5731f837da79799f6643778092fbb1cb.jpg  \n",
            " extracting: valid/img75_png.rf.5731f837da79799f6643778092fbb1cb.txt  \n",
            " extracting: valid/img78_png.rf.348ed34b45500b1a48fbff12d45b7515.jpg  \n",
            " extracting: valid/img78_png.rf.348ed34b45500b1a48fbff12d45b7515.txt  \n",
            " extracting: valid/img84_png.rf.aabc611a86c431c092924a66a0fe2998.jpg  \n",
            " extracting: valid/img84_png.rf.aabc611a86c431c092924a66a0fe2998.txt  \n",
            " extracting: valid/img90_png.rf.cb3efc16b45a40f1c95ec46f80fe6844.jpg  \n",
            " extracting: valid/img90_png.rf.cb3efc16b45a40f1c95ec46f80fe6844.txt  \n",
            " extracting: valid/img92_png.rf.7e375835acfed101701a1b6e4f27f6d2.jpg  \n",
            " extracting: valid/img92_png.rf.7e375835acfed101701a1b6e4f27f6d2.txt  \n",
            " extracting: valid/img98_png.rf.3d733db0095ec938508012fe73fab7eb.jpg  \n",
            " extracting: valid/img98_png.rf.3d733db0095ec938508012fe73fab7eb.txt  \n"
          ],
          "name": "stdout"
        }
      ]
    },
    {
      "cell_type": "code",
      "metadata": {
        "id": "ERM7oPZI_Un9"
      },
      "source": [
        "\n",
        "\n",
        "# img46_png.rf.c2452998eff2a3512c05bc2f9328903d\n",
        "# img140_png.rf.87db1a5c1267a7d76ed91372d05c8bc6\n",
        "# img250_png.rf.f07cd896b175a1d79a5d5c57b85ab5dc\n",
        "# img322_png.rf.f058405cc1a405c1a2d65eccd1f55daa\n",
        "# img286_png.rf.cacc154c861334991cdd0d5a46372d16\n",
        "\n",
        "\n",
        "\n",
        "# img147_png.rf.c749ee43aebfdcf667e280e235571dad\n",
        "# img162_png.rf.31cef160cfd4582a28a271e3f80dc987\n",
        "# img177_png.rf.c7df2564a3bc35b866f02475347fe64c\n",
        "# img316_png.rf.5862e214a9c5112b2e34c3a057aedaa9\n",
        "# img319_png.rf.b3fa8f7663fd6d689c16d619b3d2a5c7"
      ],
      "execution_count": null,
      "outputs": []
    },
    {
      "cell_type": "code",
      "metadata": {
        "colab": {
          "base_uri": "https://localhost:8080/"
        },
        "id": "HEerkTUzAIEt",
        "outputId": "7e1fedbe-98c2-4a98-cceb-593bb112a177"
      },
      "source": [
        "!pwd"
      ],
      "execution_count": null,
      "outputs": [
        {
          "output_type": "stream",
          "text": [
            "/content\n"
          ],
          "name": "stdout"
        }
      ]
    },
    {
      "cell_type": "code",
      "metadata": {
        "colab": {
          "base_uri": "https://localhost:8080/"
        },
        "id": "5sEOXYK6_b9f",
        "outputId": "2bf0f708-3972-4b52-fbad-3328f6d0b931"
      },
      "source": [
        "# %rm  /content/test/img140_png.rf.87db1a5c1267a7d76ed91372d05c8bc6.jpg\n",
        "# %rm /content/test/img140_png.rf.87db1a5c1267a7d76ed91372d05c8bc6.txt\n",
        "\n",
        "\n",
        "%rm /content/test/img46_png.rf.c2452998eff2a3512c05bc2f9328903d.jpg\n",
        "%rm /content/test/img46_png.rf.c2452998eff2a3512c05bc2f9328903d.txt\n",
        "\n",
        "%rm /content/test/img250_png.rf.f07cd896b175a1d79a5d5c57b85ab5dc.jpg\n",
        "%rm /content/test/img250_png.rf.f07cd896b175a1d79a5d5c57b85ab5dc.txt\n",
        "\n",
        "%rm /content/test/img286_png.rf.cacc154c861334991cdd0d5a46372d16.jpg\n",
        "%rm /content/test/img286_png.rf.cacc154c861334991cdd0d5a46372d16.txt\n",
        "\n",
        "%rm /content/test/img322_png.rf.f058405cc1a405c1a2d65eccd1f55daa.jpg\n",
        "%rm /content/test/img322_png.rf.f058405cc1a405c1a2d65eccd1f55daa.txt\n",
        "\n"
      ],
      "execution_count": null,
      "outputs": [
        {
          "output_type": "stream",
          "text": [
            "rm: cannot remove '/content/test/img46_png.rf.c2452998eff2a3512c05bc2f9328903d.jpg': No such file or directory\n",
            "rm: cannot remove '/content/test/img250_png.rf.f07cd896b175a1d79a5d5c57b85ab5dc.txt': No such file or directory\n",
            "rm: cannot remove '/content/test/img286_png.rf.cacc154c861334991cdd0d5a46372d16.jpg': No such file or directory\n",
            "rm: cannot remove '/content/test/img322_png.rf.f058405cc1a405c1a2d65eccd1f55daa.jpg': No such file or directory\n"
          ],
          "name": "stdout"
        }
      ]
    },
    {
      "cell_type": "code",
      "metadata": {
        "id": "MsSzVF1LBZKz"
      },
      "source": [
        "%cp /content/valid/img147_png.rf.c749ee43aebfdcf667e280e235571dad.jpg /content/test\n",
        "%cp /content/valid/img147_png.rf.c749ee43aebfdcf667e280e235571dad.txt /content/test\n",
        "\n",
        "%cp /content/valid/img162_png.rf.31cef160cfd4582a28a271e3f80dc987.jpg /content/test\n",
        "%cp /content/valid/img162_png.rf.31cef160cfd4582a28a271e3f80dc987.txt /content/test\n",
        "\n",
        "%cp /content/valid/img177_png.rf.c7df2564a3bc35b866f02475347fe64c.jpg /content/test\n",
        "%cp /content/valid/img177_png.rf.c7df2564a3bc35b866f02475347fe64c.txt /content/test\n",
        "\n",
        "%cp /content/valid/img316_png.rf.5862e214a9c5112b2e34c3a057aedaa9.jpg /content/test\n",
        "%cp /content/valid/img316_png.rf.5862e214a9c5112b2e34c3a057aedaa9.txt /content/test\n",
        "\n",
        "%cp /content/valid/img319_png.rf.b3fa8f7663fd6d689c16d619b3d2a5c7.jpg /content/test\n",
        "%cp /content/valid/img319_png.rf.b3fa8f7663fd6d689c16d619b3d2a5c7.txt /content/test\n",
        "\n",
        "# img147_png.rf.c749ee43aebfdcf667e280e235571dad\n",
        "# img162_png.rf.31cef160cfd4582a28a271e3f80dc987\n",
        "# img177_png.rf.c7df2564a3bc35b866f02475347fe64c\n",
        "# img316_png.rf.5862e214a9c5112b2e34c3a057aedaa9\n",
        "# img319_png.rf.b3fa8f7663fd6d689c16d619b3d2a5c7\n"
      ],
      "execution_count": null,
      "outputs": []
    },
    {
      "cell_type": "code",
      "metadata": {
        "id": "dFSgxwD9Igo6"
      },
      "source": [
        "#set up EfficientDet folder structure\n",
        "!mkdir ed_data/Chess\n",
        "!mkdir ed_data/Chess/annotations\n",
        "!mkdir ed_data/Chess/Annotations\n",
        "!mkdir ed_data/Chess/Images\n",
        "\n",
        "%cp ed_data/train/_annotations.coco.json ed_data/Chess/annotations/instances_Images.json\n",
        "%cp ed_data/train/*.jpg ed_data/Chess/Images/"
      ],
      "execution_count": null,
      "outputs": []
    },
    {
      "cell_type": "code",
      "metadata": {
        "colab": {
          "base_uri": "https://localhost:8080/"
        },
        "id": "_MM5iLaIwWpI",
        "outputId": "be0b4350-5d1a-4c36-b7be-74c894a305d8"
      },
      "source": [
        "!pwd"
      ],
      "execution_count": null,
      "outputs": [
        {
          "output_type": "stream",
          "text": [
            "/content\n"
          ],
          "name": "stdout"
        }
      ]
    },
    {
      "cell_type": "code",
      "metadata": {
        "colab": {
          "base_uri": "https://localhost:8080/"
        },
        "id": "TDrhCpRJnqOy",
        "outputId": "50e000d7-27a8-41e3-9594-3da4c3f942f3"
      },
      "source": [
        "#set up yolo folder structure\n",
        "%cd train\n",
        "%mkdir labels\n",
        "%mkdir images\n",
        "%mv *.jpg ./images/\n",
        "%mv *.txt ./labels/\n",
        "%cd images"
      ],
      "execution_count": null,
      "outputs": [
        {
          "output_type": "stream",
          "text": [
            "/content/train\n",
            "/content/train/images\n"
          ],
          "name": "stdout"
        }
      ]
    },
    {
      "cell_type": "code",
      "metadata": {
        "id": "AWUWJxAwn1pF"
      },
      "source": [
        "# create Ultralytics specific text file of training images\n",
        "file = open(\"train_images_roboflow.txt\", \"w\") \n",
        "for root, dirs, files in os.walk(\".\"):\n",
        "    for filename in files:\n",
        "      # print(\"../train/images/\" + filename)\n",
        "      if filename == \"train_images_roboflow.txt\":\n",
        "        pass\n",
        "      else:\n",
        "        file.write(\"../train/images/\" + filename + \"\\n\")\n",
        "file.close()"
      ],
      "execution_count": null,
      "outputs": []
    },
    {
      "cell_type": "code",
      "metadata": {
        "colab": {
          "base_uri": "https://localhost:8080/"
        },
        "id": "cLFwbrDdn3Cg",
        "outputId": "bb4095b0-2ae7-4eeb-cb9f-1a86547ef022"
      },
      "source": [
        "\n",
        "%cd ../../valid\n",
        "%mkdir labels\n",
        "%mkdir images\n",
        "\n",
        "%mv *.jpg ./images/\n",
        "%mv *.txt ./labels/\n",
        "%cd images"
      ],
      "execution_count": null,
      "outputs": [
        {
          "output_type": "stream",
          "text": [
            "/content/valid\n",
            "/content/valid/images\n"
          ],
          "name": "stdout"
        }
      ]
    },
    {
      "cell_type": "code",
      "metadata": {
        "id": "ZFCzecyfgzsg",
        "colab": {
          "base_uri": "https://localhost:8080/"
        },
        "outputId": "00d0c79a-d319-4f05-a4a6-5291e4b5b245"
      },
      "source": [
        "# create Ultralytics specific text file of validation images\n",
        "file = open(\"valid_images_roboflow.txt\", \"w\") \n",
        "for root, dirs, files in os.walk(\".\"):\n",
        "    for filename in files:\n",
        "      # print(\"../train/images/\" + filename)\n",
        "      if filename == \"valid_images_roboflow.txt\":\n",
        "        pass\n",
        "      else:\n",
        "        file.write(\"../valid/images/\" + filename + \"\\n\")\n",
        "file.close()\n",
        "\n",
        "%cd ../../yolov3/data\n",
        "%cat ../../train/_darknet.labels > ../../train/roboflow_data.names\n",
        "\n",
        "def get_num_classes(labels_file_path):\n",
        "    classes = 0\n",
        "    with open(labels_file_path, 'r') as f:\n",
        "      for line in f:\n",
        "        classes += 1\n",
        "    return classes\n",
        "\n",
        "# update the roboflow.data file with correct number of classes\n",
        "import re\n",
        "\n",
        "num_classes = get_num_classes(\"../../train/_darknet.labels\")\n",
        "with open(\"roboflow.data\") as f:\n",
        "    s = f.read()\n",
        "with open(\"roboflow.data\", 'w') as f:\n",
        "    \n",
        "    # Set number of classes num_classes.\n",
        "    s = re.sub('classes=[0-9]+',\n",
        "               'classes={}'.format(num_classes), s)\n",
        "    f.write(s)\n",
        "\n",
        "%cat roboflow.data"
      ],
      "execution_count": null,
      "outputs": [
        {
          "output_type": "stream",
          "text": [
            "/content/yolov3/data\n",
            "classes=1\n",
            "train=../train/images/train_images_roboflow.txt\n",
            "valid=../valid/images/valid_images_roboflow.txt\n",
            "names=../train/roboflow_data.names\n"
          ],
          "name": "stdout"
        }
      ]
    },
    {
      "cell_type": "markdown",
      "metadata": {
        "id": "KthHlNXQplrj"
      },
      "source": [
        "# Measuring Training Time"
      ]
    },
    {
      "cell_type": "code",
      "metadata": {
        "id": "qfiwg0V5cRXk",
        "colab": {
          "base_uri": "https://localhost:8080/"
        },
        "outputId": "87b2f277-0f97-4704-ab29-9e4fb407c470"
      },
      "source": [
        "%cd ../"
      ],
      "execution_count": null,
      "outputs": [
        {
          "output_type": "stream",
          "text": [
            "/content/yolov3\n"
          ],
          "name": "stdout"
        }
      ]
    },
    {
      "cell_type": "code",
      "metadata": {
        "id": "rXEuS1tlmo7e",
        "colab": {
          "base_uri": "https://localhost:8080/"
        },
        "outputId": "060466be-879a-447d-b291-3bfe4bef1b40"
      },
      "source": [
        "#training YOLOv3 model\n",
        "#on Tesla P100-PCIE-16GB\n",
        "#based on previous experiments on our validaiton set we think the model converges completely in 100 epochs\n",
        "!python3 train.py --data data/roboflow.data --epochs 20\n",
        "#total training time 24.5 min\n",
        "\n",
        "# 0.458 hours. 27.5 min"
      ],
      "execution_count": null,
      "outputs": [
        {
          "output_type": "stream",
          "text": [
            "Namespace(accumulate=4, adam=False, batch_size=16, bucket='', cache_images=False, cfg='cfg/yolov3-spp.cfg', data='data/roboflow.data', device='', epochs=20, evolve=False, img_size=[416], multi_scale=False, name='', nosave=False, notest=False, rect=False, resume=False, single_cls=False, var=None, weights='weights/yolov3-spp-ultralytics.pt')\n",
            "Using CUDA device0 _CudaDeviceProperties(name='Tesla T4', total_memory=15079MB)\n",
            "\n",
            "2021-01-29 12:05:46.316726: I tensorflow/stream_executor/platform/default/dso_loader.cc:49] Successfully opened dynamic library libcudart.so.10.1\n",
            "Model Summary: 225 layers, 6.29987e+07 parameters, 6.29987e+07 gradients\n",
            "  % Total    % Received % Xferd  Average Speed   Time    Time     Time  Current\n",
            "                                 Dload  Upload   Total   Spent    Left  Speed\n",
            "100   408    0   408    0     0   1897      0 --:--:-- --:--:-- --:--:--  1888\n",
            "  0     0    0     0    0     0      0      0 --:--:-- --:--:-- --:--:--     0\n",
            "  0     0    0     0    0     0      0      0 --:--:-- --:--:-- --:--:--     0\n",
            "100  240M    0  240M    0     0  82.0M      0 --:--:--  0:00:02 --:--:--  123M\n",
            "Downloading https://drive.google.com/uc?export=download&id=1UcR-zVoMs7DH5dj3N1bswkiQTA4dmKF4 as weights/yolov3-spp-ultralytics.pt... Done (3.5s)\n",
            "Caching labels (400 found, 0 missing, 0 empty, 0 duplicate, for 400 images): 100% 400/400 [00:00<00:00, 6193.14it/s]\n",
            "Reading image shapes: 100% 50/50 [00:00<00:00, 2267.78it/s]\n",
            "Caching labels (50 found, 0 missing, 0 empty, 0 duplicate, for 50 images): 100% 50/50 [00:00<00:00, 6333.70it/s]\n",
            "Using 2 dataloader workers\n",
            "Starting training for 20 epochs...\n",
            "\n",
            "     Epoch   gpu_mem      GIoU       obj       cls     total   targets  img_size\n",
            "  0% 0/25 [00:00<?, ?it/s]/usr/local/lib/python3.6/dist-packages/torch/cuda/memory.py:346: FutureWarning: torch.cuda.memory_cached has been renamed to torch.cuda.memory_reserved\n",
            "  FutureWarning)\n",
            "      0/19     8.22G      1.53      4.14         0      5.68       124       416: 100% 25/25 [00:30<00:00,  1.07s/it]\n",
            "               Class    Images   Targets         P         R   mAP@0.5        F1:   0% 0/2 [00:00<?, ?it/s]/content/yolov3/utils/utils.py:532: UserWarning: This overload of nonzero is deprecated:\n",
            "\tnonzero()\n",
            "Consider using one of the following signatures instead:\n",
            "\tnonzero(*, bool as_tuple) (Triggered internally at  /pytorch/torch/csrc/utils/python_arg_parser.cpp:882.)\n",
            "  i, j = (pred[:, 5:] > conf_thres).nonzero().t()\n",
            "               Class    Images   Targets         P         R   mAP@0.5        F1: 100% 2/2 [00:03<00:00,  2.03s/it]\n",
            "                 all        50       428     0.229     0.304     0.198     0.261\n",
            "\n",
            "     Epoch   gpu_mem      GIoU       obj       cls     total   targets  img_size\n",
            "  0% 0/25 [00:00<?, ?it/s]/usr/local/lib/python3.6/dist-packages/torch/cuda/memory.py:346: FutureWarning: torch.cuda.memory_cached has been renamed to torch.cuda.memory_reserved\n",
            "  FutureWarning)\n",
            "      1/19     9.64G      1.08       2.4         0      3.48       125       416: 100% 25/25 [00:28<00:00,  1.12s/it]\n",
            "               Class    Images   Targets         P         R   mAP@0.5        F1: 100% 2/2 [00:01<00:00,  1.17it/s]\n",
            "                 all        50       428     0.296     0.537     0.347     0.382\n",
            "\n",
            "     Epoch   gpu_mem      GIoU       obj       cls     total   targets  img_size\n",
            "      2/19     9.64G     0.908      1.84         0      2.74       161       416: 100% 25/25 [00:29<00:00,  1.20s/it]\n",
            "               Class    Images   Targets         P         R   mAP@0.5        F1: 100% 2/2 [00:01<00:00,  1.13it/s]\n",
            "                 all        50       428     0.317     0.643     0.567     0.424\n",
            "\n",
            "Model Bias Summary:    layer        regression        objectness    classification\n",
            "                          89      -0.17+/-0.32      -3.18+/-1.34      -6.58+/-0.89 \n",
            "                         101       0.01+/-0.24      -2.96+/-0.07      -6.33+/-0.68 \n",
            "                         113       0.12+/-0.34      -3.83+/-0.72      -6.03+/-0.72 \n",
            "\n",
            "     Epoch   gpu_mem      GIoU       obj       cls     total   targets  img_size\n",
            "      3/19     9.64G     0.785      1.39         0      2.17       106       416: 100% 25/25 [00:31<00:00,  1.22s/it]\n",
            "               Class    Images   Targets         P         R   mAP@0.5        F1: 100% 2/2 [00:01<00:00,  1.13it/s]\n",
            "                 all        50       428     0.298     0.668     0.569     0.413\n",
            "\n",
            "     Epoch   gpu_mem      GIoU       obj       cls     total   targets  img_size\n",
            "      4/19     9.64G     0.709      1.31         0      2.02       144       416: 100% 25/25 [00:30<00:00,  1.20s/it]\n",
            "               Class    Images   Targets         P         R   mAP@0.5        F1: 100% 2/2 [00:01<00:00,  1.15it/s]\n",
            "                 all        50       428     0.271     0.722     0.612     0.394\n",
            "\n",
            "     Epoch   gpu_mem      GIoU       obj       cls     total   targets  img_size\n",
            "      5/19     9.64G     0.681      1.32         0         2       113       416: 100% 25/25 [00:31<00:00,  1.23s/it]\n",
            "               Class    Images   Targets         P         R   mAP@0.5        F1: 100% 2/2 [00:01<00:00,  1.12it/s]\n",
            "                 all        50       428     0.246     0.748     0.645      0.37\n",
            "\n",
            "     Epoch   gpu_mem      GIoU       obj       cls     total   targets  img_size\n",
            "      6/19     9.64G     0.643      1.25         0      1.89       132       416: 100% 25/25 [00:30<00:00,  1.20s/it]\n",
            "               Class    Images   Targets         P         R   mAP@0.5        F1: 100% 2/2 [00:01<00:00,  1.12it/s]\n",
            "                 all        50       428     0.253     0.764     0.679      0.38\n",
            "\n",
            "     Epoch   gpu_mem      GIoU       obj       cls     total   targets  img_size\n",
            "      7/19     9.64G     0.625      1.27         0      1.89       109       416: 100% 25/25 [00:30<00:00,  1.22s/it]\n",
            "               Class    Images   Targets         P         R   mAP@0.5        F1: 100% 2/2 [00:01<00:00,  1.11it/s]\n",
            "                 all        50       428     0.271     0.785     0.688     0.403\n",
            "\n",
            "     Epoch   gpu_mem      GIoU       obj       cls     total   targets  img_size\n",
            "      8/19     9.64G     0.603      1.16         0      1.77       140       416: 100% 25/25 [00:30<00:00,  1.20s/it]\n",
            "               Class    Images   Targets         P         R   mAP@0.5        F1: 100% 2/2 [00:01<00:00,  1.14it/s]\n",
            "                 all        50       428     0.314     0.797     0.728      0.45\n",
            "\n",
            "     Epoch   gpu_mem      GIoU       obj       cls     total   targets  img_size\n",
            "      9/19     9.64G     0.612      1.23         0      1.84       145       416: 100% 25/25 [00:30<00:00,  1.21s/it]\n",
            "               Class    Images   Targets         P         R   mAP@0.5        F1: 100% 2/2 [00:01<00:00,  1.14it/s]\n",
            "                 all        50       428      0.38     0.801     0.749     0.516\n",
            "\n",
            "     Epoch   gpu_mem      GIoU       obj       cls     total   targets  img_size\n",
            "     10/19     9.64G     0.602      1.14         0      1.74       135       416: 100% 25/25 [00:30<00:00,  1.20s/it]\n",
            "               Class    Images   Targets         P         R   mAP@0.5        F1: 100% 2/2 [00:01<00:00,  1.13it/s]\n",
            "                 all        50       428     0.424     0.811     0.771     0.557\n",
            "\n",
            "     Epoch   gpu_mem      GIoU       obj       cls     total   targets  img_size\n",
            "     11/19     9.64G     0.578      1.15         0      1.72       146       416: 100% 25/25 [00:30<00:00,  1.20s/it]\n",
            "               Class    Images   Targets         P         R   mAP@0.5        F1: 100% 2/2 [00:01<00:00,  1.14it/s]\n",
            "                 all        50       428     0.463     0.804     0.774     0.587\n",
            "\n",
            "     Epoch   gpu_mem      GIoU       obj       cls     total   targets  img_size\n",
            "     12/19     9.64G     0.581      1.14         0      1.72       130       416: 100% 25/25 [00:30<00:00,  1.21s/it]\n",
            "               Class    Images   Targets         P         R   mAP@0.5        F1: 100% 2/2 [00:01<00:00,  1.14it/s]\n",
            "                 all        50       428     0.502     0.804     0.781     0.618\n",
            "\n",
            "     Epoch   gpu_mem      GIoU       obj       cls     total   targets  img_size\n",
            "     13/19     9.64G     0.559      1.13         0      1.69       154       416: 100% 25/25 [00:30<00:00,  1.20s/it]\n",
            "               Class    Images   Targets         P         R   mAP@0.5        F1: 100% 2/2 [00:01<00:00,  1.14it/s]\n",
            "                 all        50       428     0.538     0.813      0.79     0.648\n",
            "\n",
            "     Epoch   gpu_mem      GIoU       obj       cls     total   targets  img_size\n",
            "     14/19     9.64G     0.575      1.15         0      1.73       131       416: 100% 25/25 [00:30<00:00,  1.21s/it]\n",
            "               Class    Images   Targets         P         R   mAP@0.5        F1: 100% 2/2 [00:01<00:00,  1.15it/s]\n",
            "                 all        50       428     0.567     0.815     0.794     0.669\n",
            "\n",
            "     Epoch   gpu_mem      GIoU       obj       cls     total   targets  img_size\n",
            "     15/19     9.64G     0.558      1.11         0      1.66       139       416: 100% 25/25 [00:30<00:00,  1.20s/it]\n",
            "               Class    Images   Targets         P         R   mAP@0.5        F1: 100% 2/2 [00:01<00:00,  1.14it/s]\n",
            "                 all        50       428       0.6     0.819     0.797     0.692\n",
            "\n",
            "     Epoch   gpu_mem      GIoU       obj       cls     total   targets  img_size\n",
            "     16/19     9.64G     0.566       1.1         0      1.67       127       416: 100% 25/25 [00:30<00:00,  1.21s/it]\n",
            "               Class    Images   Targets         P         R   mAP@0.5        F1: 100% 2/2 [00:01<00:00,  1.15it/s]\n",
            "                 all        50       428     0.627     0.825     0.801     0.712\n",
            "\n",
            "     Epoch   gpu_mem      GIoU       obj       cls     total   targets  img_size\n",
            "     17/19     9.64G     0.554      1.13         0      1.68       146       416: 100% 25/25 [00:30<00:00,  1.20s/it]\n",
            "               Class    Images   Targets         P         R   mAP@0.5        F1: 100% 2/2 [00:01<00:00,  1.14it/s]\n",
            "                 all        50       428     0.639     0.822     0.807     0.719\n",
            "\n",
            "     Epoch   gpu_mem      GIoU       obj       cls     total   targets  img_size\n",
            "     18/19     9.64G      0.56      1.09         0      1.65       129       416: 100% 25/25 [00:30<00:00,  1.20s/it]\n",
            "               Class    Images   Targets         P         R   mAP@0.5        F1: 100% 2/2 [00:01<00:00,  1.14it/s]\n",
            "                 all        50       428     0.662     0.825     0.809     0.735\n",
            "\n",
            "     Epoch   gpu_mem      GIoU       obj       cls     total   targets  img_size\n",
            "     19/19     9.64G      0.57      1.14         0      1.71       152       416: 100% 25/25 [00:30<00:00,  1.21s/it]\n",
            "               Class    Images   Targets         P         R   mAP@0.5        F1: 100% 2/2 [00:01<00:00,  1.12it/s]\n",
            "                 all        50       428     0.676     0.829     0.815     0.745\n",
            "20 epochs completed in 0.200 hours.\n",
            "\n"
          ],
          "name": "stdout"
        }
      ]
    },
    {
      "cell_type": "code",
      "metadata": {
        "id": "iLH1ZL26mq_N",
        "colab": {
          "base_uri": "https://localhost:8080/"
        },
        "outputId": "39abea6e-3f3e-4e49-d838-37dab8bca6ee"
      },
      "source": [
        "%cd /content/\n",
        "#now train EfficientDet model"
      ],
      "execution_count": null,
      "outputs": [
        {
          "output_type": "stream",
          "text": [
            "/content\n"
          ],
          "name": "stdout"
        }
      ]
    },
    {
      "cell_type": "code",
      "metadata": {
        "id": "Rggiwxxn2Etr"
      },
      "source": [
        "import os\n",
        "import sys\n",
        "sys.path.append(\"Monk_Object_Detection/4_efficientdet/lib/\");\n",
        "from train_detector import Detector\n",
        "gtf = Detector();\n",
        "\n",
        "#directs the model towards file structure\n",
        "root_dir = \"./\";\n",
        "coco_dir = \"ed_data/Chess\";\n",
        "img_dir = \"./\";\n",
        "set_dir = \"Images\";\n",
        "\n"
      ],
      "execution_count": null,
      "outputs": []
    },
    {
      "cell_type": "code",
      "metadata": {
        "id": "OexLh8Rp2H1o",
        "colab": {
          "base_uri": "https://localhost:8080/",
          "height": 177
        },
        "outputId": "ad6aff19-b84b-4816-a93d-afc4f09f582f"
      },
      "source": [
        "gtf.Train_Dataset(root_dir, coco_dir, img_dir, set_dir, batch_size=8, image_size=416, use_gpu=True)\n",
        "gtf.Model();\n",
        "\n",
        "#ed_data/Chess/annotations/instances_Images.json"
      ],
      "execution_count": null,
      "outputs": [
        {
          "output_type": "stream",
          "text": [
            "loading annotations into memory...\n",
            "Done (t=0.02s)\n",
            "creating index...\n",
            "index created!\n"
          ],
          "name": "stdout"
        },
        {
          "output_type": "stream",
          "text": [
            "Downloading: \"https://github.com/lukemelas/EfficientNet-PyTorch/releases/download/1.0/efficientnet-b0-355c32eb.pth\" to /root/.cache/torch/hub/checkpoints/efficientnet-b0-355c32eb.pth\n"
          ],
          "name": "stderr"
        },
        {
          "output_type": "display_data",
          "data": {
            "text/html": [
              "<div style=\"display:flex;flex-direction:row;\"><span></span><progress style='margin:2px 4px;' max='21388428' value='21388428'></progress>100% 20.4M/20.4M [00:00&lt;00:00, 128MB/s]</div>"
            ],
            "text/plain": [
              "<tqdm._fake_ipywidgets.HBox object>"
            ]
          },
          "metadata": {
            "tags": []
          }
        },
        {
          "output_type": "stream",
          "text": [
            "\n",
            "Loaded pretrained weights for efficientnet-b0\n"
          ],
          "name": "stdout"
        }
      ]
    },
    {
      "cell_type": "code",
      "metadata": {
        "id": "rcnLpfGOwOgo",
        "colab": {
          "base_uri": "https://localhost:8080/",
          "height": 1000
        },
        "outputId": "cb08930c-8bb9-46ab-e011-7fefe305b613"
      },
      "source": [
        "%%time\n",
        "gtf.Set_Hyperparams(lr=0.0001, val_interval=1, es_min_delta=0.0, es_patience=0)\n",
        "gtf.Train(num_epochs=20, model_output_dir=\"trained/\");\n",
        "#total training time 18.3 min\n",
        "#25.2 min"
      ],
      "execution_count": null,
      "outputs": [
        {
          "output_type": "display_data",
          "data": {
            "text/html": [
              "<div style=\"display:flex;flex-direction:row;\"><span>Epoch: 1/20. Iteration: 50/50. Cls loss: 0.49559. Reg loss: 0.86243. Batch loss: 1.35802 Total loss: 1.69764</span><progress style='margin:2px 4px;description_width:initial;' max='50' value='50'></progress>100% 50/50 [00:21&lt;00:00,  2.59it/s]</div>"
            ],
            "text/plain": [
              "<tqdm._fake_ipywidgets.HBox object>"
            ]
          },
          "metadata": {
            "tags": []
          }
        },
        {
          "output_type": "stream",
          "text": [
            "\n"
          ],
          "name": "stdout"
        },
        {
          "output_type": "stream",
          "text": [
            "Monk_Object_Detection/4_efficientdet/lib/src/model.py:251: TracerWarning: Converting a tensor to a Python index might cause the trace to be incorrect. We can't record the data flow of Python values, so this value will be treated as a constant in the future. This means that the trace might not generalize to other inputs!\n",
            "  if len(inputs) == 2:\n",
            "Monk_Object_Detection/4_efficientdet/lib/src/utils.py:84: TracerWarning: Converting a tensor to a Python integer might cause the trace to be incorrect. We can't record the data flow of Python values, so this value will be treated as a constant in the future. This means that the trace might not generalize to other inputs!\n",
            "  image_shape = np.array(image_shape)\n",
            "Monk_Object_Detection/4_efficientdet/lib/src/utils.py:96: TracerWarning: torch.from_numpy results are registered as constants in the trace. You can safely ignore this warning if you use this function to create tensors out of constant variables that would be the same every time you call this function. In any other case, this might cause the trace to be incorrect.\n",
            "  anchors = torch.from_numpy(all_anchors.astype(np.float32))\n",
            "Monk_Object_Detection/4_efficientdet/lib/src/model.py:282: TracerWarning: Converting a tensor to a Python boolean might cause the trace to be incorrect. We can't record the data flow of Python values, so this value will be treated as a constant in the future. This means that the trace might not generalize to other inputs!\n",
            "  if scores_over_thresh.sum() == 0:\n",
            "/usr/local/lib/python3.6/dist-packages/torch/onnx/symbolic_opset9.py:2332: UserWarning: Exporting aten::index operator with indices of type Byte. Only 1-D indices are supported. In any other case, this will produce an incorrect ONNX graph.\n",
            "  warnings.warn(\"Exporting aten::index operator with indices of type Byte. \"\n",
            "/usr/local/lib/python3.6/dist-packages/torch/onnx/symbolic_opset9.py:588: UserWarning: This model contains a squeeze operation on dimension 1 on an input with unknown shape. Note that if the size of dimension 1 of the input is not 1, the ONNX model will return an error. Opset version 11 supports squeezing on non-singleton dimensions, it is recommended to export this model using opset version 11 or higher.\n",
            "  \"version 11 or higher.\")\n"
          ],
          "name": "stderr"
        },
        {
          "output_type": "display_data",
          "data": {
            "text/html": [
              "<div style=\"display:flex;flex-direction:row;\"><span>Epoch: 2/20. Iteration: 50/50. Cls loss: 0.40868. Reg loss: 0.69700. Batch loss: 1.10568 Total loss: 1.33156</span><progress style='margin:2px 4px;description_width:initial;' max='50' value='50'></progress>100% 50/50 [00:21&lt;00:00,  2.51it/s]</div>"
            ],
            "text/plain": [
              "<tqdm._fake_ipywidgets.HBox object>"
            ]
          },
          "metadata": {
            "tags": []
          }
        },
        {
          "output_type": "stream",
          "text": [
            "\n"
          ],
          "name": "stdout"
        },
        {
          "output_type": "display_data",
          "data": {
            "text/html": [
              "<div style=\"display:flex;flex-direction:row;\"><span>Epoch: 3/20. Iteration: 50/50. Cls loss: 0.43419. Reg loss: 0.64358. Batch loss: 1.07778 Total loss: 1.04719</span><progress style='margin:2px 4px;description_width:initial;' max='50' value='50'></progress>100% 50/50 [00:22&lt;00:00,  2.53it/s]</div>"
            ],
            "text/plain": [
              "<tqdm._fake_ipywidgets.HBox object>"
            ]
          },
          "metadata": {
            "tags": []
          }
        },
        {
          "output_type": "stream",
          "text": [
            "\n"
          ],
          "name": "stdout"
        },
        {
          "output_type": "display_data",
          "data": {
            "text/html": [
              "<div style=\"display:flex;flex-direction:row;\"><span>Epoch: 4/20. Iteration: 50/50. Cls loss: 0.31439. Reg loss: 0.62042. Batch loss: 0.93481 Total loss: 0.91035</span><progress style='margin:2px 4px;description_width:initial;' max='50' value='50'></progress>100% 50/50 [00:21&lt;00:00,  2.57it/s]</div>"
            ],
            "text/plain": [
              "<tqdm._fake_ipywidgets.HBox object>"
            ]
          },
          "metadata": {
            "tags": []
          }
        },
        {
          "output_type": "stream",
          "text": [
            "\n"
          ],
          "name": "stdout"
        },
        {
          "output_type": "display_data",
          "data": {
            "text/html": [
              "<div style=\"display:flex;flex-direction:row;\"><span>Epoch: 5/20. Iteration: 50/50. Cls loss: 0.19251. Reg loss: 0.48511. Batch loss: 0.67762 Total loss: 0.83180</span><progress style='margin:2px 4px;description_width:initial;' max='50' value='50'></progress>100% 50/50 [00:21&lt;00:00,  2.58it/s]</div>"
            ],
            "text/plain": [
              "<tqdm._fake_ipywidgets.HBox object>"
            ]
          },
          "metadata": {
            "tags": []
          }
        },
        {
          "output_type": "stream",
          "text": [
            "\n"
          ],
          "name": "stdout"
        },
        {
          "output_type": "display_data",
          "data": {
            "text/html": [
              "<div style=\"display:flex;flex-direction:row;\"><span>Epoch: 6/20. Iteration: 50/50. Cls loss: 0.21968. Reg loss: 0.51329. Batch loss: 0.73297 Total loss: 0.78684</span><progress style='margin:2px 4px;description_width:initial;' max='50' value='50'></progress>100% 50/50 [00:22&lt;00:00,  2.56it/s]</div>"
            ],
            "text/plain": [
              "<tqdm._fake_ipywidgets.HBox object>"
            ]
          },
          "metadata": {
            "tags": []
          }
        },
        {
          "output_type": "stream",
          "text": [
            "\n"
          ],
          "name": "stdout"
        },
        {
          "output_type": "display_data",
          "data": {
            "text/html": [
              "<div style=\"display:flex;flex-direction:row;\"><span>Epoch: 7/20. Iteration: 50/50. Cls loss: 0.26987. Reg loss: 0.49263. Batch loss: 0.76250 Total loss: 0.72835</span><progress style='margin:2px 4px;description_width:initial;' max='50' value='50'></progress>100% 50/50 [00:22&lt;00:00,  2.55it/s]</div>"
            ],
            "text/plain": [
              "<tqdm._fake_ipywidgets.HBox object>"
            ]
          },
          "metadata": {
            "tags": []
          }
        },
        {
          "output_type": "stream",
          "text": [
            "\n"
          ],
          "name": "stdout"
        },
        {
          "output_type": "display_data",
          "data": {
            "text/html": [
              "<div style=\"display:flex;flex-direction:row;\"><span>Epoch: 8/20. Iteration: 50/50. Cls loss: 0.21118. Reg loss: 0.46726. Batch loss: 0.67844 Total loss: 0.69445</span><progress style='margin:2px 4px;description_width:initial;' max='50' value='50'></progress>100% 50/50 [00:22&lt;00:00,  2.55it/s]</div>"
            ],
            "text/plain": [
              "<tqdm._fake_ipywidgets.HBox object>"
            ]
          },
          "metadata": {
            "tags": []
          }
        },
        {
          "output_type": "stream",
          "text": [
            "\n"
          ],
          "name": "stdout"
        },
        {
          "output_type": "display_data",
          "data": {
            "text/html": [
              "<div style=\"display:flex;flex-direction:row;\"><span>Epoch: 9/20. Iteration: 50/50. Cls loss: 0.23493. Reg loss: 0.50560. Batch loss: 0.74054 Total loss: 0.65096</span><progress style='margin:2px 4px;description_width:initial;' max='50' value='50'></progress>100% 50/50 [00:22&lt;00:00,  2.56it/s]</div>"
            ],
            "text/plain": [
              "<tqdm._fake_ipywidgets.HBox object>"
            ]
          },
          "metadata": {
            "tags": []
          }
        },
        {
          "output_type": "stream",
          "text": [
            "\n"
          ],
          "name": "stdout"
        },
        {
          "output_type": "display_data",
          "data": {
            "text/html": [
              "<div style=\"display:flex;flex-direction:row;\"><span>Epoch: 10/20. Iteration: 50/50. Cls loss: 0.12061. Reg loss: 0.35771. Batch loss: 0.47832 Total loss: 0.62612</span><progress style='margin:2px 4px;description_width:initial;' max='50' value='50'></progress>100% 50/50 [00:22&lt;00:00,  2.55it/s]</div>"
            ],
            "text/plain": [
              "<tqdm._fake_ipywidgets.HBox object>"
            ]
          },
          "metadata": {
            "tags": []
          }
        },
        {
          "output_type": "stream",
          "text": [
            "\n"
          ],
          "name": "stdout"
        },
        {
          "output_type": "display_data",
          "data": {
            "text/html": [
              "<div style=\"display:flex;flex-direction:row;\"><span>Epoch: 11/20. Iteration: 50/50. Cls loss: 0.09767. Reg loss: 0.29305. Batch loss: 0.39072 Total loss: 0.58941</span><progress style='margin:2px 4px;description_width:initial;' max='50' value='50'></progress>100% 50/50 [00:22&lt;00:00,  2.54it/s]</div>"
            ],
            "text/plain": [
              "<tqdm._fake_ipywidgets.HBox object>"
            ]
          },
          "metadata": {
            "tags": []
          }
        },
        {
          "output_type": "stream",
          "text": [
            "\n"
          ],
          "name": "stdout"
        },
        {
          "output_type": "display_data",
          "data": {
            "text/html": [
              "<div style=\"display:flex;flex-direction:row;\"><span>Epoch: 12/20. Iteration: 50/50. Cls loss: 0.17069. Reg loss: 0.46909. Batch loss: 0.63978 Total loss: 0.57466</span><progress style='margin:2px 4px;description_width:initial;' max='50' value='50'></progress>100% 50/50 [00:21&lt;00:00,  2.59it/s]</div>"
            ],
            "text/plain": [
              "<tqdm._fake_ipywidgets.HBox object>"
            ]
          },
          "metadata": {
            "tags": []
          }
        },
        {
          "output_type": "stream",
          "text": [
            "\n"
          ],
          "name": "stdout"
        },
        {
          "output_type": "display_data",
          "data": {
            "text/html": [
              "<div style=\"display:flex;flex-direction:row;\"><span>Epoch: 13/20. Iteration: 50/50. Cls loss: 0.21249. Reg loss: 0.45454. Batch loss: 0.66703 Total loss: 0.54688</span><progress style='margin:2px 4px;description_width:initial;' max='50' value='50'></progress>100% 50/50 [00:22&lt;00:00,  2.59it/s]</div>"
            ],
            "text/plain": [
              "<tqdm._fake_ipywidgets.HBox object>"
            ]
          },
          "metadata": {
            "tags": []
          }
        },
        {
          "output_type": "stream",
          "text": [
            "\n"
          ],
          "name": "stdout"
        },
        {
          "output_type": "display_data",
          "data": {
            "text/html": [
              "<div style=\"display:flex;flex-direction:row;\"><span>Epoch: 14/20. Iteration: 50/50. Cls loss: 0.17285. Reg loss: 0.43021. Batch loss: 0.60306 Total loss: 0.54650</span><progress style='margin:2px 4px;description_width:initial;' max='50' value='50'></progress>100% 50/50 [00:21&lt;00:00,  2.57it/s]</div>"
            ],
            "text/plain": [
              "<tqdm._fake_ipywidgets.HBox object>"
            ]
          },
          "metadata": {
            "tags": []
          }
        },
        {
          "output_type": "stream",
          "text": [
            "\n"
          ],
          "name": "stdout"
        },
        {
          "output_type": "display_data",
          "data": {
            "text/html": [
              "<div style=\"display:flex;flex-direction:row;\"><span>Epoch: 15/20. Iteration: 50/50. Cls loss: 0.25212. Reg loss: 0.46044. Batch loss: 0.71256 Total loss: 0.51399</span><progress style='margin:2px 4px;description_width:initial;' max='50' value='50'></progress>100% 50/50 [00:21&lt;00:00,  2.58it/s]</div>"
            ],
            "text/plain": [
              "<tqdm._fake_ipywidgets.HBox object>"
            ]
          },
          "metadata": {
            "tags": []
          }
        },
        {
          "output_type": "stream",
          "text": [
            "\n"
          ],
          "name": "stdout"
        },
        {
          "output_type": "display_data",
          "data": {
            "text/html": [
              "<div style=\"display:flex;flex-direction:row;\"><span>Epoch: 16/20. Iteration: 50/50. Cls loss: 0.23884. Reg loss: 0.45916. Batch loss: 0.69801 Total loss: 0.51620</span><progress style='margin:2px 4px;description_width:initial;' max='50' value='50'></progress>100% 50/50 [00:21&lt;00:00,  2.59it/s]</div>"
            ],
            "text/plain": [
              "<tqdm._fake_ipywidgets.HBox object>"
            ]
          },
          "metadata": {
            "tags": []
          }
        },
        {
          "output_type": "stream",
          "text": [
            "\n"
          ],
          "name": "stdout"
        },
        {
          "output_type": "display_data",
          "data": {
            "text/html": [
              "<div style=\"display:flex;flex-direction:row;\"><span>Epoch: 17/20. Iteration: 50/50. Cls loss: 0.15249. Reg loss: 0.28255. Batch loss: 0.43504 Total loss: 0.48264</span><progress style='margin:2px 4px;description_width:initial;' max='50' value='50'></progress>100% 50/50 [00:21&lt;00:00,  2.57it/s]</div>"
            ],
            "text/plain": [
              "<tqdm._fake_ipywidgets.HBox object>"
            ]
          },
          "metadata": {
            "tags": []
          }
        },
        {
          "output_type": "stream",
          "text": [
            "\n"
          ],
          "name": "stdout"
        },
        {
          "output_type": "display_data",
          "data": {
            "text/html": [
              "<div style=\"display:flex;flex-direction:row;\"><span>Epoch: 18/20. Iteration: 50/50. Cls loss: 0.13300. Reg loss: 0.34451. Batch loss: 0.47752 Total loss: 0.47977</span><progress style='margin:2px 4px;description_width:initial;' max='50' value='50'></progress>100% 50/50 [00:21&lt;00:00,  2.59it/s]</div>"
            ],
            "text/plain": [
              "<tqdm._fake_ipywidgets.HBox object>"
            ]
          },
          "metadata": {
            "tags": []
          }
        },
        {
          "output_type": "stream",
          "text": [
            "\n"
          ],
          "name": "stdout"
        },
        {
          "output_type": "display_data",
          "data": {
            "text/html": [
              "<div style=\"display:flex;flex-direction:row;\"><span>Epoch: 19/20. Iteration: 50/50. Cls loss: 0.11883. Reg loss: 0.34348. Batch loss: 0.46231 Total loss: 0.45665</span><progress style='margin:2px 4px;description_width:initial;' max='50' value='50'></progress>100% 50/50 [00:21&lt;00:00,  2.57it/s]</div>"
            ],
            "text/plain": [
              "<tqdm._fake_ipywidgets.HBox object>"
            ]
          },
          "metadata": {
            "tags": []
          }
        },
        {
          "output_type": "stream",
          "text": [
            "\n"
          ],
          "name": "stdout"
        },
        {
          "output_type": "display_data",
          "data": {
            "text/html": [
              "<div style=\"display:flex;flex-direction:row;\"><span>Epoch: 20/20. Iteration: 50/50. Cls loss: 0.13182. Reg loss: 0.37976. Batch loss: 0.51158 Total loss: 0.46761</span><progress style='margin:2px 4px;description_width:initial;' max='50' value='50'></progress>100% 50/50 [00:22&lt;00:00,  2.56it/s]</div>"
            ],
            "text/plain": [
              "<tqdm._fake_ipywidgets.HBox object>"
            ]
          },
          "metadata": {
            "tags": []
          }
        },
        {
          "output_type": "stream",
          "text": [
            "\n",
            "CPU times: user 7min 33s, sys: 1min 23s, total: 8min 56s\n",
            "Wall time: 9min 32s\n"
          ],
          "name": "stdout"
        }
      ]
    },
    {
      "cell_type": "markdown",
      "metadata": {
        "id": "uQR0_jLvCHDY"
      },
      "source": [
        "# Measuring Model Size"
      ]
    },
    {
      "cell_type": "code",
      "metadata": {
        "id": "9tMzq2kdCx3T",
        "colab": {
          "base_uri": "https://localhost:8080/"
        },
        "outputId": "cd98db7e-045c-4769-af92-31e036292b9b"
      },
      "source": [
        "#size of yolov3 in our test\n",
        "#number of parameters 65,252,682\n",
        "!du --block-size=1MB yolov3/weights/last.pt"
      ],
      "execution_count": null,
      "outputs": [
        {
          "output_type": "stream",
          "text": [
            "253\tyolov3/weights/last.pt\n"
          ],
          "name": "stdout"
        }
      ]
    },
    {
      "cell_type": "code",
      "metadata": {
        "id": "je86emtECyua",
        "colab": {
          "base_uri": "https://localhost:8080/"
        },
        "outputId": "32858dae-8001-4062-bbd4-07fa096303f8"
      },
      "source": [
        "#size of EfficientDet-D0 in our test\n",
        "#number of parameters 3,900,000 \n",
        "!du --block-size=1MB trained/signatrix_efficientdet_coco.pth"
      ],
      "execution_count": null,
      "outputs": [
        {
          "output_type": "stream",
          "text": [
            "17\ttrained/signatrix_efficientdet_coco.pth\n"
          ],
          "name": "stdout"
        }
      ]
    },
    {
      "cell_type": "code",
      "metadata": {
        "id": "j6Mn0nDFC6kq",
        "colab": {
          "base_uri": "https://localhost:8080/"
        },
        "outputId": "b031d9c8-5dab-432d-c683-85025f3d9ab7"
      },
      "source": [
        "!du --block-size=1MB trained/signatrix_efficientdet_coco.onnx"
      ],
      "execution_count": null,
      "outputs": [
        {
          "output_type": "stream",
          "text": [
            "1\ttrained/signatrix_efficientdet_coco.onnx\n"
          ],
          "name": "stdout"
        }
      ]
    },
    {
      "cell_type": "code",
      "metadata": {
        "id": "gOVs20hbEVES"
      },
      "source": [
        "#param multiplier 17x\n",
        "#model size 15x "
      ],
      "execution_count": null,
      "outputs": []
    },
    {
      "cell_type": "code",
      "metadata": {
        "colab": {
          "base_uri": "https://localhost:8080/"
        },
        "id": "bcODmN8lCyJD",
        "outputId": "ae2cf7b7-1ea0-48b3-d0ce-fabffc4e923b"
      },
      "source": [
        "!pwd"
      ],
      "execution_count": null,
      "outputs": [
        {
          "output_type": "stream",
          "text": [
            "/content\n"
          ],
          "name": "stdout"
        }
      ]
    },
    {
      "cell_type": "markdown",
      "metadata": {
        "id": "Nft57ZmxIXft"
      },
      "source": [
        "# Measuring Inference Time"
      ]
    },
    {
      "cell_type": "code",
      "metadata": {
        "id": "tnS8OJraIZ5H"
      },
      "source": [
        "##first inference with effficientDet\n",
        "import os\n",
        "import sys\n",
        "sys.path.append(\"Monk_Object_Detection/4_efficientdet/lib/\");\n",
        "from infer_detector import Infer\n",
        "gtf = Infer();\n",
        "#our trained model weights are in here in onxx format\n",
        "gtf.Model(model_dir=\"trained/\")\n",
        "#extract class list from our annotations\n",
        "import json\n",
        "with open('ed_data/train/_annotations.coco.json') as json_file:\n",
        "    data = json.load(json_file)\n",
        "class_list = []\n",
        "for category in data['categories']:\n",
        "  class_list.append(category['name'])\n"
      ],
      "execution_count": null,
      "outputs": []
    },
    {
      "cell_type": "code",
      "metadata": {
        "id": "-pkSLv3RVXx5",
        "colab": {
          "base_uri": "https://localhost:8080/"
        },
        "outputId": "fd4a9510-e7f9-4d78-f57a-f080b28dd85a"
      },
      "source": [
        "!ls test"
      ],
      "execution_count": null,
      "outputs": [
        {
          "output_type": "stream",
          "text": [
            "_darknet.labels\n",
            "img104_png.rf.14d4a786fbf69dcc683def4e78965a85.jpg\n",
            "img104_png.rf.14d4a786fbf69dcc683def4e78965a85.txt\n",
            "img107_png.rf.cd910224fbc56ebb2ef95373e0a5e038.jpg\n",
            "img107_png.rf.cd910224fbc56ebb2ef95373e0a5e038.txt\n",
            "img124_png.rf.de0d384967047520a148f25953ed8cb1.jpg\n",
            "img124_png.rf.de0d384967047520a148f25953ed8cb1.txt\n",
            "img145_png.rf.cb601f2a04d7a401d6a907667f980ac3.jpg\n",
            "img145_png.rf.cb601f2a04d7a401d6a907667f980ac3.txt\n",
            "img146_png.rf.f23797e3de67ccbf7f1c2143197b3b17.jpg\n",
            "img146_png.rf.f23797e3de67ccbf7f1c2143197b3b17.txt\n",
            "img147_png.rf.c749ee43aebfdcf667e280e235571dad.jpg\n",
            "img147_png.rf.c749ee43aebfdcf667e280e235571dad.txt\n",
            "img149_png.rf.e3dc00286bffb2d15d557a2903690bd9.jpg\n",
            "img149_png.rf.e3dc00286bffb2d15d557a2903690bd9.txt\n",
            "img153_png.rf.c2347312df1b91bf79e253de41f4b770.jpg\n",
            "img153_png.rf.c2347312df1b91bf79e253de41f4b770.txt\n",
            "img155_png.rf.319f9f71a2c56621bdb45489503c8130.jpg\n",
            "img155_png.rf.319f9f71a2c56621bdb45489503c8130.txt\n",
            "img156_png.rf.5ea3bad30fed8b44034fd55edfd83923.jpg\n",
            "img156_png.rf.5ea3bad30fed8b44034fd55edfd83923.txt\n",
            "img162_png.rf.31cef160cfd4582a28a271e3f80dc987.jpg\n",
            "img162_png.rf.31cef160cfd4582a28a271e3f80dc987.txt\n",
            "img177_png.rf.c7df2564a3bc35b866f02475347fe64c.jpg\n",
            "img177_png.rf.c7df2564a3bc35b866f02475347fe64c.txt\n",
            "img188_png.rf.ab78fad8c0bbcedb5fd91e12e9c4a465.jpg\n",
            "img188_png.rf.ab78fad8c0bbcedb5fd91e12e9c4a465.txt\n",
            "img194_png.rf.691735123822c86442bbdd4333f87a4f.jpg\n",
            "img194_png.rf.691735123822c86442bbdd4333f87a4f.txt\n",
            "img200_png.rf.0aae4717f02ee1cc0f50f5fd56cd0781.jpg\n",
            "img200_png.rf.0aae4717f02ee1cc0f50f5fd56cd0781.txt\n",
            "img210_png.rf.4a1d5c3f3859987aaf83993138387e4b.jpg\n",
            "img210_png.rf.4a1d5c3f3859987aaf83993138387e4b.txt\n",
            "img215_png.rf.eb65a1f35d3b349569a8088793e31108.jpg\n",
            "img215_png.rf.eb65a1f35d3b349569a8088793e31108.txt\n",
            "img236_png.rf.ff5ded1539b635b119e7aad9187c1f7e.jpg\n",
            "img236_png.rf.ff5ded1539b635b119e7aad9187c1f7e.txt\n",
            "img259_png.rf.34aeffb14fc82140f4d4c82a0929ffe6.jpg\n",
            "img259_png.rf.34aeffb14fc82140f4d4c82a0929ffe6.txt\n",
            "img273_png.rf.382e6e52df34390d39daa00dc47a7e1c.jpg\n",
            "img273_png.rf.382e6e52df34390d39daa00dc47a7e1c.txt\n",
            "img280_png.rf.a205cf5499ed1f8cb41c18850edbff1a.jpg\n",
            "img280_png.rf.a205cf5499ed1f8cb41c18850edbff1a.txt\n",
            "img289_png.rf.c04b736b83edc9556b990a047f43ccba.jpg\n",
            "img289_png.rf.c04b736b83edc9556b990a047f43ccba.txt\n",
            "img29_png.rf.7494a07052a3792908eb68e9faf07a23.jpg\n",
            "img29_png.rf.7494a07052a3792908eb68e9faf07a23.txt\n",
            "img310_png.rf.8375662d408b18b0952ad0e0e6a2d1cb.jpg\n",
            "img310_png.rf.8375662d408b18b0952ad0e0e6a2d1cb.txt\n",
            "img311_png.rf.9aee206fec9e75b5f78e77b68b1c30c8.jpg\n",
            "img311_png.rf.9aee206fec9e75b5f78e77b68b1c30c8.txt\n",
            "img316_png.rf.5862e214a9c5112b2e34c3a057aedaa9.jpg\n",
            "img316_png.rf.5862e214a9c5112b2e34c3a057aedaa9.txt\n",
            "img319_png.rf.b3fa8f7663fd6d689c16d619b3d2a5c7.jpg\n",
            "img319_png.rf.b3fa8f7663fd6d689c16d619b3d2a5c7.txt\n",
            "img333_png.rf.ca04fe6ea5a8aae52836808ca33d8a5b.jpg\n",
            "img333_png.rf.ca04fe6ea5a8aae52836808ca33d8a5b.txt\n",
            "img336_png.rf.2308167a5171a1fb97e328fbcbba1d48.jpg\n",
            "img336_png.rf.2308167a5171a1fb97e328fbcbba1d48.txt\n",
            "img359_png.rf.3254e594054b1a55cbf104a2623dcf64.jpg\n",
            "img359_png.rf.3254e594054b1a55cbf104a2623dcf64.txt\n",
            "img35_png.rf.dd4d28096e93d1ad0b13a0ffc6a7f3f9.jpg\n",
            "img35_png.rf.dd4d28096e93d1ad0b13a0ffc6a7f3f9.txt\n",
            "img364_png.rf.6f3b16d79d24cb083da4c60fddb65e4b.jpg\n",
            "img364_png.rf.6f3b16d79d24cb083da4c60fddb65e4b.txt\n",
            "img371_png.rf.9d41bbdff72a015979dbf297c8b72101.jpg\n",
            "img371_png.rf.9d41bbdff72a015979dbf297c8b72101.txt\n",
            "img374_png.rf.e3b8b2afcafb8dad107392e575a1753c.jpg\n",
            "img374_png.rf.e3b8b2afcafb8dad107392e575a1753c.txt\n",
            "img383_png.rf.0b1e8f619e46c37ce8e6433e4ccb77d0.jpg\n",
            "img383_png.rf.0b1e8f619e46c37ce8e6433e4ccb77d0.txt\n",
            "img400_png.rf.34fa9ef18437561d4922f69c1dec2e5a.jpg\n",
            "img400_png.rf.34fa9ef18437561d4922f69c1dec2e5a.txt\n",
            "img439_png.rf.c32b4fb317ecfe723708a71fb1097c74.jpg\n",
            "img439_png.rf.c32b4fb317ecfe723708a71fb1097c74.txt\n",
            "img448_png.rf.524b66bd83f1d767f7ccab443d6fb6c9.jpg\n",
            "img448_png.rf.524b66bd83f1d767f7ccab443d6fb6c9.txt\n",
            "img455_png.rf.1229b3e1b0f8989250785d45eeff1ae0.jpg\n",
            "img455_png.rf.1229b3e1b0f8989250785d45eeff1ae0.txt\n",
            "img458_png.rf.ea4d2745f444214e50be53cd6a4df483.jpg\n",
            "img458_png.rf.ea4d2745f444214e50be53cd6a4df483.txt\n",
            "img460_png.rf.f118d37c0da53cc6d666479ff5a74eeb.jpg\n",
            "img460_png.rf.f118d37c0da53cc6d666479ff5a74eeb.txt\n",
            "img463_png.rf.6ba81ea15d5236d00483602c15e08c07.jpg\n",
            "img463_png.rf.6ba81ea15d5236d00483602c15e08c07.txt\n",
            "img468_png.rf.1b1d21e7c6c4f09287d7607f636c8365.jpg\n",
            "img468_png.rf.1b1d21e7c6c4f09287d7607f636c8365.txt\n",
            "img484_png.rf.3bda1ed1cd6cb0dbab9c001f69ecc665.jpg\n",
            "img484_png.rf.3bda1ed1cd6cb0dbab9c001f69ecc665.txt\n",
            "img48_png.rf.726ddcdb5e14d1f16f02f4651f0ab8d4.jpg\n",
            "img48_png.rf.726ddcdb5e14d1f16f02f4651f0ab8d4.txt\n",
            "img499_png.rf.cfb37215c6d75395ebba1f269802f5f3.jpg\n",
            "img499_png.rf.cfb37215c6d75395ebba1f269802f5f3.txt\n",
            "img60_png.rf.3765f8a5d13117d1935333b2a252f64f.jpg\n",
            "img60_png.rf.3765f8a5d13117d1935333b2a252f64f.txt\n",
            "img66_png.rf.201f69848a4be613f71f22e52797ae20.jpg\n",
            "img66_png.rf.201f69848a4be613f71f22e52797ae20.txt\n",
            "img73_png.rf.9e327b4e8695bb66194d2e6a937e4ee9.jpg\n",
            "img73_png.rf.9e327b4e8695bb66194d2e6a937e4ee9.txt\n",
            "img89_png.rf.c2452f559ed6aacc4f13ddcbe9540ec1.jpg\n",
            "img89_png.rf.c2452f559ed6aacc4f13ddcbe9540ec1.txt\n"
          ],
          "name": "stdout"
        }
      ]
    },
    {
      "cell_type": "code",
      "metadata": {
        "id": "qvaxbpmgIzTg",
        "colab": {
          "base_uri": "https://localhost:8080/"
        },
        "outputId": "2570d5a8-03d5-42fc-a183-63cab193ac77"
      },
      "source": [
        "#44 ms \n",
        "img_path = \"ed_data/test/img89_png.rf.c2452f559ed6aacc4f13ddcbe9540ec1.jpg\";\n",
        "duration, scores, labels, boxes = gtf.Predict(img_path, class_list, vis_threshold=0.6);"
      ],
      "execution_count": null,
      "outputs": [
        {
          "output_type": "stream",
          "text": [
            "Done. (0.042s)\n"
          ],
          "name": "stdout"
        }
      ]
    },
    {
      "cell_type": "code",
      "metadata": {
        "id": "mcG6fCiBI10x",
        "colab": {
          "base_uri": "https://localhost:8080/",
          "height": 433
        },
        "outputId": "aada1973-8ecc-464f-b37d-2470936a01b0"
      },
      "source": [
        "#looks pretty good! \n",
        "from IPython.display import Image\n",
        "Image(filename='output.jpg') "
      ],
      "execution_count": null,
      "outputs": [
        {
          "output_type": "execute_result",
          "data": {
            "image/jpeg": "[encoded data removed]",
            "text/plain": [
              "<IPython.core.display.Image object>"
            ]
          },
          "metadata": {
            "tags": []
          },
          "execution_count": 32
        }
      ]
    },
    {
      "cell_type": "code",
      "metadata": {
        "id": "EJ8-tXT5KMJF",
        "colab": {
          "base_uri": "https://localhost:8080/"
        },
        "outputId": "5193711c-3b40-4fde-d522-2dd79aa211ce"
      },
      "source": [
        "%cd yolov3/"
      ],
      "execution_count": null,
      "outputs": [
        {
          "output_type": "stream",
          "text": [
            "/content/yolov3\n"
          ],
          "name": "stdout"
        }
      ]
    },
    {
      "cell_type": "code",
      "metadata": {
        "colab": {
          "base_uri": "https://localhost:8080/"
        },
        "id": "zoiqydyLFyIo",
        "outputId": "3357198d-8c16-4832-b0b4-a3f31a62dfd4"
      },
      "source": [
        "!pwd"
      ],
      "execution_count": null,
      "outputs": [
        {
          "output_type": "stream",
          "text": [
            "/content/yolov3\n"
          ],
          "name": "stdout"
        }
      ]
    },
    {
      "cell_type": "code",
      "metadata": {
        "id": "-Yo7aAkhJwMm",
        "colab": {
          "base_uri": "https://localhost:8080/"
        },
        "outputId": "f00feb87-e779-4a75-d692-6b3bf2968fb1"
      },
      "source": [
        "#now inference with YoloV3\n",
        "#inference time is defined within detect.py \n",
        "#49 ms \n",
        "!python3 detect.py --weights weights/last.pt --source=../test/img89_png.rf.c2452f559ed6aacc4f13ddcbe9540ec1.jpg --names=../train/roboflow_data.names  --iou-thres 0.2 "
      ],
      "execution_count": null,
      "outputs": [
        {
          "output_type": "stream",
          "text": [
            "Namespace(agnostic_nms=False, cfg='cfg/yolov3-spp.cfg', classes=None, conf_thres=0.3, device='', fourcc='mp4v', half=False, img_size=416, iou_thres=0.2, names='../train/roboflow_data.names', output='output', save_txt=False, source='../test/img89_png.rf.c2452f559ed6aacc4f13ddcbe9540ec1.jpg', view_img=False, weights='weights/last.pt')\n",
            "Using CUDA device0 _CudaDeviceProperties(name='Tesla T4', total_memory=15079MB)\n",
            "\n",
            "Model Summary: 225 layers, 6.29987e+07 parameters, 6.29987e+07 gradients\n",
            "/content/yolov3/utils/utils.py:532: UserWarning: This overload of nonzero is deprecated:\n",
            "\tnonzero()\n",
            "Consider using one of the following signatures instead:\n",
            "\tnonzero(*, bool as_tuple) (Triggered internally at  /pytorch/torch/csrc/utils/python_arg_parser.cpp:882.)\n",
            "  i, j = (pred[:, 5:] > conf_thres).nonzero().t()\n",
            "image 1/1 ../test/img89_png.rf.c2452f559ed6aacc4f13ddcbe9540ec1.jpg: 416x416 2 planes, Done. (0.043s)\n",
            "Results saved to /content/yolov3/output\n",
            "Done. (0.053s)\n"
          ],
          "name": "stdout"
        }
      ]
    },
    {
      "cell_type": "code",
      "metadata": {
        "id": "1UorI0XEZHaj",
        "colab": {
          "base_uri": "https://localhost:8080/",
          "height": 433
        },
        "outputId": "bfed657c-77f0-4fa3-f2c4-6c9fec9a1049"
      },
      "source": [
        "# import libraries for display\n",
        "%matplotlib inline\n",
        "import matplotlib.pyplot as plt\n",
        "import numpy as np\n",
        "from IPython.display import display, Image\n",
        "from glob import glob\n",
        "import random\n",
        "import PIL\n",
        "# plot just one random image prediction\n",
        "filename = random.choice(os.listdir('./output'))\n",
        "print(filename)\n",
        "Image('./output/' + filename)\n",
        "\n",
        "# grab all images from our output directory\n",
        "images = [ PIL.Image.open(f) for f in glob('./output/*') ]\n",
        "# convert images to numPy\n",
        "def img2array(im):\n",
        "    if im.mode != 'RGB':\n",
        "        im = im.convert(mode='RGB')\n",
        "    return np.fromstring(im.tobytes(), dtype='uint8').reshape((im.size[1], im.size[0], 3))\n",
        "\n",
        "# create array of numPy images\n",
        "np_images = [ img2array(im) for im in images ]\n",
        "\n",
        "# plot ALL results in test directory (NOTE: adjust figsize as you please)\n",
        "for img in np_images:\n",
        "    plt.figure(figsize=(8, 6))\n",
        "    plt.imshow(img)\n",
        "\n"
      ],
      "execution_count": null,
      "outputs": [
        {
          "output_type": "stream",
          "text": [
            "img89_png.rf.c2452f559ed6aacc4f13ddcbe9540ec1.jpg\n"
          ],
          "name": "stdout"
        },
        {
          "output_type": "stream",
          "text": [
            "/usr/local/lib/python3.6/dist-packages/ipykernel_launcher.py:20: DeprecationWarning: The binary mode of fromstring is deprecated, as it behaves surprisingly on unicode inputs. Use frombuffer instead\n"
          ],
          "name": "stderr"
        },
        {
          "output_type": "display_data",
          "data": {
            "image/png": "[encoded data removed]",
            "text/plain": [
              "<Figure size 576x432 with 1 Axes>"
            ]
          },
          "metadata": {
            "tags": [],
            "needs_background": "light"
          }
        }
      ]
    },
    {
      "cell_type": "code",
      "metadata": {
        "id": "FRaAnpFdj9HK"
      },
      "source": [
        "# %cp -r /content/valid /content/valid2"
      ],
      "execution_count": null,
      "outputs": []
    },
    {
      "cell_type": "code",
      "metadata": {
        "colab": {
          "base_uri": "https://localhost:8080/"
        },
        "id": "6xORLfyss70e",
        "outputId": "bf138b67-2399-4de1-a82e-53cb79520930"
      },
      "source": [
        "%cd /content/yolov3"
      ],
      "execution_count": null,
      "outputs": [
        {
          "output_type": "stream",
          "text": [
            "/content/yolov3\n"
          ],
          "name": "stdout"
        }
      ]
    },
    {
      "cell_type": "code",
      "metadata": {
        "id": "mW8Rwcqdb5nt"
      },
      "source": [
        "#measuring inference accross test set\n",
        "\n",
        "for f in os.listdir('../test'):\n",
        "  if f.endswith('.jpg'):\n",
        "    !python3 detect.py --weights weights/last.pt --source=../test/{f} --names=../train/roboflow_data.names --iou-thres 0.2 \n"
      ],
      "execution_count": null,
      "outputs": []
    },
    {
      "cell_type": "code",
      "metadata": {
        "id": "cEmWENcqcXPm"
      },
      "source": [
        "%cd .. \n",
        "for f in os.listdir('test'):\n",
        "  if f.endswith('.jpg'):\n",
        "    duration, scores, labels, boxes = gtf.Predict('test/'+f, class_list, vis_threshold=0.2);"
      ],
      "execution_count": null,
      "outputs": []
    },
    {
      "cell_type": "code",
      "metadata": {
        "id": "IYRRjMdJd9AJ"
      },
      "source": [
        "#average inference time YOLOv3 39 ms\n",
        "#average inference time efficientDet 37 ms"
      ],
      "execution_count": null,
      "outputs": []
    },
    {
      "cell_type": "markdown",
      "metadata": {
        "id": "Sikj0gEvYTy2"
      },
      "source": [
        "# Measuring Performance"
      ]
    },
    {
      "cell_type": "code",
      "metadata": {
        "id": "Mu7AFMqrkVuo",
        "colab": {
          "base_uri": "https://localhost:8080/"
        },
        "outputId": "39abfd62-6373-49ba-974f-b4ecd370e606"
      },
      "source": [
        "%cd /content/\n",
        "!git clone https://github.com/Cartucho/mAP"
      ],
      "execution_count": null,
      "outputs": [
        {
          "output_type": "stream",
          "text": [
            "/content\n",
            "Cloning into 'mAP'...\n",
            "remote: Enumerating objects: 908, done.\u001b[K\n",
            "remote: Total 908 (delta 0), reused 0 (delta 0), pack-reused 908\u001b[K\n",
            "Receiving objects: 100% (908/908), 14.71 MiB | 41.04 MiB/s, done.\n",
            "Resolving deltas: 100% (321/321), done.\n"
          ],
          "name": "stdout"
        }
      ]
    },
    {
      "cell_type": "code",
      "metadata": {
        "colab": {
          "base_uri": "https://localhost:8080/"
        },
        "id": "-d0LekXaro3Q",
        "outputId": "dc00814e-43ce-4baa-fec1-d0b0e43b59bb"
      },
      "source": [
        "%cd /content/"
      ],
      "execution_count": null,
      "outputs": [
        {
          "output_type": "stream",
          "text": [
            "/content\n"
          ],
          "name": "stdout"
        }
      ]
    },
    {
      "cell_type": "code",
      "metadata": {
        "id": "0x0OmJxkqmlN"
      },
      "source": [
        "%cp test/_darknet.labels mAP/scripts/extra/class_list.txt\n",
        "%cp test/_darknet.labels mAP/input/\n"
      ],
      "execution_count": null,
      "outputs": []
    },
    {
      "cell_type": "code",
      "metadata": {
        "id": "RkHOd2uFroXK"
      },
      "source": [
        "%rm -rf mAP/input/ground-truth/\n",
        "%mkdir mAP/input/ground-truth/"
      ],
      "execution_count": null,
      "outputs": []
    },
    {
      "cell_type": "code",
      "metadata": {
        "id": "NM7A-pXvr8Rh"
      },
      "source": [
        "%rm -rf mAP/input/images\n",
        "%mkdir mAP/input/images"
      ],
      "execution_count": null,
      "outputs": []
    },
    {
      "cell_type": "code",
      "metadata": {
        "id": "XGMk-taLoq5J"
      },
      "source": [
        "%rm -rf mAP/input/images-optional/\n",
        "%mkdir mAP/input/images-optional/"
      ],
      "execution_count": null,
      "outputs": []
    },
    {
      "cell_type": "code",
      "metadata": {
        "id": "nXZKuRAGsEqy"
      },
      "source": [
        "%cp test/*txt mAP/input/ground-truth/"
      ],
      "execution_count": null,
      "outputs": []
    },
    {
      "cell_type": "code",
      "metadata": {
        "id": "jcQmcalVojd7"
      },
      "source": [
        "%cp test/*jpg mAP/input/images-optional/"
      ],
      "execution_count": null,
      "outputs": []
    },
    {
      "cell_type": "code",
      "metadata": {
        "id": "9Orm2p7ho95p"
      },
      "source": [
        "%cp test/*jpg mAP/input/images/"
      ],
      "execution_count": null,
      "outputs": []
    },
    {
      "cell_type": "markdown",
      "metadata": {
        "id": "JZ-n6038u-cS"
      },
      "source": [
        ""
      ]
    },
    {
      "cell_type": "code",
      "metadata": {
        "id": "U_dAjwMSsLV6"
      },
      "source": [
        "#%ls test\n",
        "%cp test/*jpg mAP/input/images-optional/"
      ],
      "execution_count": null,
      "outputs": []
    },
    {
      "cell_type": "code",
      "metadata": {
        "id": "6-ubY4uksWtK",
        "colab": {
          "base_uri": "https://localhost:8080/"
        },
        "outputId": "82ec5669-8477-4c10-81c5-6754ed50223b"
      },
      "source": [
        "%cd mAP/scripts/extra/"
      ],
      "execution_count": null,
      "outputs": [
        {
          "output_type": "stream",
          "text": [
            "/content/mAP/scripts/extra\n"
          ],
          "name": "stdout"
        }
      ]
    },
    {
      "cell_type": "code",
      "metadata": {
        "id": "b2x5P4Q1sgbi",
        "colab": {
          "base_uri": "https://localhost:8080/"
        },
        "outputId": "6f7abf17-72b2-4904-af08-4998c047a202"
      },
      "source": [
        "!python convert_gt_yolo.py"
      ],
      "execution_count": null,
      "outputs": [
        {
          "output_type": "stream",
          "text": [
            "Conversion completed!\n"
          ],
          "name": "stdout"
        }
      ]
    },
    {
      "cell_type": "code",
      "metadata": {
        "id": "q_kAOfmmsnEK",
        "colab": {
          "base_uri": "https://localhost:8080/"
        },
        "outputId": "444d3c76-e169-4a00-99f3-89bd0ab8ff53"
      },
      "source": [
        "%cd /content/mAP"
      ],
      "execution_count": null,
      "outputs": [
        {
          "output_type": "stream",
          "text": [
            "/content/mAP\n"
          ],
          "name": "stdout"
        }
      ]
    },
    {
      "cell_type": "code",
      "metadata": {
        "id": "GOFfV1K4uJSZ",
        "colab": {
          "base_uri": "https://localhost:8080/",
          "height": 34
        },
        "outputId": "85277178-1a35-457e-890a-840ca24e55cc"
      },
      "source": [
        "%cat input/ground-truth/1c0060ef868bdc326ce5e6389cb6732f_jpg.rf.a07af6147d4a79376c182d2d95c639ec.txt\n"
      ],
      "execution_count": null,
      "outputs": [
        {
          "output_type": "stream",
          "text": [
            "cat: input/ground-truth/1c0060ef868bdc326ce5e6389cb6732f_jpg.rf.a07af6147d4a79376c182d2d95c639ec.txt: No such file or directory\n"
          ],
          "name": "stdout"
        }
      ]
    },
    {
      "cell_type": "code",
      "metadata": {
        "id": "eL27BxmTuaF0",
        "colab": {
          "base_uri": "https://localhost:8080/"
        },
        "outputId": "2857c492-2f70-423d-9c6a-c3968e275e78"
      },
      "source": [
        "%cd /content"
      ],
      "execution_count": null,
      "outputs": [
        {
          "output_type": "stream",
          "text": [
            "/content\n"
          ],
          "name": "stdout"
        }
      ]
    },
    {
      "cell_type": "code",
      "metadata": {
        "id": "VUpB1tGSfvvq"
      },
      "source": [
        "%rm -rf mAP/input/detection-results/"
      ],
      "execution_count": null,
      "outputs": []
    },
    {
      "cell_type": "code",
      "metadata": {
        "id": "JGJOjXoDv66Q"
      },
      "source": [
        "\n",
        "%mkdir mAP/input/detection-results/"
      ],
      "execution_count": null,
      "outputs": []
    },
    {
      "cell_type": "code",
      "metadata": {
        "id": "NXvKv4OtvXbn",
        "colab": {
          "base_uri": "https://localhost:8080/"
        },
        "outputId": "09dfd18d-7259-433a-9a34-76904e70cff6"
      },
      "source": [
        "for f in os.listdir('test'):\n",
        "  if f.endswith('.jpg'):\n",
        "    duration, scores, labels, boxes = gtf.Predict('test/'+f, class_list, vis_threshold=0.2);\n",
        "    scores = scores.tolist()\n",
        "    boxes = boxes.tolist()\n",
        "    labels = labels.tolist()\n",
        "    with open('mAP/input/detection-results/' + f[:-4] + '.txt', 'w') as out_file:\n",
        "      #write detection result\n",
        "      for i in range(len(scores)):\n",
        "        #print(scores)\n",
        "        line = class_list[labels[i]] + ' ' + str(scores[i]) + ' ' + str(' '.join([str(j) for j in boxes[i]]))\n",
        "        out_file.write(line)\n",
        "        if i < len(scores) - 1:\n",
        "          out_file.write('\\n')\n",
        "\n"
      ],
      "execution_count": null,
      "outputs": [
        {
          "output_type": "stream",
          "text": [
            "Done. (0.041s)\n",
            "Done. (0.036s)\n",
            "Done. (0.035s)\n",
            "Done. (0.035s)\n",
            "Done. (0.037s)\n",
            "Done. (0.035s)\n",
            "Done. (0.035s)\n",
            "Done. (0.034s)\n",
            "Done. (0.037s)\n",
            "Done. (0.044s)\n",
            "Done. (0.033s)\n",
            "Done. (0.033s)\n",
            "Done. (0.033s)\n",
            "Done. (0.033s)\n",
            "Done. (0.033s)\n",
            "Done. (0.033s)\n",
            "Done. (0.037s)\n",
            "Done. (0.037s)\n",
            "Done. (0.035s)\n",
            "Done. (0.039s)\n",
            "Done. (0.036s)\n",
            "Done. (0.036s)\n",
            "Done. (0.036s)\n",
            "Done. (0.040s)\n",
            "Done. (0.037s)\n",
            "Done. (0.036s)\n",
            "Done. (0.036s)\n",
            "Done. (0.036s)\n",
            "Done. (0.035s)\n",
            "Done. (0.038s)\n",
            "Done. (0.034s)\n",
            "Done. (0.042s)\n",
            "Done. (0.035s)\n",
            "Done. (0.035s)\n",
            "Done. (0.042s)\n",
            "Done. (0.034s)\n",
            "Done. (0.036s)\n",
            "Done. (0.034s)\n",
            "Done. (0.036s)\n",
            "Done. (0.034s)\n",
            "Done. (0.033s)\n",
            "Done. (0.034s)\n",
            "Done. (0.035s)\n",
            "Done. (0.034s)\n",
            "Done. (0.038s)\n",
            "Done. (0.034s)\n",
            "Done. (0.035s)\n",
            "Done. (0.034s)\n",
            "Done. (0.034s)\n"
          ],
          "name": "stdout"
        }
      ]
    },
    {
      "cell_type": "code",
      "metadata": {
        "id": "5eLsafjz1RXA",
        "colab": {
          "base_uri": "https://localhost:8080/"
        },
        "outputId": "d1a48732-e11e-4e15-902a-8d8c3135abb2"
      },
      "source": [
        "%cd mAP/"
      ],
      "execution_count": null,
      "outputs": [
        {
          "output_type": "stream",
          "text": [
            "/content/mAP\n"
          ],
          "name": "stdout"
        }
      ]
    },
    {
      "cell_type": "code",
      "metadata": {
        "id": "-78frQ4211c8",
        "colab": {
          "base_uri": "https://localhost:8080/"
        },
        "outputId": "9fe8a0a2-b777-44a8-b6bd-e404ddf1d664"
      },
      "source": [
        "#evaluation results for EfficientDet\n",
        "!python main.py -na"
      ],
      "execution_count": null,
      "outputs": [
        {
          "output_type": "stream",
          "text": [
            "62.51% = plane AP \n",
            "mAP = 62.51%\n",
            "<Figure size 640x480 with 1 Axes>\n"
          ],
          "name": "stdout"
        }
      ]
    },
    {
      "cell_type": "code",
      "metadata": {
        "id": "kqFxs2o_3six",
        "colab": {
          "base_uri": "https://localhost:8080/"
        },
        "outputId": "d7c7bdfd-599e-49a7-9a16-c3500ddf1a05"
      },
      "source": [
        "\n",
        "%cd .."
      ],
      "execution_count": null,
      "outputs": [
        {
          "output_type": "stream",
          "text": [
            "/content\n"
          ],
          "name": "stdout"
        }
      ]
    },
    {
      "cell_type": "code",
      "metadata": {
        "colab": {
          "base_uri": "https://localhost:8080/"
        },
        "id": "Wsf7Svdqr_bv",
        "outputId": "bf5d546a-1a24-4a10-963a-908de9b6174d"
      },
      "source": [
        "!pwd"
      ],
      "execution_count": null,
      "outputs": [
        {
          "output_type": "stream",
          "text": [
            "/content/mAP\n"
          ],
          "name": "stdout"
        }
      ]
    },
    {
      "cell_type": "code",
      "metadata": {
        "id": "dVhK1-hF5FNO",
        "colab": {
          "base_uri": "https://localhost:8080/"
        },
        "outputId": "9744e073-430a-45c6-f8a0-e806079fdbbb"
      },
      "source": [
        "%cd /content/yolov3/"
      ],
      "execution_count": null,
      "outputs": [
        {
          "output_type": "stream",
          "text": [
            "/content/yolov3\n"
          ],
          "name": "stdout"
        }
      ]
    },
    {
      "cell_type": "code",
      "metadata": {
        "id": "NgEpGJXlL94V"
      },
      "source": [
        "# %rm -rf yolov3  # remove existing\n",
        "# !git clone https://github.com/ultralytics/yolov3 && cd yolov3"
      ],
      "execution_count": null,
      "outputs": []
    },
    {
      "cell_type": "code",
      "metadata": {
        "id": "BDXOC8X95Jm0",
        "colab": {
          "base_uri": "https://localhost:8080/"
        },
        "outputId": "822e9e03-8362-4a77-e00a-eb6a7a020b66"
      },
      "source": [
        "!python3 detect.py --weights weights/last.pt --source=../test/ --names=../train/roboflow_data.names --save-txt --iou-thres 0.2 --output outputLast"
      ],
      "execution_count": null,
      "outputs": [
        {
          "output_type": "stream",
          "text": [
            "Namespace(agnostic_nms=False, cfg='cfg/yolov3-spp.cfg', classes=None, conf_thres=0.3, device='', fourcc='mp4v', half=False, img_size=416, iou_thres=0.2, names='../train/roboflow_data.names', output='outputLast', save_txt=True, source='../test/', view_img=False, weights='weights/last.pt')\n",
            "Using CUDA device0 _CudaDeviceProperties(name='Tesla T4', total_memory=15079MB)\n",
            "\n",
            "Model Summary: 225 layers, 6.29987e+07 parameters, 6.29987e+07 gradients\n",
            "/content/yolov3/utils/utils.py:532: UserWarning: This overload of nonzero is deprecated:\n",
            "\tnonzero()\n",
            "Consider using one of the following signatures instead:\n",
            "\tnonzero(*, bool as_tuple) (Triggered internally at  /pytorch/torch/csrc/utils/python_arg_parser.cpp:882.)\n",
            "  i, j = (pred[:, 5:] > conf_thres).nonzero().t()\n",
            "image 1/49 ../test/img104_png.rf.14d4a786fbf69dcc683def4e78965a85.jpg: 416x416 6 planes, Done. (0.046s)\n",
            "image 2/49 ../test/img107_png.rf.cd910224fbc56ebb2ef95373e0a5e038.jpg: 416x416 3 planes, Done. (0.035s)\n",
            "image 3/49 ../test/img124_png.rf.de0d384967047520a148f25953ed8cb1.jpg: 416x416 3 planes, Done. (0.034s)\n",
            "image 4/49 ../test/img145_png.rf.cb601f2a04d7a401d6a907667f980ac3.jpg: 416x416 2 planes, Done. (0.034s)\n",
            "image 5/49 ../test/img146_png.rf.f23797e3de67ccbf7f1c2143197b3b17.jpg: 416x416 11 planes, Done. (0.034s)\n",
            "image 6/49 ../test/img147_png.rf.c749ee43aebfdcf667e280e235571dad.jpg: 416x416 8 planes, Done. (0.032s)\n",
            "image 7/49 ../test/img149_png.rf.e3dc00286bffb2d15d557a2903690bd9.jpg: 416x416 4 planes, Done. (0.021s)\n",
            "image 8/49 ../test/img153_png.rf.c2347312df1b91bf79e253de41f4b770.jpg: 416x416 5 planes, Done. (0.021s)\n",
            "image 9/49 ../test/img155_png.rf.319f9f71a2c56621bdb45489503c8130.jpg: 416x416 4 planes, Done. (0.020s)\n",
            "image 10/49 ../test/img156_png.rf.5ea3bad30fed8b44034fd55edfd83923.jpg: 416x416 10 planes, Done. (0.020s)\n",
            "image 11/49 ../test/img162_png.rf.31cef160cfd4582a28a271e3f80dc987.jpg: 416x416 6 planes, Done. (0.020s)\n",
            "image 12/49 ../test/img177_png.rf.c7df2564a3bc35b866f02475347fe64c.jpg: 416x416 8 planes, Done. (0.020s)\n",
            "image 13/49 ../test/img188_png.rf.ab78fad8c0bbcedb5fd91e12e9c4a465.jpg: 416x416 6 planes, Done. (0.021s)\n",
            "image 14/49 ../test/img194_png.rf.691735123822c86442bbdd4333f87a4f.jpg: 416x416 7 planes, Done. (0.020s)\n",
            "image 15/49 ../test/img200_png.rf.0aae4717f02ee1cc0f50f5fd56cd0781.jpg: 416x416 9 planes, Done. (0.021s)\n",
            "image 16/49 ../test/img210_png.rf.4a1d5c3f3859987aaf83993138387e4b.jpg: 416x416 8 planes, Done. (0.020s)\n",
            "image 17/49 ../test/img215_png.rf.eb65a1f35d3b349569a8088793e31108.jpg: 416x416 11 planes, Done. (0.021s)\n",
            "image 18/49 ../test/img236_png.rf.ff5ded1539b635b119e7aad9187c1f7e.jpg: 416x416 9 planes, Done. (0.020s)\n",
            "image 19/49 ../test/img259_png.rf.34aeffb14fc82140f4d4c82a0929ffe6.jpg: 416x416 4 planes, Done. (0.021s)\n",
            "image 20/49 ../test/img273_png.rf.382e6e52df34390d39daa00dc47a7e1c.jpg: 416x416 4 planes, Done. (0.020s)\n",
            "image 21/49 ../test/img280_png.rf.a205cf5499ed1f8cb41c18850edbff1a.jpg: 416x416 1 planes, Done. (0.021s)\n",
            "image 22/49 ../test/img289_png.rf.c04b736b83edc9556b990a047f43ccba.jpg: 416x416 3 planes, Done. (0.020s)\n",
            "image 23/49 ../test/img29_png.rf.7494a07052a3792908eb68e9faf07a23.jpg: 416x416 1 planes, Done. (0.021s)\n",
            "image 24/49 ../test/img310_png.rf.8375662d408b18b0952ad0e0e6a2d1cb.jpg: 416x416 8 planes, Done. (0.020s)\n",
            "image 25/49 ../test/img311_png.rf.9aee206fec9e75b5f78e77b68b1c30c8.jpg: 416x416 6 planes, Done. (0.021s)\n",
            "image 26/49 ../test/img316_png.rf.5862e214a9c5112b2e34c3a057aedaa9.jpg: 416x416 11 planes, Done. (0.020s)\n",
            "image 27/49 ../test/img319_png.rf.b3fa8f7663fd6d689c16d619b3d2a5c7.jpg: 416x416 5 planes, Done. (0.020s)\n",
            "image 28/49 ../test/img333_png.rf.ca04fe6ea5a8aae52836808ca33d8a5b.jpg: 416x416 4 planes, Done. (0.020s)\n",
            "image 29/49 ../test/img336_png.rf.2308167a5171a1fb97e328fbcbba1d48.jpg: 416x416 1 planes, Done. (0.020s)\n",
            "image 30/49 ../test/img359_png.rf.3254e594054b1a55cbf104a2623dcf64.jpg: 416x416 2 planes, Done. (0.021s)\n",
            "image 31/49 ../test/img35_png.rf.dd4d28096e93d1ad0b13a0ffc6a7f3f9.jpg: 416x416 6 planes, Done. (0.020s)\n",
            "image 32/49 ../test/img371_png.rf.9d41bbdff72a015979dbf297c8b72101.jpg: 416x416 5 planes, Done. (0.021s)\n",
            "image 33/49 ../test/img374_png.rf.e3b8b2afcafb8dad107392e575a1753c.jpg: 416x416 15 planes, Done. (0.020s)\n",
            "image 34/49 ../test/img383_png.rf.0b1e8f619e46c37ce8e6433e4ccb77d0.jpg: 416x416 3 planes, Done. (0.021s)\n",
            "image 35/49 ../test/img400_png.rf.34fa9ef18437561d4922f69c1dec2e5a.jpg: 416x416 1 planes, Done. (0.020s)\n",
            "image 36/49 ../test/img439_png.rf.c32b4fb317ecfe723708a71fb1097c74.jpg: 416x416 8 planes, Done. (0.021s)\n",
            "image 37/49 ../test/img448_png.rf.524b66bd83f1d767f7ccab443d6fb6c9.jpg: 416x416 1 planes, Done. (0.020s)\n",
            "image 38/49 ../test/img455_png.rf.1229b3e1b0f8989250785d45eeff1ae0.jpg: 416x416 2 planes, Done. (0.021s)\n",
            "image 39/49 ../test/img458_png.rf.ea4d2745f444214e50be53cd6a4df483.jpg: 416x416 9 planes, Done. (0.020s)\n",
            "image 40/49 ../test/img460_png.rf.f118d37c0da53cc6d666479ff5a74eeb.jpg: 416x416 13 planes, Done. (0.021s)\n",
            "image 41/49 ../test/img463_png.rf.6ba81ea15d5236d00483602c15e08c07.jpg: 416x416 1 planes, Done. (0.020s)\n",
            "image 42/49 ../test/img468_png.rf.1b1d21e7c6c4f09287d7607f636c8365.jpg: 416x416 6 planes, Done. (0.020s)\n",
            "image 43/49 ../test/img484_png.rf.3bda1ed1cd6cb0dbab9c001f69ecc665.jpg: 416x416 1 planes, Done. (0.020s)\n",
            "image 44/49 ../test/img48_png.rf.726ddcdb5e14d1f16f02f4651f0ab8d4.jpg: 416x416 7 planes, Done. (0.020s)\n",
            "image 45/49 ../test/img499_png.rf.cfb37215c6d75395ebba1f269802f5f3.jpg: 416x416 4 planes, Done. (0.020s)\n",
            "image 46/49 ../test/img60_png.rf.3765f8a5d13117d1935333b2a252f64f.jpg: 416x416 3 planes, Done. (0.020s)\n",
            "image 47/49 ../test/img66_png.rf.201f69848a4be613f71f22e52797ae20.jpg: 416x416 10 planes, Done. (0.021s)\n",
            "image 48/49 ../test/img73_png.rf.9e327b4e8695bb66194d2e6a937e4ee9.jpg: 416x416 2 planes, Done. (0.020s)\n",
            "image 49/49 ../test/img89_png.rf.c2452f559ed6aacc4f13ddcbe9540ec1.jpg: 416x416 2 planes, Done. (0.021s)\n",
            "Results saved to /content/yolov3/outputLast\n",
            "Done. (1.615s)\n"
          ],
          "name": "stdout"
        }
      ]
    },
    {
      "cell_type": "code",
      "metadata": {
        "id": "PrdqxyOY68ns",
        "colab": {
          "base_uri": "https://localhost:8080/"
        },
        "outputId": "f85d7290-d1eb-4303-857a-7c681804a9be"
      },
      "source": [
        "#reorder and write to mAP calc\n",
        "%cd ..\n",
        "%rm -rf mAP/input/detection-results/\n",
        "%mkdir mAP/input/detection-results/\n",
        "\n",
        "for f in os.listdir('yolov3/outputLast/'):\n",
        "  if f.endswith('txt'):\n",
        "    print(f)\n",
        "    with open('mAP/input/detection-results/' + f[:-8] + '.txt', 'w') as out_file:\n",
        "      with open('yolov3/outputLast/' + f) as read_file:\n",
        "        lines = read_file.readlines()\n",
        "        for line in lines:\n",
        "          line = line.split()\n",
        "          out_file.write(class_list[int(line[4]) + 1] + ' ' + line[5] + ' ' + ' '.join(line[0:4]))\n",
        "          out_file.write('\\n')\n",
        "\n"
      ],
      "execution_count": null,
      "outputs": [
        {
          "output_type": "stream",
          "text": [
            "/content\n",
            "img156_png.rf.5ea3bad30fed8b44034fd55edfd83923.jpg.txt\n",
            "img66_png.rf.201f69848a4be613f71f22e52797ae20.jpg.txt\n",
            "img177_png.rf.c7df2564a3bc35b866f02475347fe64c.jpg.txt\n",
            "img289_png.rf.c04b736b83edc9556b990a047f43ccba.jpg.txt\n",
            "img60_png.rf.3765f8a5d13117d1935333b2a252f64f.jpg.txt\n",
            "img499_png.rf.cfb37215c6d75395ebba1f269802f5f3.jpg.txt\n",
            "img149_png.rf.e3dc00286bffb2d15d557a2903690bd9.jpg.txt\n",
            "img371_png.rf.9d41bbdff72a015979dbf297c8b72101.jpg.txt\n",
            "img311_png.rf.9aee206fec9e75b5f78e77b68b1c30c8.jpg.txt\n",
            "img73_png.rf.9e327b4e8695bb66194d2e6a937e4ee9.jpg.txt\n",
            "img383_png.rf.0b1e8f619e46c37ce8e6433e4ccb77d0.jpg.txt\n",
            "img29_png.rf.7494a07052a3792908eb68e9faf07a23.jpg.txt\n",
            "img484_png.rf.3bda1ed1cd6cb0dbab9c001f69ecc665.jpg.txt\n",
            "img400_png.rf.34fa9ef18437561d4922f69c1dec2e5a.jpg.txt\n",
            "img162_png.rf.31cef160cfd4582a28a271e3f80dc987.jpg.txt\n",
            "img455_png.rf.1229b3e1b0f8989250785d45eeff1ae0.jpg.txt\n",
            "img374_png.rf.e3b8b2afcafb8dad107392e575a1753c.jpg.txt\n",
            "img463_png.rf.6ba81ea15d5236d00483602c15e08c07.jpg.txt\n",
            "img259_png.rf.34aeffb14fc82140f4d4c82a0929ffe6.jpg.txt\n",
            "img188_png.rf.ab78fad8c0bbcedb5fd91e12e9c4a465.jpg.txt\n",
            "img155_png.rf.319f9f71a2c56621bdb45489503c8130.jpg.txt\n",
            "img146_png.rf.f23797e3de67ccbf7f1c2143197b3b17.jpg.txt\n",
            "img147_png.rf.c749ee43aebfdcf667e280e235571dad.jpg.txt\n",
            "img89_png.rf.c2452f559ed6aacc4f13ddcbe9540ec1.jpg.txt\n",
            "img194_png.rf.691735123822c86442bbdd4333f87a4f.jpg.txt\n",
            "img48_png.rf.726ddcdb5e14d1f16f02f4651f0ab8d4.jpg.txt\n",
            "img145_png.rf.cb601f2a04d7a401d6a907667f980ac3.jpg.txt\n",
            "img458_png.rf.ea4d2745f444214e50be53cd6a4df483.jpg.txt\n",
            "img359_png.rf.3254e594054b1a55cbf104a2623dcf64.jpg.txt\n",
            "img107_png.rf.cd910224fbc56ebb2ef95373e0a5e038.jpg.txt\n",
            "img153_png.rf.c2347312df1b91bf79e253de41f4b770.jpg.txt\n",
            "img273_png.rf.382e6e52df34390d39daa00dc47a7e1c.jpg.txt\n",
            "img439_png.rf.c32b4fb317ecfe723708a71fb1097c74.jpg.txt\n",
            "img35_png.rf.dd4d28096e93d1ad0b13a0ffc6a7f3f9.jpg.txt\n",
            "img336_png.rf.2308167a5171a1fb97e328fbcbba1d48.jpg.txt\n",
            "img333_png.rf.ca04fe6ea5a8aae52836808ca33d8a5b.jpg.txt\n",
            "img316_png.rf.5862e214a9c5112b2e34c3a057aedaa9.jpg.txt\n",
            "img280_png.rf.a205cf5499ed1f8cb41c18850edbff1a.jpg.txt\n",
            "img468_png.rf.1b1d21e7c6c4f09287d7607f636c8365.jpg.txt\n",
            "img215_png.rf.eb65a1f35d3b349569a8088793e31108.jpg.txt\n",
            "img200_png.rf.0aae4717f02ee1cc0f50f5fd56cd0781.jpg.txt\n",
            "img319_png.rf.b3fa8f7663fd6d689c16d619b3d2a5c7.jpg.txt\n",
            "img448_png.rf.524b66bd83f1d767f7ccab443d6fb6c9.jpg.txt\n",
            "img236_png.rf.ff5ded1539b635b119e7aad9187c1f7e.jpg.txt\n",
            "img124_png.rf.de0d384967047520a148f25953ed8cb1.jpg.txt\n",
            "img210_png.rf.4a1d5c3f3859987aaf83993138387e4b.jpg.txt\n",
            "img104_png.rf.14d4a786fbf69dcc683def4e78965a85.jpg.txt\n",
            "img460_png.rf.f118d37c0da53cc6d666479ff5a74eeb.jpg.txt\n",
            "img310_png.rf.8375662d408b18b0952ad0e0e6a2d1cb.jpg.txt\n"
          ],
          "name": "stdout"
        }
      ]
    },
    {
      "cell_type": "code",
      "metadata": {
        "id": "-olH1Fue9yzO",
        "colab": {
          "base_uri": "https://localhost:8080/"
        },
        "outputId": "414b2a96-67c8-4e15-d3fd-e02891308508"
      },
      "source": [
        "%cd /content/mAP\n",
        "#!python scripts/extra/intersect-gt-and-dr.py\n",
        "!python main.py -na"
      ],
      "execution_count": null,
      "outputs": [
        {
          "output_type": "stream",
          "text": [
            "/content/mAP\n",
            "67.26% = plane AP \n",
            "mAP = 67.26%\n",
            "<Figure size 640x480 with 1 Axes>\n"
          ],
          "name": "stdout"
        }
      ]
    },
    {
      "cell_type": "code",
      "metadata": {
        "id": "KyO7IS8mug8J"
      },
      "source": [
        "%cp /content/valid2/images/*jpg /content/valid2"
      ],
      "execution_count": null,
      "outputs": []
    },
    {
      "cell_type": "code",
      "metadata": {
        "id": "0KxF3jAU42j8"
      },
      "source": [
        "%cp /content/valid2/labels/*txt /content/valid2"
      ],
      "execution_count": null,
      "outputs": []
    },
    {
      "cell_type": "code",
      "metadata": {
        "id": "iJ7CcP_n5EZK"
      },
      "source": [
        "%rm -rf /content/valid2/images"
      ],
      "execution_count": null,
      "outputs": []
    },
    {
      "cell_type": "code",
      "metadata": {
        "id": "Y5QO1S3u8izL"
      },
      "source": [
        "\n",
        "\n",
        "# img46_png.rf.c2452998eff2a3512c05bc2f9328903d\n",
        "# img140_png.rf.87db1a5c1267a7d76ed91372d05c8bc6\n",
        "# img250_png.rf.f07cd896b175a1d79a5d5c57b85ab5dc\n",
        "# img322_png.rf.f058405cc1a405c1a2d65eccd1f55daa\n",
        "# img286_png.rf.cacc154c861334991cdd0d5a46372d16\n",
        "\n",
        "\n",
        "\n",
        "# img147_png.rf.c749ee43aebfdcf667e280e235571dad\n",
        "# img162_png.rf.31cef160cfd4582a28a271e3f80dc987\n",
        "# img177_png.rf.c7df2564a3bc35b866f02475347fe64c\n",
        "# img316_png.rf.5862e214a9c5112b2e34c3a057aedaa9\n",
        "# img319_png.rf.b3fa8f7663fd6d689c16d619b3d2a5c7"
      ],
      "execution_count": null,
      "outputs": []
    }
  ]
}